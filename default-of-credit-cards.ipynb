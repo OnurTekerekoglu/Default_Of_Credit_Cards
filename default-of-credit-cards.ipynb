{
 "cells": [
  {
   "cell_type": "markdown",
   "id": "f74a86d5",
   "metadata": {
    "_cell_guid": "b1076dfc-b9ad-4769-8c92-a6c4dae69d19",
    "_uuid": "8f2839f25d086af736a60e9eeb907d3b93b6e0e5",
    "execution": {
     "iopub.execute_input": "2022-12-11T17:55:09.415590Z",
     "iopub.status.busy": "2022-12-11T17:55:09.415153Z",
     "iopub.status.idle": "2022-12-11T17:55:09.968866Z",
     "shell.execute_reply": "2022-12-11T17:55:09.967133Z",
     "shell.execute_reply.started": "2022-12-11T17:55:09.415501Z"
    },
    "papermill": {
     "duration": 0.024547,
     "end_time": "2022-12-13T09:54:02.230857",
     "exception": false,
     "start_time": "2022-12-13T09:54:02.206310",
     "status": "completed"
    },
    "tags": []
   },
   "source": [
    "# INTRODUCTION\n",
    "There are 25 variables:\n",
    "\n",
    "* **ID**: ID of each client\n",
    "* **LIMIT_BAL**: Amount of given credit in NT dollars (includes individual and family/supplementary credit\n",
    "* **SEX**: Gender (1=male, 2=female)\n",
    "* **EDUCATION**: (1=graduate school, 2=university, 3=high school, 4=others, 5=unknown, 6=unknown)\n",
    "* **MARRIAGE**: Marital status (1=married, 2=single, 3=others)\n",
    "* **AGE**: Age in years\n",
    "* **PAY_0**: Repayment status in September, 2005 (-1=pay duly, 1=payment delay for one month, 2=payment delay for two months, ... 8=payment delay for eight months, 9=payment delay for nine months and above)\n",
    "* **PAY_2**: Repayment status in August, 2005 (scale same as above)\n",
    "* **PAY_3**: Repayment status in July, 2005 (scale same as above)\n",
    "* **PAY_4**: Repayment status in June, 2005 (scale same as above)\n",
    "* **PAY_5**: Repayment status in May, 2005 (scale same as above)\n",
    "* **PAY_6**: Repayment status in April, 2005 (scale same as above)\n",
    "* **BILL_AMT1**: Amount of bill statement in September, 2005 (NT dollar)\n",
    "* **BILL_AMT2**: Amount of bill statement in August, 2005 (NT dollar)\n",
    "* **BILL_AMT3**: Amount of bill statement in July, 2005 (NT dollar)\n",
    "* **BILL_AMT4**: Amount of bill statement in June, 2005 (NT dollar)\n",
    "* **BILL_AMT5**: Amount of bill statement in May, 2005 (NT dollar)\n",
    "* **BILL_AMT6**: Amount of bill statement in April, 2005 (NT dollar)\n",
    "* **PAY_AMT1**: Amount of previous payment in September, 2005 (NT dollar)\n",
    "* **PAY_AMT2**: Amount of previous payment in August, 2005 (NT dollar)\n",
    "* **PAY_AMT3**: Amount of previous payment in July, 2005 (NT dollar)\n",
    "* **PAY_AMT4**: Amount of previous payment in June, 2005 (NT dollar)\n",
    "* **PAY_AMT5**: Amount of previous payment in May, 2005 (NT dollar)\n",
    "* **PAY_AMT6**: Amount of previous payment in April, 2005 (NT dollar)\n",
    "* **default.payment.next.month**: Default payment (1=yes, 0=no)"
   ]
  },
  {
   "cell_type": "markdown",
   "id": "b1525096",
   "metadata": {
    "papermill": {
     "duration": 0.020512,
     "end_time": "2022-12-13T09:54:02.271718",
     "exception": false,
     "start_time": "2022-12-13T09:54:02.251206",
     "status": "completed"
    },
    "tags": []
   },
   "source": [
    "<font color = \"red\">\n",
    "Content:\n",
    "    \n",
    "1. [Load And Check Data](#1)           \n",
    "1. [Feature Engineering](#2)\n",
    "    * [Marriage](#3)\n",
    "    * [Education](#4)\n",
    "    * [Sex](#5)\n",
    "    * [Normalizations](#6)\n",
    "    * [Age](#7)  \n",
    "1. [Modeling](#8)\n",
    "    * [Train - Test Split](#9)\n",
    "    * [Training Models](#10)\n",
    "        * [Ada Boost Classifier](#11)           \n",
    "        * [MLPClassifier](#12)\n",
    "1. [Conclusion](#13)  "
   ]
  },
  {
   "cell_type": "code",
   "execution_count": null,
   "id": "7d152a65",
   "metadata": {
    "papermill": {
     "duration": 0.019716,
     "end_time": "2022-12-13T09:54:02.311390",
     "exception": false,
     "start_time": "2022-12-13T09:54:02.291674",
     "status": "completed"
    },
    "tags": []
   },
   "outputs": [],
   "source": []
  },
  {
   "cell_type": "markdown",
   "id": "758dd7d4",
   "metadata": {
    "papermill": {
     "duration": 0.022689,
     "end_time": "2022-12-13T09:54:02.354249",
     "exception": false,
     "start_time": "2022-12-13T09:54:02.331560",
     "status": "completed"
    },
    "tags": []
   },
   "source": [
    "<a id= \"1\"></a>\n",
    "# Load And Check Data"
   ]
  },
  {
   "cell_type": "code",
   "execution_count": 1,
   "id": "8cdd36ee",
   "metadata": {
    "execution": {
     "iopub.execute_input": "2022-12-13T09:54:02.401618Z",
     "iopub.status.busy": "2022-12-13T09:54:02.400793Z",
     "iopub.status.idle": "2022-12-13T09:54:03.624889Z",
     "shell.execute_reply": "2022-12-13T09:54:03.623522Z"
    },
    "papermill": {
     "duration": 1.249865,
     "end_time": "2022-12-13T09:54:03.627896",
     "exception": false,
     "start_time": "2022-12-13T09:54:02.378031",
     "status": "completed"
    },
    "tags": []
   },
   "outputs": [],
   "source": [
    "import pandas as pd\n",
    "import numpy as np\n",
    "import seaborn as sns\n",
    "sns.set_theme(style=\"whitegrid\")\n",
    "import matplotlib.pyplot as plt\n",
    "pd.set_option('display.max_columns', 100)\n",
    "import warnings\n",
    "warnings.filterwarnings(\"ignore\")"
   ]
  },
  {
   "cell_type": "code",
   "execution_count": 2,
   "id": "d00b9f4e",
   "metadata": {
    "execution": {
     "iopub.execute_input": "2022-12-13T09:54:03.669666Z",
     "iopub.status.busy": "2022-12-13T09:54:03.669212Z",
     "iopub.status.idle": "2022-12-13T09:54:03.869972Z",
     "shell.execute_reply": "2022-12-13T09:54:03.868741Z"
    },
    "papermill": {
     "duration": 0.22549,
     "end_time": "2022-12-13T09:54:03.873199",
     "exception": false,
     "start_time": "2022-12-13T09:54:03.647709",
     "status": "completed"
    },
    "tags": []
   },
   "outputs": [],
   "source": [
    "df = pd.read_csv(\"/kaggle/input/default-of-credit-card-clients-dataset/UCI_Credit_Card.csv\")"
   ]
  },
  {
   "cell_type": "code",
   "execution_count": 3,
   "id": "d284625c",
   "metadata": {
    "execution": {
     "iopub.execute_input": "2022-12-13T09:54:03.915518Z",
     "iopub.status.busy": "2022-12-13T09:54:03.914815Z",
     "iopub.status.idle": "2022-12-13T09:54:03.951295Z",
     "shell.execute_reply": "2022-12-13T09:54:03.950098Z"
    },
    "papermill": {
     "duration": 0.061237,
     "end_time": "2022-12-13T09:54:03.954543",
     "exception": false,
     "start_time": "2022-12-13T09:54:03.893306",
     "status": "completed"
    },
    "tags": []
   },
   "outputs": [
    {
     "data": {
      "text/html": [
       "<div>\n",
       "<style scoped>\n",
       "    .dataframe tbody tr th:only-of-type {\n",
       "        vertical-align: middle;\n",
       "    }\n",
       "\n",
       "    .dataframe tbody tr th {\n",
       "        vertical-align: top;\n",
       "    }\n",
       "\n",
       "    .dataframe thead th {\n",
       "        text-align: right;\n",
       "    }\n",
       "</style>\n",
       "<table border=\"1\" class=\"dataframe\">\n",
       "  <thead>\n",
       "    <tr style=\"text-align: right;\">\n",
       "      <th></th>\n",
       "      <th>ID</th>\n",
       "      <th>LIMIT_BAL</th>\n",
       "      <th>SEX</th>\n",
       "      <th>EDUCATION</th>\n",
       "      <th>MARRIAGE</th>\n",
       "      <th>AGE</th>\n",
       "      <th>PAY_0</th>\n",
       "      <th>PAY_2</th>\n",
       "      <th>PAY_3</th>\n",
       "      <th>PAY_4</th>\n",
       "      <th>PAY_5</th>\n",
       "      <th>PAY_6</th>\n",
       "      <th>BILL_AMT1</th>\n",
       "      <th>BILL_AMT2</th>\n",
       "      <th>BILL_AMT3</th>\n",
       "      <th>BILL_AMT4</th>\n",
       "      <th>BILL_AMT5</th>\n",
       "      <th>BILL_AMT6</th>\n",
       "      <th>PAY_AMT1</th>\n",
       "      <th>PAY_AMT2</th>\n",
       "      <th>PAY_AMT3</th>\n",
       "      <th>PAY_AMT4</th>\n",
       "      <th>PAY_AMT5</th>\n",
       "      <th>PAY_AMT6</th>\n",
       "      <th>default.payment.next.month</th>\n",
       "    </tr>\n",
       "  </thead>\n",
       "  <tbody>\n",
       "    <tr>\n",
       "      <th>0</th>\n",
       "      <td>1</td>\n",
       "      <td>20000.0</td>\n",
       "      <td>2</td>\n",
       "      <td>2</td>\n",
       "      <td>1</td>\n",
       "      <td>24</td>\n",
       "      <td>2</td>\n",
       "      <td>2</td>\n",
       "      <td>-1</td>\n",
       "      <td>-1</td>\n",
       "      <td>-2</td>\n",
       "      <td>-2</td>\n",
       "      <td>3913.0</td>\n",
       "      <td>3102.0</td>\n",
       "      <td>689.0</td>\n",
       "      <td>0.0</td>\n",
       "      <td>0.0</td>\n",
       "      <td>0.0</td>\n",
       "      <td>0.0</td>\n",
       "      <td>689.0</td>\n",
       "      <td>0.0</td>\n",
       "      <td>0.0</td>\n",
       "      <td>0.0</td>\n",
       "      <td>0.0</td>\n",
       "      <td>1</td>\n",
       "    </tr>\n",
       "    <tr>\n",
       "      <th>1</th>\n",
       "      <td>2</td>\n",
       "      <td>120000.0</td>\n",
       "      <td>2</td>\n",
       "      <td>2</td>\n",
       "      <td>2</td>\n",
       "      <td>26</td>\n",
       "      <td>-1</td>\n",
       "      <td>2</td>\n",
       "      <td>0</td>\n",
       "      <td>0</td>\n",
       "      <td>0</td>\n",
       "      <td>2</td>\n",
       "      <td>2682.0</td>\n",
       "      <td>1725.0</td>\n",
       "      <td>2682.0</td>\n",
       "      <td>3272.0</td>\n",
       "      <td>3455.0</td>\n",
       "      <td>3261.0</td>\n",
       "      <td>0.0</td>\n",
       "      <td>1000.0</td>\n",
       "      <td>1000.0</td>\n",
       "      <td>1000.0</td>\n",
       "      <td>0.0</td>\n",
       "      <td>2000.0</td>\n",
       "      <td>1</td>\n",
       "    </tr>\n",
       "    <tr>\n",
       "      <th>2</th>\n",
       "      <td>3</td>\n",
       "      <td>90000.0</td>\n",
       "      <td>2</td>\n",
       "      <td>2</td>\n",
       "      <td>2</td>\n",
       "      <td>34</td>\n",
       "      <td>0</td>\n",
       "      <td>0</td>\n",
       "      <td>0</td>\n",
       "      <td>0</td>\n",
       "      <td>0</td>\n",
       "      <td>0</td>\n",
       "      <td>29239.0</td>\n",
       "      <td>14027.0</td>\n",
       "      <td>13559.0</td>\n",
       "      <td>14331.0</td>\n",
       "      <td>14948.0</td>\n",
       "      <td>15549.0</td>\n",
       "      <td>1518.0</td>\n",
       "      <td>1500.0</td>\n",
       "      <td>1000.0</td>\n",
       "      <td>1000.0</td>\n",
       "      <td>1000.0</td>\n",
       "      <td>5000.0</td>\n",
       "      <td>0</td>\n",
       "    </tr>\n",
       "    <tr>\n",
       "      <th>3</th>\n",
       "      <td>4</td>\n",
       "      <td>50000.0</td>\n",
       "      <td>2</td>\n",
       "      <td>2</td>\n",
       "      <td>1</td>\n",
       "      <td>37</td>\n",
       "      <td>0</td>\n",
       "      <td>0</td>\n",
       "      <td>0</td>\n",
       "      <td>0</td>\n",
       "      <td>0</td>\n",
       "      <td>0</td>\n",
       "      <td>46990.0</td>\n",
       "      <td>48233.0</td>\n",
       "      <td>49291.0</td>\n",
       "      <td>28314.0</td>\n",
       "      <td>28959.0</td>\n",
       "      <td>29547.0</td>\n",
       "      <td>2000.0</td>\n",
       "      <td>2019.0</td>\n",
       "      <td>1200.0</td>\n",
       "      <td>1100.0</td>\n",
       "      <td>1069.0</td>\n",
       "      <td>1000.0</td>\n",
       "      <td>0</td>\n",
       "    </tr>\n",
       "    <tr>\n",
       "      <th>4</th>\n",
       "      <td>5</td>\n",
       "      <td>50000.0</td>\n",
       "      <td>1</td>\n",
       "      <td>2</td>\n",
       "      <td>1</td>\n",
       "      <td>57</td>\n",
       "      <td>-1</td>\n",
       "      <td>0</td>\n",
       "      <td>-1</td>\n",
       "      <td>0</td>\n",
       "      <td>0</td>\n",
       "      <td>0</td>\n",
       "      <td>8617.0</td>\n",
       "      <td>5670.0</td>\n",
       "      <td>35835.0</td>\n",
       "      <td>20940.0</td>\n",
       "      <td>19146.0</td>\n",
       "      <td>19131.0</td>\n",
       "      <td>2000.0</td>\n",
       "      <td>36681.0</td>\n",
       "      <td>10000.0</td>\n",
       "      <td>9000.0</td>\n",
       "      <td>689.0</td>\n",
       "      <td>679.0</td>\n",
       "      <td>0</td>\n",
       "    </tr>\n",
       "  </tbody>\n",
       "</table>\n",
       "</div>"
      ],
      "text/plain": [
       "   ID  LIMIT_BAL  SEX  EDUCATION  MARRIAGE  AGE  PAY_0  PAY_2  PAY_3  PAY_4  \\\n",
       "0   1    20000.0    2          2         1   24      2      2     -1     -1   \n",
       "1   2   120000.0    2          2         2   26     -1      2      0      0   \n",
       "2   3    90000.0    2          2         2   34      0      0      0      0   \n",
       "3   4    50000.0    2          2         1   37      0      0      0      0   \n",
       "4   5    50000.0    1          2         1   57     -1      0     -1      0   \n",
       "\n",
       "   PAY_5  PAY_6  BILL_AMT1  BILL_AMT2  BILL_AMT3  BILL_AMT4  BILL_AMT5  \\\n",
       "0     -2     -2     3913.0     3102.0      689.0        0.0        0.0   \n",
       "1      0      2     2682.0     1725.0     2682.0     3272.0     3455.0   \n",
       "2      0      0    29239.0    14027.0    13559.0    14331.0    14948.0   \n",
       "3      0      0    46990.0    48233.0    49291.0    28314.0    28959.0   \n",
       "4      0      0     8617.0     5670.0    35835.0    20940.0    19146.0   \n",
       "\n",
       "   BILL_AMT6  PAY_AMT1  PAY_AMT2  PAY_AMT3  PAY_AMT4  PAY_AMT5  PAY_AMT6  \\\n",
       "0        0.0       0.0     689.0       0.0       0.0       0.0       0.0   \n",
       "1     3261.0       0.0    1000.0    1000.0    1000.0       0.0    2000.0   \n",
       "2    15549.0    1518.0    1500.0    1000.0    1000.0    1000.0    5000.0   \n",
       "3    29547.0    2000.0    2019.0    1200.0    1100.0    1069.0    1000.0   \n",
       "4    19131.0    2000.0   36681.0   10000.0    9000.0     689.0     679.0   \n",
       "\n",
       "   default.payment.next.month  \n",
       "0                           1  \n",
       "1                           1  \n",
       "2                           0  \n",
       "3                           0  \n",
       "4                           0  "
      ]
     },
     "execution_count": 3,
     "metadata": {},
     "output_type": "execute_result"
    }
   ],
   "source": [
    "df.head()"
   ]
  },
  {
   "cell_type": "code",
   "execution_count": 4,
   "id": "6940133b",
   "metadata": {
    "execution": {
     "iopub.execute_input": "2022-12-13T09:54:03.997182Z",
     "iopub.status.busy": "2022-12-13T09:54:03.996504Z",
     "iopub.status.idle": "2022-12-13T09:54:04.020969Z",
     "shell.execute_reply": "2022-12-13T09:54:04.019781Z"
    },
    "papermill": {
     "duration": 0.048616,
     "end_time": "2022-12-13T09:54:04.023409",
     "exception": false,
     "start_time": "2022-12-13T09:54:03.974793",
     "status": "completed"
    },
    "tags": []
   },
   "outputs": [
    {
     "data": {
      "text/html": [
       "<div>\n",
       "<style scoped>\n",
       "    .dataframe tbody tr th:only-of-type {\n",
       "        vertical-align: middle;\n",
       "    }\n",
       "\n",
       "    .dataframe tbody tr th {\n",
       "        vertical-align: top;\n",
       "    }\n",
       "\n",
       "    .dataframe thead th {\n",
       "        text-align: right;\n",
       "    }\n",
       "</style>\n",
       "<table border=\"1\" class=\"dataframe\">\n",
       "  <thead>\n",
       "    <tr style=\"text-align: right;\">\n",
       "      <th></th>\n",
       "      <th>ID</th>\n",
       "      <th>LIMIT_BAL</th>\n",
       "      <th>SEX</th>\n",
       "      <th>EDUCATION</th>\n",
       "      <th>MARRIAGE</th>\n",
       "      <th>AGE</th>\n",
       "      <th>PAY_0</th>\n",
       "      <th>PAY_2</th>\n",
       "      <th>PAY_3</th>\n",
       "      <th>PAY_4</th>\n",
       "      <th>PAY_5</th>\n",
       "      <th>PAY_6</th>\n",
       "      <th>BILL_AMT1</th>\n",
       "      <th>BILL_AMT2</th>\n",
       "      <th>BILL_AMT3</th>\n",
       "      <th>BILL_AMT4</th>\n",
       "      <th>BILL_AMT5</th>\n",
       "      <th>BILL_AMT6</th>\n",
       "      <th>PAY_AMT1</th>\n",
       "      <th>PAY_AMT2</th>\n",
       "      <th>PAY_AMT3</th>\n",
       "      <th>PAY_AMT4</th>\n",
       "      <th>PAY_AMT5</th>\n",
       "      <th>PAY_AMT6</th>\n",
       "      <th>default.payment.next.month</th>\n",
       "    </tr>\n",
       "  </thead>\n",
       "  <tbody>\n",
       "    <tr>\n",
       "      <th>29997</th>\n",
       "      <td>29998</td>\n",
       "      <td>30000.0</td>\n",
       "      <td>1</td>\n",
       "      <td>2</td>\n",
       "      <td>2</td>\n",
       "      <td>37</td>\n",
       "      <td>4</td>\n",
       "      <td>3</td>\n",
       "      <td>2</td>\n",
       "      <td>-1</td>\n",
       "      <td>0</td>\n",
       "      <td>0</td>\n",
       "      <td>3565.0</td>\n",
       "      <td>3356.0</td>\n",
       "      <td>2758.0</td>\n",
       "      <td>20878.0</td>\n",
       "      <td>20582.0</td>\n",
       "      <td>19357.0</td>\n",
       "      <td>0.0</td>\n",
       "      <td>0.0</td>\n",
       "      <td>22000.0</td>\n",
       "      <td>4200.0</td>\n",
       "      <td>2000.0</td>\n",
       "      <td>3100.0</td>\n",
       "      <td>1</td>\n",
       "    </tr>\n",
       "    <tr>\n",
       "      <th>29998</th>\n",
       "      <td>29999</td>\n",
       "      <td>80000.0</td>\n",
       "      <td>1</td>\n",
       "      <td>3</td>\n",
       "      <td>1</td>\n",
       "      <td>41</td>\n",
       "      <td>1</td>\n",
       "      <td>-1</td>\n",
       "      <td>0</td>\n",
       "      <td>0</td>\n",
       "      <td>0</td>\n",
       "      <td>-1</td>\n",
       "      <td>-1645.0</td>\n",
       "      <td>78379.0</td>\n",
       "      <td>76304.0</td>\n",
       "      <td>52774.0</td>\n",
       "      <td>11855.0</td>\n",
       "      <td>48944.0</td>\n",
       "      <td>85900.0</td>\n",
       "      <td>3409.0</td>\n",
       "      <td>1178.0</td>\n",
       "      <td>1926.0</td>\n",
       "      <td>52964.0</td>\n",
       "      <td>1804.0</td>\n",
       "      <td>1</td>\n",
       "    </tr>\n",
       "    <tr>\n",
       "      <th>29999</th>\n",
       "      <td>30000</td>\n",
       "      <td>50000.0</td>\n",
       "      <td>1</td>\n",
       "      <td>2</td>\n",
       "      <td>1</td>\n",
       "      <td>46</td>\n",
       "      <td>0</td>\n",
       "      <td>0</td>\n",
       "      <td>0</td>\n",
       "      <td>0</td>\n",
       "      <td>0</td>\n",
       "      <td>0</td>\n",
       "      <td>47929.0</td>\n",
       "      <td>48905.0</td>\n",
       "      <td>49764.0</td>\n",
       "      <td>36535.0</td>\n",
       "      <td>32428.0</td>\n",
       "      <td>15313.0</td>\n",
       "      <td>2078.0</td>\n",
       "      <td>1800.0</td>\n",
       "      <td>1430.0</td>\n",
       "      <td>1000.0</td>\n",
       "      <td>1000.0</td>\n",
       "      <td>1000.0</td>\n",
       "      <td>1</td>\n",
       "    </tr>\n",
       "  </tbody>\n",
       "</table>\n",
       "</div>"
      ],
      "text/plain": [
       "          ID  LIMIT_BAL  SEX  EDUCATION  MARRIAGE  AGE  PAY_0  PAY_2  PAY_3  \\\n",
       "29997  29998    30000.0    1          2         2   37      4      3      2   \n",
       "29998  29999    80000.0    1          3         1   41      1     -1      0   \n",
       "29999  30000    50000.0    1          2         1   46      0      0      0   \n",
       "\n",
       "       PAY_4  PAY_5  PAY_6  BILL_AMT1  BILL_AMT2  BILL_AMT3  BILL_AMT4  \\\n",
       "29997     -1      0      0     3565.0     3356.0     2758.0    20878.0   \n",
       "29998      0      0     -1    -1645.0    78379.0    76304.0    52774.0   \n",
       "29999      0      0      0    47929.0    48905.0    49764.0    36535.0   \n",
       "\n",
       "       BILL_AMT5  BILL_AMT6  PAY_AMT1  PAY_AMT2  PAY_AMT3  PAY_AMT4  PAY_AMT5  \\\n",
       "29997    20582.0    19357.0       0.0       0.0   22000.0    4200.0    2000.0   \n",
       "29998    11855.0    48944.0   85900.0    3409.0    1178.0    1926.0   52964.0   \n",
       "29999    32428.0    15313.0    2078.0    1800.0    1430.0    1000.0    1000.0   \n",
       "\n",
       "       PAY_AMT6  default.payment.next.month  \n",
       "29997    3100.0                           1  \n",
       "29998    1804.0                           1  \n",
       "29999    1000.0                           1  "
      ]
     },
     "execution_count": 4,
     "metadata": {},
     "output_type": "execute_result"
    }
   ],
   "source": [
    "df.tail(3)"
   ]
  },
  {
   "cell_type": "code",
   "execution_count": 5,
   "id": "52db6dfa",
   "metadata": {
    "execution": {
     "iopub.execute_input": "2022-12-13T09:54:04.066500Z",
     "iopub.status.busy": "2022-12-13T09:54:04.065806Z",
     "iopub.status.idle": "2022-12-13T09:54:04.098077Z",
     "shell.execute_reply": "2022-12-13T09:54:04.096094Z"
    },
    "papermill": {
     "duration": 0.0567,
     "end_time": "2022-12-13T09:54:04.100587",
     "exception": false,
     "start_time": "2022-12-13T09:54:04.043887",
     "status": "completed"
    },
    "tags": []
   },
   "outputs": [
    {
     "name": "stdout",
     "output_type": "stream",
     "text": [
      "<class 'pandas.core.frame.DataFrame'>\n",
      "RangeIndex: 30000 entries, 0 to 29999\n",
      "Data columns (total 25 columns):\n",
      " #   Column                      Non-Null Count  Dtype  \n",
      "---  ------                      --------------  -----  \n",
      " 0   ID                          30000 non-null  int64  \n",
      " 1   LIMIT_BAL                   30000 non-null  float64\n",
      " 2   SEX                         30000 non-null  int64  \n",
      " 3   EDUCATION                   30000 non-null  int64  \n",
      " 4   MARRIAGE                    30000 non-null  int64  \n",
      " 5   AGE                         30000 non-null  int64  \n",
      " 6   PAY_0                       30000 non-null  int64  \n",
      " 7   PAY_2                       30000 non-null  int64  \n",
      " 8   PAY_3                       30000 non-null  int64  \n",
      " 9   PAY_4                       30000 non-null  int64  \n",
      " 10  PAY_5                       30000 non-null  int64  \n",
      " 11  PAY_6                       30000 non-null  int64  \n",
      " 12  BILL_AMT1                   30000 non-null  float64\n",
      " 13  BILL_AMT2                   30000 non-null  float64\n",
      " 14  BILL_AMT3                   30000 non-null  float64\n",
      " 15  BILL_AMT4                   30000 non-null  float64\n",
      " 16  BILL_AMT5                   30000 non-null  float64\n",
      " 17  BILL_AMT6                   30000 non-null  float64\n",
      " 18  PAY_AMT1                    30000 non-null  float64\n",
      " 19  PAY_AMT2                    30000 non-null  float64\n",
      " 20  PAY_AMT3                    30000 non-null  float64\n",
      " 21  PAY_AMT4                    30000 non-null  float64\n",
      " 22  PAY_AMT5                    30000 non-null  float64\n",
      " 23  PAY_AMT6                    30000 non-null  float64\n",
      " 24  default.payment.next.month  30000 non-null  int64  \n",
      "dtypes: float64(13), int64(12)\n",
      "memory usage: 5.7 MB\n"
     ]
    }
   ],
   "source": [
    "df.info()"
   ]
  },
  {
   "cell_type": "code",
   "execution_count": 6,
   "id": "0ea6a2ca",
   "metadata": {
    "execution": {
     "iopub.execute_input": "2022-12-13T09:54:04.145765Z",
     "iopub.status.busy": "2022-12-13T09:54:04.145067Z",
     "iopub.status.idle": "2022-12-13T09:54:04.263720Z",
     "shell.execute_reply": "2022-12-13T09:54:04.262333Z"
    },
    "papermill": {
     "duration": 0.144846,
     "end_time": "2022-12-13T09:54:04.266864",
     "exception": false,
     "start_time": "2022-12-13T09:54:04.122018",
     "status": "completed"
    },
    "tags": []
   },
   "outputs": [
    {
     "data": {
      "text/html": [
       "<div>\n",
       "<style scoped>\n",
       "    .dataframe tbody tr th:only-of-type {\n",
       "        vertical-align: middle;\n",
       "    }\n",
       "\n",
       "    .dataframe tbody tr th {\n",
       "        vertical-align: top;\n",
       "    }\n",
       "\n",
       "    .dataframe thead th {\n",
       "        text-align: right;\n",
       "    }\n",
       "</style>\n",
       "<table border=\"1\" class=\"dataframe\">\n",
       "  <thead>\n",
       "    <tr style=\"text-align: right;\">\n",
       "      <th></th>\n",
       "      <th>ID</th>\n",
       "      <th>LIMIT_BAL</th>\n",
       "      <th>SEX</th>\n",
       "      <th>EDUCATION</th>\n",
       "      <th>MARRIAGE</th>\n",
       "      <th>AGE</th>\n",
       "      <th>PAY_0</th>\n",
       "      <th>PAY_2</th>\n",
       "      <th>PAY_3</th>\n",
       "      <th>PAY_4</th>\n",
       "      <th>PAY_5</th>\n",
       "      <th>PAY_6</th>\n",
       "      <th>BILL_AMT1</th>\n",
       "      <th>BILL_AMT2</th>\n",
       "      <th>BILL_AMT3</th>\n",
       "      <th>BILL_AMT4</th>\n",
       "      <th>BILL_AMT5</th>\n",
       "      <th>BILL_AMT6</th>\n",
       "      <th>PAY_AMT1</th>\n",
       "      <th>PAY_AMT2</th>\n",
       "      <th>PAY_AMT3</th>\n",
       "      <th>PAY_AMT4</th>\n",
       "      <th>PAY_AMT5</th>\n",
       "      <th>PAY_AMT6</th>\n",
       "      <th>default.payment.next.month</th>\n",
       "    </tr>\n",
       "  </thead>\n",
       "  <tbody>\n",
       "    <tr>\n",
       "      <th>count</th>\n",
       "      <td>30000.000000</td>\n",
       "      <td>30000.000000</td>\n",
       "      <td>30000.000000</td>\n",
       "      <td>30000.000000</td>\n",
       "      <td>30000.000000</td>\n",
       "      <td>30000.000000</td>\n",
       "      <td>30000.000000</td>\n",
       "      <td>30000.000000</td>\n",
       "      <td>30000.000000</td>\n",
       "      <td>30000.000000</td>\n",
       "      <td>30000.000000</td>\n",
       "      <td>30000.000000</td>\n",
       "      <td>30000.000000</td>\n",
       "      <td>30000.000000</td>\n",
       "      <td>3.000000e+04</td>\n",
       "      <td>30000.000000</td>\n",
       "      <td>30000.000000</td>\n",
       "      <td>30000.000000</td>\n",
       "      <td>30000.000000</td>\n",
       "      <td>3.000000e+04</td>\n",
       "      <td>30000.00000</td>\n",
       "      <td>30000.000000</td>\n",
       "      <td>30000.000000</td>\n",
       "      <td>30000.000000</td>\n",
       "      <td>30000.000000</td>\n",
       "    </tr>\n",
       "    <tr>\n",
       "      <th>mean</th>\n",
       "      <td>15000.500000</td>\n",
       "      <td>167484.322667</td>\n",
       "      <td>1.603733</td>\n",
       "      <td>1.853133</td>\n",
       "      <td>1.551867</td>\n",
       "      <td>35.485500</td>\n",
       "      <td>-0.016700</td>\n",
       "      <td>-0.133767</td>\n",
       "      <td>-0.166200</td>\n",
       "      <td>-0.220667</td>\n",
       "      <td>-0.266200</td>\n",
       "      <td>-0.291100</td>\n",
       "      <td>51223.330900</td>\n",
       "      <td>49179.075167</td>\n",
       "      <td>4.701315e+04</td>\n",
       "      <td>43262.948967</td>\n",
       "      <td>40311.400967</td>\n",
       "      <td>38871.760400</td>\n",
       "      <td>5663.580500</td>\n",
       "      <td>5.921163e+03</td>\n",
       "      <td>5225.68150</td>\n",
       "      <td>4826.076867</td>\n",
       "      <td>4799.387633</td>\n",
       "      <td>5215.502567</td>\n",
       "      <td>0.221200</td>\n",
       "    </tr>\n",
       "    <tr>\n",
       "      <th>std</th>\n",
       "      <td>8660.398374</td>\n",
       "      <td>129747.661567</td>\n",
       "      <td>0.489129</td>\n",
       "      <td>0.790349</td>\n",
       "      <td>0.521970</td>\n",
       "      <td>9.217904</td>\n",
       "      <td>1.123802</td>\n",
       "      <td>1.197186</td>\n",
       "      <td>1.196868</td>\n",
       "      <td>1.169139</td>\n",
       "      <td>1.133187</td>\n",
       "      <td>1.149988</td>\n",
       "      <td>73635.860576</td>\n",
       "      <td>71173.768783</td>\n",
       "      <td>6.934939e+04</td>\n",
       "      <td>64332.856134</td>\n",
       "      <td>60797.155770</td>\n",
       "      <td>59554.107537</td>\n",
       "      <td>16563.280354</td>\n",
       "      <td>2.304087e+04</td>\n",
       "      <td>17606.96147</td>\n",
       "      <td>15666.159744</td>\n",
       "      <td>15278.305679</td>\n",
       "      <td>17777.465775</td>\n",
       "      <td>0.415062</td>\n",
       "    </tr>\n",
       "    <tr>\n",
       "      <th>min</th>\n",
       "      <td>1.000000</td>\n",
       "      <td>10000.000000</td>\n",
       "      <td>1.000000</td>\n",
       "      <td>0.000000</td>\n",
       "      <td>0.000000</td>\n",
       "      <td>21.000000</td>\n",
       "      <td>-2.000000</td>\n",
       "      <td>-2.000000</td>\n",
       "      <td>-2.000000</td>\n",
       "      <td>-2.000000</td>\n",
       "      <td>-2.000000</td>\n",
       "      <td>-2.000000</td>\n",
       "      <td>-165580.000000</td>\n",
       "      <td>-69777.000000</td>\n",
       "      <td>-1.572640e+05</td>\n",
       "      <td>-170000.000000</td>\n",
       "      <td>-81334.000000</td>\n",
       "      <td>-339603.000000</td>\n",
       "      <td>0.000000</td>\n",
       "      <td>0.000000e+00</td>\n",
       "      <td>0.00000</td>\n",
       "      <td>0.000000</td>\n",
       "      <td>0.000000</td>\n",
       "      <td>0.000000</td>\n",
       "      <td>0.000000</td>\n",
       "    </tr>\n",
       "    <tr>\n",
       "      <th>25%</th>\n",
       "      <td>7500.750000</td>\n",
       "      <td>50000.000000</td>\n",
       "      <td>1.000000</td>\n",
       "      <td>1.000000</td>\n",
       "      <td>1.000000</td>\n",
       "      <td>28.000000</td>\n",
       "      <td>-1.000000</td>\n",
       "      <td>-1.000000</td>\n",
       "      <td>-1.000000</td>\n",
       "      <td>-1.000000</td>\n",
       "      <td>-1.000000</td>\n",
       "      <td>-1.000000</td>\n",
       "      <td>3558.750000</td>\n",
       "      <td>2984.750000</td>\n",
       "      <td>2.666250e+03</td>\n",
       "      <td>2326.750000</td>\n",
       "      <td>1763.000000</td>\n",
       "      <td>1256.000000</td>\n",
       "      <td>1000.000000</td>\n",
       "      <td>8.330000e+02</td>\n",
       "      <td>390.00000</td>\n",
       "      <td>296.000000</td>\n",
       "      <td>252.500000</td>\n",
       "      <td>117.750000</td>\n",
       "      <td>0.000000</td>\n",
       "    </tr>\n",
       "    <tr>\n",
       "      <th>50%</th>\n",
       "      <td>15000.500000</td>\n",
       "      <td>140000.000000</td>\n",
       "      <td>2.000000</td>\n",
       "      <td>2.000000</td>\n",
       "      <td>2.000000</td>\n",
       "      <td>34.000000</td>\n",
       "      <td>0.000000</td>\n",
       "      <td>0.000000</td>\n",
       "      <td>0.000000</td>\n",
       "      <td>0.000000</td>\n",
       "      <td>0.000000</td>\n",
       "      <td>0.000000</td>\n",
       "      <td>22381.500000</td>\n",
       "      <td>21200.000000</td>\n",
       "      <td>2.008850e+04</td>\n",
       "      <td>19052.000000</td>\n",
       "      <td>18104.500000</td>\n",
       "      <td>17071.000000</td>\n",
       "      <td>2100.000000</td>\n",
       "      <td>2.009000e+03</td>\n",
       "      <td>1800.00000</td>\n",
       "      <td>1500.000000</td>\n",
       "      <td>1500.000000</td>\n",
       "      <td>1500.000000</td>\n",
       "      <td>0.000000</td>\n",
       "    </tr>\n",
       "    <tr>\n",
       "      <th>75%</th>\n",
       "      <td>22500.250000</td>\n",
       "      <td>240000.000000</td>\n",
       "      <td>2.000000</td>\n",
       "      <td>2.000000</td>\n",
       "      <td>2.000000</td>\n",
       "      <td>41.000000</td>\n",
       "      <td>0.000000</td>\n",
       "      <td>0.000000</td>\n",
       "      <td>0.000000</td>\n",
       "      <td>0.000000</td>\n",
       "      <td>0.000000</td>\n",
       "      <td>0.000000</td>\n",
       "      <td>67091.000000</td>\n",
       "      <td>64006.250000</td>\n",
       "      <td>6.016475e+04</td>\n",
       "      <td>54506.000000</td>\n",
       "      <td>50190.500000</td>\n",
       "      <td>49198.250000</td>\n",
       "      <td>5006.000000</td>\n",
       "      <td>5.000000e+03</td>\n",
       "      <td>4505.00000</td>\n",
       "      <td>4013.250000</td>\n",
       "      <td>4031.500000</td>\n",
       "      <td>4000.000000</td>\n",
       "      <td>0.000000</td>\n",
       "    </tr>\n",
       "    <tr>\n",
       "      <th>max</th>\n",
       "      <td>30000.000000</td>\n",
       "      <td>1000000.000000</td>\n",
       "      <td>2.000000</td>\n",
       "      <td>6.000000</td>\n",
       "      <td>3.000000</td>\n",
       "      <td>79.000000</td>\n",
       "      <td>8.000000</td>\n",
       "      <td>8.000000</td>\n",
       "      <td>8.000000</td>\n",
       "      <td>8.000000</td>\n",
       "      <td>8.000000</td>\n",
       "      <td>8.000000</td>\n",
       "      <td>964511.000000</td>\n",
       "      <td>983931.000000</td>\n",
       "      <td>1.664089e+06</td>\n",
       "      <td>891586.000000</td>\n",
       "      <td>927171.000000</td>\n",
       "      <td>961664.000000</td>\n",
       "      <td>873552.000000</td>\n",
       "      <td>1.684259e+06</td>\n",
       "      <td>896040.00000</td>\n",
       "      <td>621000.000000</td>\n",
       "      <td>426529.000000</td>\n",
       "      <td>528666.000000</td>\n",
       "      <td>1.000000</td>\n",
       "    </tr>\n",
       "  </tbody>\n",
       "</table>\n",
       "</div>"
      ],
      "text/plain": [
       "                 ID       LIMIT_BAL           SEX     EDUCATION      MARRIAGE  \\\n",
       "count  30000.000000    30000.000000  30000.000000  30000.000000  30000.000000   \n",
       "mean   15000.500000   167484.322667      1.603733      1.853133      1.551867   \n",
       "std     8660.398374   129747.661567      0.489129      0.790349      0.521970   \n",
       "min        1.000000    10000.000000      1.000000      0.000000      0.000000   \n",
       "25%     7500.750000    50000.000000      1.000000      1.000000      1.000000   \n",
       "50%    15000.500000   140000.000000      2.000000      2.000000      2.000000   \n",
       "75%    22500.250000   240000.000000      2.000000      2.000000      2.000000   \n",
       "max    30000.000000  1000000.000000      2.000000      6.000000      3.000000   \n",
       "\n",
       "                AGE         PAY_0         PAY_2         PAY_3         PAY_4  \\\n",
       "count  30000.000000  30000.000000  30000.000000  30000.000000  30000.000000   \n",
       "mean      35.485500     -0.016700     -0.133767     -0.166200     -0.220667   \n",
       "std        9.217904      1.123802      1.197186      1.196868      1.169139   \n",
       "min       21.000000     -2.000000     -2.000000     -2.000000     -2.000000   \n",
       "25%       28.000000     -1.000000     -1.000000     -1.000000     -1.000000   \n",
       "50%       34.000000      0.000000      0.000000      0.000000      0.000000   \n",
       "75%       41.000000      0.000000      0.000000      0.000000      0.000000   \n",
       "max       79.000000      8.000000      8.000000      8.000000      8.000000   \n",
       "\n",
       "              PAY_5         PAY_6      BILL_AMT1      BILL_AMT2     BILL_AMT3  \\\n",
       "count  30000.000000  30000.000000   30000.000000   30000.000000  3.000000e+04   \n",
       "mean      -0.266200     -0.291100   51223.330900   49179.075167  4.701315e+04   \n",
       "std        1.133187      1.149988   73635.860576   71173.768783  6.934939e+04   \n",
       "min       -2.000000     -2.000000 -165580.000000  -69777.000000 -1.572640e+05   \n",
       "25%       -1.000000     -1.000000    3558.750000    2984.750000  2.666250e+03   \n",
       "50%        0.000000      0.000000   22381.500000   21200.000000  2.008850e+04   \n",
       "75%        0.000000      0.000000   67091.000000   64006.250000  6.016475e+04   \n",
       "max        8.000000      8.000000  964511.000000  983931.000000  1.664089e+06   \n",
       "\n",
       "           BILL_AMT4      BILL_AMT5      BILL_AMT6       PAY_AMT1  \\\n",
       "count   30000.000000   30000.000000   30000.000000   30000.000000   \n",
       "mean    43262.948967   40311.400967   38871.760400    5663.580500   \n",
       "std     64332.856134   60797.155770   59554.107537   16563.280354   \n",
       "min   -170000.000000  -81334.000000 -339603.000000       0.000000   \n",
       "25%      2326.750000    1763.000000    1256.000000    1000.000000   \n",
       "50%     19052.000000   18104.500000   17071.000000    2100.000000   \n",
       "75%     54506.000000   50190.500000   49198.250000    5006.000000   \n",
       "max    891586.000000  927171.000000  961664.000000  873552.000000   \n",
       "\n",
       "           PAY_AMT2      PAY_AMT3       PAY_AMT4       PAY_AMT5  \\\n",
       "count  3.000000e+04   30000.00000   30000.000000   30000.000000   \n",
       "mean   5.921163e+03    5225.68150    4826.076867    4799.387633   \n",
       "std    2.304087e+04   17606.96147   15666.159744   15278.305679   \n",
       "min    0.000000e+00       0.00000       0.000000       0.000000   \n",
       "25%    8.330000e+02     390.00000     296.000000     252.500000   \n",
       "50%    2.009000e+03    1800.00000    1500.000000    1500.000000   \n",
       "75%    5.000000e+03    4505.00000    4013.250000    4031.500000   \n",
       "max    1.684259e+06  896040.00000  621000.000000  426529.000000   \n",
       "\n",
       "            PAY_AMT6  default.payment.next.month  \n",
       "count   30000.000000                30000.000000  \n",
       "mean     5215.502567                    0.221200  \n",
       "std     17777.465775                    0.415062  \n",
       "min         0.000000                    0.000000  \n",
       "25%       117.750000                    0.000000  \n",
       "50%      1500.000000                    0.000000  \n",
       "75%      4000.000000                    0.000000  \n",
       "max    528666.000000                    1.000000  "
      ]
     },
     "execution_count": 6,
     "metadata": {},
     "output_type": "execute_result"
    }
   ],
   "source": [
    "df.describe()"
   ]
  },
  {
   "cell_type": "code",
   "execution_count": 7,
   "id": "ec90adeb",
   "metadata": {
    "execution": {
     "iopub.execute_input": "2022-12-13T09:54:04.313363Z",
     "iopub.status.busy": "2022-12-13T09:54:04.312820Z",
     "iopub.status.idle": "2022-12-13T09:54:04.323676Z",
     "shell.execute_reply": "2022-12-13T09:54:04.322812Z"
    },
    "papermill": {
     "duration": 0.037195,
     "end_time": "2022-12-13T09:54:04.326110",
     "exception": false,
     "start_time": "2022-12-13T09:54:04.288915",
     "status": "completed"
    },
    "tags": []
   },
   "outputs": [
    {
     "data": {
      "text/plain": [
       "ID                            0\n",
       "LIMIT_BAL                     0\n",
       "SEX                           0\n",
       "EDUCATION                     0\n",
       "MARRIAGE                      0\n",
       "AGE                           0\n",
       "PAY_0                         0\n",
       "PAY_2                         0\n",
       "PAY_3                         0\n",
       "PAY_4                         0\n",
       "PAY_5                         0\n",
       "PAY_6                         0\n",
       "BILL_AMT1                     0\n",
       "BILL_AMT2                     0\n",
       "BILL_AMT3                     0\n",
       "BILL_AMT4                     0\n",
       "BILL_AMT5                     0\n",
       "BILL_AMT6                     0\n",
       "PAY_AMT1                      0\n",
       "PAY_AMT2                      0\n",
       "PAY_AMT3                      0\n",
       "PAY_AMT4                      0\n",
       "PAY_AMT5                      0\n",
       "PAY_AMT6                      0\n",
       "default.payment.next.month    0\n",
       "dtype: int64"
      ]
     },
     "execution_count": 7,
     "metadata": {},
     "output_type": "execute_result"
    }
   ],
   "source": [
    "df.isnull().sum()"
   ]
  },
  {
   "cell_type": "code",
   "execution_count": 8,
   "id": "de691ee0",
   "metadata": {
    "execution": {
     "iopub.execute_input": "2022-12-13T09:54:04.371408Z",
     "iopub.status.busy": "2022-12-13T09:54:04.370961Z",
     "iopub.status.idle": "2022-12-13T09:54:04.412560Z",
     "shell.execute_reply": "2022-12-13T09:54:04.411291Z"
    },
    "papermill": {
     "duration": 0.067499,
     "end_time": "2022-12-13T09:54:04.415321",
     "exception": false,
     "start_time": "2022-12-13T09:54:04.347822",
     "status": "completed"
    },
    "tags": []
   },
   "outputs": [
    {
     "data": {
      "text/plain": [
       "0"
      ]
     },
     "execution_count": 8,
     "metadata": {},
     "output_type": "execute_result"
    }
   ],
   "source": [
    "df.duplicated().sum()"
   ]
  },
  {
   "cell_type": "code",
   "execution_count": 9,
   "id": "49b3a626",
   "metadata": {
    "execution": {
     "iopub.execute_input": "2022-12-13T09:54:04.461545Z",
     "iopub.status.busy": "2022-12-13T09:54:04.460361Z",
     "iopub.status.idle": "2022-12-13T09:54:04.468153Z",
     "shell.execute_reply": "2022-12-13T09:54:04.467018Z"
    },
    "papermill": {
     "duration": 0.03375,
     "end_time": "2022-12-13T09:54:04.470635",
     "exception": false,
     "start_time": "2022-12-13T09:54:04.436885",
     "status": "completed"
    },
    "tags": []
   },
   "outputs": [
    {
     "data": {
      "text/plain": [
       "(30000, 25)"
      ]
     },
     "execution_count": 9,
     "metadata": {},
     "output_type": "execute_result"
    }
   ],
   "source": [
    "df.shape"
   ]
  },
  {
   "cell_type": "code",
   "execution_count": 10,
   "id": "2c385a95",
   "metadata": {
    "execution": {
     "iopub.execute_input": "2022-12-13T09:54:04.516989Z",
     "iopub.status.busy": "2022-12-13T09:54:04.516193Z",
     "iopub.status.idle": "2022-12-13T09:54:04.523703Z",
     "shell.execute_reply": "2022-12-13T09:54:04.522424Z"
    },
    "papermill": {
     "duration": 0.033789,
     "end_time": "2022-12-13T09:54:04.526454",
     "exception": false,
     "start_time": "2022-12-13T09:54:04.492665",
     "status": "completed"
    },
    "tags": []
   },
   "outputs": [],
   "source": [
    "df.drop(columns=[\"ID\"],inplace=True)"
   ]
  },
  {
   "cell_type": "markdown",
   "id": "779f046a",
   "metadata": {
    "execution": {
     "iopub.execute_input": "2022-12-11T02:44:18.178537Z",
     "iopub.status.busy": "2022-12-11T02:44:18.178079Z",
     "iopub.status.idle": "2022-12-11T02:44:18.188529Z",
     "shell.execute_reply": "2022-12-11T02:44:18.187093Z",
     "shell.execute_reply.started": "2022-12-11T02:44:18.178499Z"
    },
    "papermill": {
     "duration": 0.021187,
     "end_time": "2022-12-13T09:54:04.569256",
     "exception": false,
     "start_time": "2022-12-13T09:54:04.548069",
     "status": "completed"
    },
    "tags": []
   },
   "source": [
    "<a id= \"2\"></a>\n",
    "# Feature Engineering¶\n",
    "\n"
   ]
  },
  {
   "cell_type": "markdown",
   "id": "81027c90",
   "metadata": {
    "papermill": {
     "duration": 0.021693,
     "end_time": "2022-12-13T09:54:04.613199",
     "exception": false,
     "start_time": "2022-12-13T09:54:04.591506",
     "status": "completed"
    },
    "tags": []
   },
   "source": [
    "<a id= \"3\"></a>\n",
    "## Marriage"
   ]
  },
  {
   "cell_type": "code",
   "execution_count": 11,
   "id": "56caface",
   "metadata": {
    "execution": {
     "iopub.execute_input": "2022-12-13T09:54:04.658189Z",
     "iopub.status.busy": "2022-12-13T09:54:04.657717Z",
     "iopub.status.idle": "2022-12-13T09:54:04.667584Z",
     "shell.execute_reply": "2022-12-13T09:54:04.666397Z"
    },
    "papermill": {
     "duration": 0.035384,
     "end_time": "2022-12-13T09:54:04.670104",
     "exception": false,
     "start_time": "2022-12-13T09:54:04.634720",
     "status": "completed"
    },
    "tags": []
   },
   "outputs": [
    {
     "data": {
      "text/plain": [
       "array([1, 2, 3, 0])"
      ]
     },
     "execution_count": 11,
     "metadata": {},
     "output_type": "execute_result"
    }
   ],
   "source": [
    "df[\"MARRIAGE\"].unique()"
   ]
  },
  {
   "cell_type": "code",
   "execution_count": 12,
   "id": "5ad4563e",
   "metadata": {
    "execution": {
     "iopub.execute_input": "2022-12-13T09:54:04.717052Z",
     "iopub.status.busy": "2022-12-13T09:54:04.716358Z",
     "iopub.status.idle": "2022-12-13T09:54:04.724694Z",
     "shell.execute_reply": "2022-12-13T09:54:04.723733Z"
    },
    "papermill": {
     "duration": 0.034264,
     "end_time": "2022-12-13T09:54:04.727077",
     "exception": false,
     "start_time": "2022-12-13T09:54:04.692813",
     "status": "completed"
    },
    "tags": []
   },
   "outputs": [
    {
     "data": {
      "text/plain": [
       "numpy.ndarray"
      ]
     },
     "execution_count": 12,
     "metadata": {},
     "output_type": "execute_result"
    }
   ],
   "source": [
    "Mar = df[\"MARRIAGE\"].to_numpy().reshape(-1,1)\n",
    "type(Mar)\n"
   ]
  },
  {
   "cell_type": "code",
   "execution_count": 13,
   "id": "dfb1648b",
   "metadata": {
    "execution": {
     "iopub.execute_input": "2022-12-13T09:54:04.773559Z",
     "iopub.status.busy": "2022-12-13T09:54:04.772858Z",
     "iopub.status.idle": "2022-12-13T09:54:04.936495Z",
     "shell.execute_reply": "2022-12-13T09:54:04.935019Z"
    },
    "papermill": {
     "duration": 0.190508,
     "end_time": "2022-12-13T09:54:04.939350",
     "exception": false,
     "start_time": "2022-12-13T09:54:04.748842",
     "status": "completed"
    },
    "tags": []
   },
   "outputs": [],
   "source": [
    "from sklearn.preprocessing import OneHotEncoder\n",
    "ohe = OneHotEncoder()\n",
    "New_Mar = ohe.fit_transform(Mar).toarray()\n"
   ]
  },
  {
   "cell_type": "code",
   "execution_count": 14,
   "id": "784bac34",
   "metadata": {
    "execution": {
     "iopub.execute_input": "2022-12-13T09:54:04.985645Z",
     "iopub.status.busy": "2022-12-13T09:54:04.985242Z",
     "iopub.status.idle": "2022-12-13T09:54:04.991689Z",
     "shell.execute_reply": "2022-12-13T09:54:04.990372Z"
    },
    "papermill": {
     "duration": 0.034033,
     "end_time": "2022-12-13T09:54:04.995234",
     "exception": false,
     "start_time": "2022-12-13T09:54:04.961201",
     "status": "completed"
    },
    "tags": []
   },
   "outputs": [
    {
     "name": "stdout",
     "output_type": "stream",
     "text": [
      "[[0. 1. 0. 0.]\n",
      " [0. 0. 1. 0.]\n",
      " [0. 0. 1. 0.]\n",
      " ...\n",
      " [0. 0. 1. 0.]\n",
      " [0. 1. 0. 0.]\n",
      " [0. 1. 0. 0.]]\n"
     ]
    }
   ],
   "source": [
    "print(New_Mar)"
   ]
  },
  {
   "cell_type": "code",
   "execution_count": 15,
   "id": "21e8aaa9",
   "metadata": {
    "execution": {
     "iopub.execute_input": "2022-12-13T09:54:05.042472Z",
     "iopub.status.busy": "2022-12-13T09:54:05.042073Z",
     "iopub.status.idle": "2022-12-13T09:54:05.050824Z",
     "shell.execute_reply": "2022-12-13T09:54:05.049609Z"
    },
    "papermill": {
     "duration": 0.034244,
     "end_time": "2022-12-13T09:54:05.053047",
     "exception": false,
     "start_time": "2022-12-13T09:54:05.018803",
     "status": "completed"
    },
    "tags": []
   },
   "outputs": [
    {
     "data": {
      "text/plain": [
       "numpy.ndarray"
      ]
     },
     "execution_count": 15,
     "metadata": {},
     "output_type": "execute_result"
    }
   ],
   "source": [
    "columns_labels = [\"Mar1\",\"Mar2\",\"Mar3\",\"Mar4\"]\n",
    "columns_labels = np.array(columns_labels).ravel()\n",
    "type(columns_labels)"
   ]
  },
  {
   "cell_type": "code",
   "execution_count": 16,
   "id": "4c408029",
   "metadata": {
    "execution": {
     "iopub.execute_input": "2022-12-13T09:54:05.099737Z",
     "iopub.status.busy": "2022-12-13T09:54:05.099345Z",
     "iopub.status.idle": "2022-12-13T09:54:05.110526Z",
     "shell.execute_reply": "2022-12-13T09:54:05.109245Z"
    },
    "papermill": {
     "duration": 0.037956,
     "end_time": "2022-12-13T09:54:05.113442",
     "exception": false,
     "start_time": "2022-12-13T09:54:05.075486",
     "status": "completed"
    },
    "tags": []
   },
   "outputs": [
    {
     "name": "stdout",
     "output_type": "stream",
     "text": [
      "       Mar1  Mar2  Mar3  Mar4\n",
      "0       0.0   1.0   0.0   0.0\n",
      "1       0.0   0.0   1.0   0.0\n",
      "2       0.0   0.0   1.0   0.0\n",
      "3       0.0   1.0   0.0   0.0\n",
      "4       0.0   1.0   0.0   0.0\n",
      "...     ...   ...   ...   ...\n",
      "29995   0.0   1.0   0.0   0.0\n",
      "29996   0.0   0.0   1.0   0.0\n",
      "29997   0.0   0.0   1.0   0.0\n",
      "29998   0.0   1.0   0.0   0.0\n",
      "29999   0.0   1.0   0.0   0.0\n",
      "\n",
      "[30000 rows x 4 columns]\n"
     ]
    }
   ],
   "source": [
    "df_Mar = pd.DataFrame(data=New_Mar, columns = columns_labels)\n",
    "print(df_Mar)"
   ]
  },
  {
   "cell_type": "code",
   "execution_count": 17,
   "id": "7b01a2cb",
   "metadata": {
    "execution": {
     "iopub.execute_input": "2022-12-13T09:54:05.159680Z",
     "iopub.status.busy": "2022-12-13T09:54:05.159283Z",
     "iopub.status.idle": "2022-12-13T09:54:05.199929Z",
     "shell.execute_reply": "2022-12-13T09:54:05.198661Z"
    },
    "papermill": {
     "duration": 0.066977,
     "end_time": "2022-12-13T09:54:05.202634",
     "exception": false,
     "start_time": "2022-12-13T09:54:05.135657",
     "status": "completed"
    },
    "tags": []
   },
   "outputs": [
    {
     "data": {
      "text/html": [
       "<div>\n",
       "<style scoped>\n",
       "    .dataframe tbody tr th:only-of-type {\n",
       "        vertical-align: middle;\n",
       "    }\n",
       "\n",
       "    .dataframe tbody tr th {\n",
       "        vertical-align: top;\n",
       "    }\n",
       "\n",
       "    .dataframe thead th {\n",
       "        text-align: right;\n",
       "    }\n",
       "</style>\n",
       "<table border=\"1\" class=\"dataframe\">\n",
       "  <thead>\n",
       "    <tr style=\"text-align: right;\">\n",
       "      <th></th>\n",
       "      <th>LIMIT_BAL</th>\n",
       "      <th>SEX</th>\n",
       "      <th>EDUCATION</th>\n",
       "      <th>MARRIAGE</th>\n",
       "      <th>AGE</th>\n",
       "      <th>PAY_0</th>\n",
       "      <th>PAY_2</th>\n",
       "      <th>PAY_3</th>\n",
       "      <th>PAY_4</th>\n",
       "      <th>PAY_5</th>\n",
       "      <th>PAY_6</th>\n",
       "      <th>BILL_AMT1</th>\n",
       "      <th>BILL_AMT2</th>\n",
       "      <th>BILL_AMT3</th>\n",
       "      <th>BILL_AMT4</th>\n",
       "      <th>BILL_AMT5</th>\n",
       "      <th>BILL_AMT6</th>\n",
       "      <th>PAY_AMT1</th>\n",
       "      <th>PAY_AMT2</th>\n",
       "      <th>PAY_AMT3</th>\n",
       "      <th>PAY_AMT4</th>\n",
       "      <th>PAY_AMT5</th>\n",
       "      <th>PAY_AMT6</th>\n",
       "      <th>default.payment.next.month</th>\n",
       "      <th>Mar1</th>\n",
       "      <th>Mar2</th>\n",
       "      <th>Mar3</th>\n",
       "      <th>Mar4</th>\n",
       "    </tr>\n",
       "  </thead>\n",
       "  <tbody>\n",
       "    <tr>\n",
       "      <th>0</th>\n",
       "      <td>20000.0</td>\n",
       "      <td>2</td>\n",
       "      <td>2</td>\n",
       "      <td>1</td>\n",
       "      <td>24</td>\n",
       "      <td>2</td>\n",
       "      <td>2</td>\n",
       "      <td>-1</td>\n",
       "      <td>-1</td>\n",
       "      <td>-2</td>\n",
       "      <td>-2</td>\n",
       "      <td>3913.0</td>\n",
       "      <td>3102.0</td>\n",
       "      <td>689.0</td>\n",
       "      <td>0.0</td>\n",
       "      <td>0.0</td>\n",
       "      <td>0.0</td>\n",
       "      <td>0.0</td>\n",
       "      <td>689.0</td>\n",
       "      <td>0.0</td>\n",
       "      <td>0.0</td>\n",
       "      <td>0.0</td>\n",
       "      <td>0.0</td>\n",
       "      <td>1</td>\n",
       "      <td>0.0</td>\n",
       "      <td>1.0</td>\n",
       "      <td>0.0</td>\n",
       "      <td>0.0</td>\n",
       "    </tr>\n",
       "    <tr>\n",
       "      <th>1</th>\n",
       "      <td>120000.0</td>\n",
       "      <td>2</td>\n",
       "      <td>2</td>\n",
       "      <td>2</td>\n",
       "      <td>26</td>\n",
       "      <td>-1</td>\n",
       "      <td>2</td>\n",
       "      <td>0</td>\n",
       "      <td>0</td>\n",
       "      <td>0</td>\n",
       "      <td>2</td>\n",
       "      <td>2682.0</td>\n",
       "      <td>1725.0</td>\n",
       "      <td>2682.0</td>\n",
       "      <td>3272.0</td>\n",
       "      <td>3455.0</td>\n",
       "      <td>3261.0</td>\n",
       "      <td>0.0</td>\n",
       "      <td>1000.0</td>\n",
       "      <td>1000.0</td>\n",
       "      <td>1000.0</td>\n",
       "      <td>0.0</td>\n",
       "      <td>2000.0</td>\n",
       "      <td>1</td>\n",
       "      <td>0.0</td>\n",
       "      <td>0.0</td>\n",
       "      <td>1.0</td>\n",
       "      <td>0.0</td>\n",
       "    </tr>\n",
       "    <tr>\n",
       "      <th>2</th>\n",
       "      <td>90000.0</td>\n",
       "      <td>2</td>\n",
       "      <td>2</td>\n",
       "      <td>2</td>\n",
       "      <td>34</td>\n",
       "      <td>0</td>\n",
       "      <td>0</td>\n",
       "      <td>0</td>\n",
       "      <td>0</td>\n",
       "      <td>0</td>\n",
       "      <td>0</td>\n",
       "      <td>29239.0</td>\n",
       "      <td>14027.0</td>\n",
       "      <td>13559.0</td>\n",
       "      <td>14331.0</td>\n",
       "      <td>14948.0</td>\n",
       "      <td>15549.0</td>\n",
       "      <td>1518.0</td>\n",
       "      <td>1500.0</td>\n",
       "      <td>1000.0</td>\n",
       "      <td>1000.0</td>\n",
       "      <td>1000.0</td>\n",
       "      <td>5000.0</td>\n",
       "      <td>0</td>\n",
       "      <td>0.0</td>\n",
       "      <td>0.0</td>\n",
       "      <td>1.0</td>\n",
       "      <td>0.0</td>\n",
       "    </tr>\n",
       "    <tr>\n",
       "      <th>3</th>\n",
       "      <td>50000.0</td>\n",
       "      <td>2</td>\n",
       "      <td>2</td>\n",
       "      <td>1</td>\n",
       "      <td>37</td>\n",
       "      <td>0</td>\n",
       "      <td>0</td>\n",
       "      <td>0</td>\n",
       "      <td>0</td>\n",
       "      <td>0</td>\n",
       "      <td>0</td>\n",
       "      <td>46990.0</td>\n",
       "      <td>48233.0</td>\n",
       "      <td>49291.0</td>\n",
       "      <td>28314.0</td>\n",
       "      <td>28959.0</td>\n",
       "      <td>29547.0</td>\n",
       "      <td>2000.0</td>\n",
       "      <td>2019.0</td>\n",
       "      <td>1200.0</td>\n",
       "      <td>1100.0</td>\n",
       "      <td>1069.0</td>\n",
       "      <td>1000.0</td>\n",
       "      <td>0</td>\n",
       "      <td>0.0</td>\n",
       "      <td>1.0</td>\n",
       "      <td>0.0</td>\n",
       "      <td>0.0</td>\n",
       "    </tr>\n",
       "    <tr>\n",
       "      <th>4</th>\n",
       "      <td>50000.0</td>\n",
       "      <td>1</td>\n",
       "      <td>2</td>\n",
       "      <td>1</td>\n",
       "      <td>57</td>\n",
       "      <td>-1</td>\n",
       "      <td>0</td>\n",
       "      <td>-1</td>\n",
       "      <td>0</td>\n",
       "      <td>0</td>\n",
       "      <td>0</td>\n",
       "      <td>8617.0</td>\n",
       "      <td>5670.0</td>\n",
       "      <td>35835.0</td>\n",
       "      <td>20940.0</td>\n",
       "      <td>19146.0</td>\n",
       "      <td>19131.0</td>\n",
       "      <td>2000.0</td>\n",
       "      <td>36681.0</td>\n",
       "      <td>10000.0</td>\n",
       "      <td>9000.0</td>\n",
       "      <td>689.0</td>\n",
       "      <td>679.0</td>\n",
       "      <td>0</td>\n",
       "      <td>0.0</td>\n",
       "      <td>1.0</td>\n",
       "      <td>0.0</td>\n",
       "      <td>0.0</td>\n",
       "    </tr>\n",
       "  </tbody>\n",
       "</table>\n",
       "</div>"
      ],
      "text/plain": [
       "   LIMIT_BAL  SEX  EDUCATION  MARRIAGE  AGE  PAY_0  PAY_2  PAY_3  PAY_4  \\\n",
       "0    20000.0    2          2         1   24      2      2     -1     -1   \n",
       "1   120000.0    2          2         2   26     -1      2      0      0   \n",
       "2    90000.0    2          2         2   34      0      0      0      0   \n",
       "3    50000.0    2          2         1   37      0      0      0      0   \n",
       "4    50000.0    1          2         1   57     -1      0     -1      0   \n",
       "\n",
       "   PAY_5  PAY_6  BILL_AMT1  BILL_AMT2  BILL_AMT3  BILL_AMT4  BILL_AMT5  \\\n",
       "0     -2     -2     3913.0     3102.0      689.0        0.0        0.0   \n",
       "1      0      2     2682.0     1725.0     2682.0     3272.0     3455.0   \n",
       "2      0      0    29239.0    14027.0    13559.0    14331.0    14948.0   \n",
       "3      0      0    46990.0    48233.0    49291.0    28314.0    28959.0   \n",
       "4      0      0     8617.0     5670.0    35835.0    20940.0    19146.0   \n",
       "\n",
       "   BILL_AMT6  PAY_AMT1  PAY_AMT2  PAY_AMT3  PAY_AMT4  PAY_AMT5  PAY_AMT6  \\\n",
       "0        0.0       0.0     689.0       0.0       0.0       0.0       0.0   \n",
       "1     3261.0       0.0    1000.0    1000.0    1000.0       0.0    2000.0   \n",
       "2    15549.0    1518.0    1500.0    1000.0    1000.0    1000.0    5000.0   \n",
       "3    29547.0    2000.0    2019.0    1200.0    1100.0    1069.0    1000.0   \n",
       "4    19131.0    2000.0   36681.0   10000.0    9000.0     689.0     679.0   \n",
       "\n",
       "   default.payment.next.month  Mar1  Mar2  Mar3  Mar4  \n",
       "0                           1   0.0   1.0   0.0   0.0  \n",
       "1                           1   0.0   0.0   1.0   0.0  \n",
       "2                           0   0.0   0.0   1.0   0.0  \n",
       "3                           0   0.0   1.0   0.0   0.0  \n",
       "4                           0   0.0   1.0   0.0   0.0  "
      ]
     },
     "execution_count": 17,
     "metadata": {},
     "output_type": "execute_result"
    }
   ],
   "source": [
    "df= pd.concat([df,df_Mar],axis=1)\n",
    "df.head()"
   ]
  },
  {
   "cell_type": "code",
   "execution_count": 18,
   "id": "4bb998b4",
   "metadata": {
    "execution": {
     "iopub.execute_input": "2022-12-13T09:54:05.249149Z",
     "iopub.status.busy": "2022-12-13T09:54:05.248663Z",
     "iopub.status.idle": "2022-12-13T09:54:05.296011Z",
     "shell.execute_reply": "2022-12-13T09:54:05.294787Z"
    },
    "papermill": {
     "duration": 0.073706,
     "end_time": "2022-12-13T09:54:05.298831",
     "exception": false,
     "start_time": "2022-12-13T09:54:05.225125",
     "status": "completed"
    },
    "tags": []
   },
   "outputs": [
    {
     "data": {
      "text/html": [
       "<div>\n",
       "<style scoped>\n",
       "    .dataframe tbody tr th:only-of-type {\n",
       "        vertical-align: middle;\n",
       "    }\n",
       "\n",
       "    .dataframe tbody tr th {\n",
       "        vertical-align: top;\n",
       "    }\n",
       "\n",
       "    .dataframe thead th {\n",
       "        text-align: right;\n",
       "    }\n",
       "</style>\n",
       "<table border=\"1\" class=\"dataframe\">\n",
       "  <thead>\n",
       "    <tr style=\"text-align: right;\">\n",
       "      <th></th>\n",
       "      <th>LIMIT_BAL</th>\n",
       "      <th>SEX</th>\n",
       "      <th>EDUCATION</th>\n",
       "      <th>AGE</th>\n",
       "      <th>PAY_0</th>\n",
       "      <th>PAY_2</th>\n",
       "      <th>PAY_3</th>\n",
       "      <th>PAY_4</th>\n",
       "      <th>PAY_5</th>\n",
       "      <th>PAY_6</th>\n",
       "      <th>BILL_AMT1</th>\n",
       "      <th>BILL_AMT2</th>\n",
       "      <th>BILL_AMT3</th>\n",
       "      <th>BILL_AMT4</th>\n",
       "      <th>BILL_AMT5</th>\n",
       "      <th>BILL_AMT6</th>\n",
       "      <th>PAY_AMT1</th>\n",
       "      <th>PAY_AMT2</th>\n",
       "      <th>PAY_AMT3</th>\n",
       "      <th>PAY_AMT4</th>\n",
       "      <th>PAY_AMT5</th>\n",
       "      <th>PAY_AMT6</th>\n",
       "      <th>default.payment.next.month</th>\n",
       "      <th>Mar1</th>\n",
       "      <th>Mar2</th>\n",
       "      <th>Mar3</th>\n",
       "      <th>Mar4</th>\n",
       "    </tr>\n",
       "  </thead>\n",
       "  <tbody>\n",
       "    <tr>\n",
       "      <th>29995</th>\n",
       "      <td>220000.0</td>\n",
       "      <td>1</td>\n",
       "      <td>3</td>\n",
       "      <td>39</td>\n",
       "      <td>0</td>\n",
       "      <td>0</td>\n",
       "      <td>0</td>\n",
       "      <td>0</td>\n",
       "      <td>0</td>\n",
       "      <td>0</td>\n",
       "      <td>188948.0</td>\n",
       "      <td>192815.0</td>\n",
       "      <td>208365.0</td>\n",
       "      <td>88004.0</td>\n",
       "      <td>31237.0</td>\n",
       "      <td>15980.0</td>\n",
       "      <td>8500.0</td>\n",
       "      <td>20000.0</td>\n",
       "      <td>5003.0</td>\n",
       "      <td>3047.0</td>\n",
       "      <td>5000.0</td>\n",
       "      <td>1000.0</td>\n",
       "      <td>0</td>\n",
       "      <td>0.0</td>\n",
       "      <td>1.0</td>\n",
       "      <td>0.0</td>\n",
       "      <td>0.0</td>\n",
       "    </tr>\n",
       "    <tr>\n",
       "      <th>29996</th>\n",
       "      <td>150000.0</td>\n",
       "      <td>1</td>\n",
       "      <td>3</td>\n",
       "      <td>43</td>\n",
       "      <td>-1</td>\n",
       "      <td>-1</td>\n",
       "      <td>-1</td>\n",
       "      <td>-1</td>\n",
       "      <td>0</td>\n",
       "      <td>0</td>\n",
       "      <td>1683.0</td>\n",
       "      <td>1828.0</td>\n",
       "      <td>3502.0</td>\n",
       "      <td>8979.0</td>\n",
       "      <td>5190.0</td>\n",
       "      <td>0.0</td>\n",
       "      <td>1837.0</td>\n",
       "      <td>3526.0</td>\n",
       "      <td>8998.0</td>\n",
       "      <td>129.0</td>\n",
       "      <td>0.0</td>\n",
       "      <td>0.0</td>\n",
       "      <td>0</td>\n",
       "      <td>0.0</td>\n",
       "      <td>0.0</td>\n",
       "      <td>1.0</td>\n",
       "      <td>0.0</td>\n",
       "    </tr>\n",
       "    <tr>\n",
       "      <th>29997</th>\n",
       "      <td>30000.0</td>\n",
       "      <td>1</td>\n",
       "      <td>2</td>\n",
       "      <td>37</td>\n",
       "      <td>4</td>\n",
       "      <td>3</td>\n",
       "      <td>2</td>\n",
       "      <td>-1</td>\n",
       "      <td>0</td>\n",
       "      <td>0</td>\n",
       "      <td>3565.0</td>\n",
       "      <td>3356.0</td>\n",
       "      <td>2758.0</td>\n",
       "      <td>20878.0</td>\n",
       "      <td>20582.0</td>\n",
       "      <td>19357.0</td>\n",
       "      <td>0.0</td>\n",
       "      <td>0.0</td>\n",
       "      <td>22000.0</td>\n",
       "      <td>4200.0</td>\n",
       "      <td>2000.0</td>\n",
       "      <td>3100.0</td>\n",
       "      <td>1</td>\n",
       "      <td>0.0</td>\n",
       "      <td>0.0</td>\n",
       "      <td>1.0</td>\n",
       "      <td>0.0</td>\n",
       "    </tr>\n",
       "    <tr>\n",
       "      <th>29998</th>\n",
       "      <td>80000.0</td>\n",
       "      <td>1</td>\n",
       "      <td>3</td>\n",
       "      <td>41</td>\n",
       "      <td>1</td>\n",
       "      <td>-1</td>\n",
       "      <td>0</td>\n",
       "      <td>0</td>\n",
       "      <td>0</td>\n",
       "      <td>-1</td>\n",
       "      <td>-1645.0</td>\n",
       "      <td>78379.0</td>\n",
       "      <td>76304.0</td>\n",
       "      <td>52774.0</td>\n",
       "      <td>11855.0</td>\n",
       "      <td>48944.0</td>\n",
       "      <td>85900.0</td>\n",
       "      <td>3409.0</td>\n",
       "      <td>1178.0</td>\n",
       "      <td>1926.0</td>\n",
       "      <td>52964.0</td>\n",
       "      <td>1804.0</td>\n",
       "      <td>1</td>\n",
       "      <td>0.0</td>\n",
       "      <td>1.0</td>\n",
       "      <td>0.0</td>\n",
       "      <td>0.0</td>\n",
       "    </tr>\n",
       "    <tr>\n",
       "      <th>29999</th>\n",
       "      <td>50000.0</td>\n",
       "      <td>1</td>\n",
       "      <td>2</td>\n",
       "      <td>46</td>\n",
       "      <td>0</td>\n",
       "      <td>0</td>\n",
       "      <td>0</td>\n",
       "      <td>0</td>\n",
       "      <td>0</td>\n",
       "      <td>0</td>\n",
       "      <td>47929.0</td>\n",
       "      <td>48905.0</td>\n",
       "      <td>49764.0</td>\n",
       "      <td>36535.0</td>\n",
       "      <td>32428.0</td>\n",
       "      <td>15313.0</td>\n",
       "      <td>2078.0</td>\n",
       "      <td>1800.0</td>\n",
       "      <td>1430.0</td>\n",
       "      <td>1000.0</td>\n",
       "      <td>1000.0</td>\n",
       "      <td>1000.0</td>\n",
       "      <td>1</td>\n",
       "      <td>0.0</td>\n",
       "      <td>1.0</td>\n",
       "      <td>0.0</td>\n",
       "      <td>0.0</td>\n",
       "    </tr>\n",
       "  </tbody>\n",
       "</table>\n",
       "</div>"
      ],
      "text/plain": [
       "       LIMIT_BAL  SEX  EDUCATION  AGE  PAY_0  PAY_2  PAY_3  PAY_4  PAY_5  \\\n",
       "29995   220000.0    1          3   39      0      0      0      0      0   \n",
       "29996   150000.0    1          3   43     -1     -1     -1     -1      0   \n",
       "29997    30000.0    1          2   37      4      3      2     -1      0   \n",
       "29998    80000.0    1          3   41      1     -1      0      0      0   \n",
       "29999    50000.0    1          2   46      0      0      0      0      0   \n",
       "\n",
       "       PAY_6  BILL_AMT1  BILL_AMT2  BILL_AMT3  BILL_AMT4  BILL_AMT5  \\\n",
       "29995      0   188948.0   192815.0   208365.0    88004.0    31237.0   \n",
       "29996      0     1683.0     1828.0     3502.0     8979.0     5190.0   \n",
       "29997      0     3565.0     3356.0     2758.0    20878.0    20582.0   \n",
       "29998     -1    -1645.0    78379.0    76304.0    52774.0    11855.0   \n",
       "29999      0    47929.0    48905.0    49764.0    36535.0    32428.0   \n",
       "\n",
       "       BILL_AMT6  PAY_AMT1  PAY_AMT2  PAY_AMT3  PAY_AMT4  PAY_AMT5  PAY_AMT6  \\\n",
       "29995    15980.0    8500.0   20000.0    5003.0    3047.0    5000.0    1000.0   \n",
       "29996        0.0    1837.0    3526.0    8998.0     129.0       0.0       0.0   \n",
       "29997    19357.0       0.0       0.0   22000.0    4200.0    2000.0    3100.0   \n",
       "29998    48944.0   85900.0    3409.0    1178.0    1926.0   52964.0    1804.0   \n",
       "29999    15313.0    2078.0    1800.0    1430.0    1000.0    1000.0    1000.0   \n",
       "\n",
       "       default.payment.next.month  Mar1  Mar2  Mar3  Mar4  \n",
       "29995                           0   0.0   1.0   0.0   0.0  \n",
       "29996                           0   0.0   0.0   1.0   0.0  \n",
       "29997                           1   0.0   0.0   1.0   0.0  \n",
       "29998                           1   0.0   1.0   0.0   0.0  \n",
       "29999                           1   0.0   1.0   0.0   0.0  "
      ]
     },
     "execution_count": 18,
     "metadata": {},
     "output_type": "execute_result"
    }
   ],
   "source": [
    "df.drop(columns=[\"MARRIAGE\"],inplace=True)\n",
    "df.tail()"
   ]
  },
  {
   "cell_type": "markdown",
   "id": "8cced218",
   "metadata": {
    "papermill": {
     "duration": 0.022724,
     "end_time": "2022-12-13T09:54:05.344948",
     "exception": false,
     "start_time": "2022-12-13T09:54:05.322224",
     "status": "completed"
    },
    "tags": []
   },
   "source": [
    "<a id= \"4\"></a>\n",
    "## Education "
   ]
  },
  {
   "cell_type": "code",
   "execution_count": 19,
   "id": "aa27d06f",
   "metadata": {
    "execution": {
     "iopub.execute_input": "2022-12-13T09:54:05.393129Z",
     "iopub.status.busy": "2022-12-13T09:54:05.392693Z",
     "iopub.status.idle": "2022-12-13T09:54:05.401385Z",
     "shell.execute_reply": "2022-12-13T09:54:05.400237Z"
    },
    "papermill": {
     "duration": 0.035885,
     "end_time": "2022-12-13T09:54:05.403740",
     "exception": false,
     "start_time": "2022-12-13T09:54:05.367855",
     "status": "completed"
    },
    "tags": []
   },
   "outputs": [
    {
     "data": {
      "text/plain": [
       "array([2, 1, 3, 5, 4, 6, 0])"
      ]
     },
     "execution_count": 19,
     "metadata": {},
     "output_type": "execute_result"
    }
   ],
   "source": [
    "df[\"EDUCATION\"].unique()"
   ]
  },
  {
   "cell_type": "code",
   "execution_count": 20,
   "id": "8dfab511",
   "metadata": {
    "execution": {
     "iopub.execute_input": "2022-12-13T09:54:05.451287Z",
     "iopub.status.busy": "2022-12-13T09:54:05.450829Z",
     "iopub.status.idle": "2022-12-13T09:54:05.459172Z",
     "shell.execute_reply": "2022-12-13T09:54:05.457858Z"
    },
    "papermill": {
     "duration": 0.035224,
     "end_time": "2022-12-13T09:54:05.461774",
     "exception": false,
     "start_time": "2022-12-13T09:54:05.426550",
     "status": "completed"
    },
    "tags": []
   },
   "outputs": [
    {
     "data": {
      "text/plain": [
       "numpy.ndarray"
      ]
     },
     "execution_count": 20,
     "metadata": {},
     "output_type": "execute_result"
    }
   ],
   "source": [
    "Edu = df[\"EDUCATION\"].to_numpy().reshape(-1,1)\n",
    "type(Edu)"
   ]
  },
  {
   "cell_type": "code",
   "execution_count": 21,
   "id": "340f253e",
   "metadata": {
    "execution": {
     "iopub.execute_input": "2022-12-13T09:54:05.510423Z",
     "iopub.status.busy": "2022-12-13T09:54:05.510017Z",
     "iopub.status.idle": "2022-12-13T09:54:05.519630Z",
     "shell.execute_reply": "2022-12-13T09:54:05.518673Z"
    },
    "papermill": {
     "duration": 0.037155,
     "end_time": "2022-12-13T09:54:05.522364",
     "exception": false,
     "start_time": "2022-12-13T09:54:05.485209",
     "status": "completed"
    },
    "tags": []
   },
   "outputs": [],
   "source": [
    "New_Edu = ohe.fit_transform(Edu).toarray()"
   ]
  },
  {
   "cell_type": "code",
   "execution_count": 22,
   "id": "a8c2b714",
   "metadata": {
    "execution": {
     "iopub.execute_input": "2022-12-13T09:54:05.570507Z",
     "iopub.status.busy": "2022-12-13T09:54:05.569827Z",
     "iopub.status.idle": "2022-12-13T09:54:05.576488Z",
     "shell.execute_reply": "2022-12-13T09:54:05.575491Z"
    },
    "papermill": {
     "duration": 0.033289,
     "end_time": "2022-12-13T09:54:05.578710",
     "exception": false,
     "start_time": "2022-12-13T09:54:05.545421",
     "status": "completed"
    },
    "tags": []
   },
   "outputs": [
    {
     "data": {
      "text/plain": [
       "numpy.ndarray"
      ]
     },
     "execution_count": 22,
     "metadata": {},
     "output_type": "execute_result"
    }
   ],
   "source": [
    "columns_labels1 = [\"Edu1\",\"Edu2\",\"Edu3\",\"Edu4\",\"Edu5\",\"Edu6\",\"Edu7\"]\n",
    "columns_labels1 = np.array(columns_labels1).ravel()\n",
    "type(columns_labels1)"
   ]
  },
  {
   "cell_type": "code",
   "execution_count": 23,
   "id": "0422e40b",
   "metadata": {
    "execution": {
     "iopub.execute_input": "2022-12-13T09:54:05.628140Z",
     "iopub.status.busy": "2022-12-13T09:54:05.627702Z",
     "iopub.status.idle": "2022-12-13T09:54:05.642136Z",
     "shell.execute_reply": "2022-12-13T09:54:05.641065Z"
    },
    "papermill": {
     "duration": 0.042601,
     "end_time": "2022-12-13T09:54:05.645784",
     "exception": false,
     "start_time": "2022-12-13T09:54:05.603183",
     "status": "completed"
    },
    "tags": []
   },
   "outputs": [
    {
     "name": "stdout",
     "output_type": "stream",
     "text": [
      "       Edu1  Edu2  Edu3  Edu4  Edu5  Edu6  Edu7\n",
      "0       0.0   0.0   1.0   0.0   0.0   0.0   0.0\n",
      "1       0.0   0.0   1.0   0.0   0.0   0.0   0.0\n",
      "2       0.0   0.0   1.0   0.0   0.0   0.0   0.0\n",
      "3       0.0   0.0   1.0   0.0   0.0   0.0   0.0\n",
      "4       0.0   0.0   1.0   0.0   0.0   0.0   0.0\n",
      "...     ...   ...   ...   ...   ...   ...   ...\n",
      "29995   0.0   0.0   0.0   1.0   0.0   0.0   0.0\n",
      "29996   0.0   0.0   0.0   1.0   0.0   0.0   0.0\n",
      "29997   0.0   0.0   1.0   0.0   0.0   0.0   0.0\n",
      "29998   0.0   0.0   0.0   1.0   0.0   0.0   0.0\n",
      "29999   0.0   0.0   1.0   0.0   0.0   0.0   0.0\n",
      "\n",
      "[30000 rows x 7 columns]\n"
     ]
    }
   ],
   "source": [
    "df_Edu = pd.DataFrame(data=New_Edu, columns = columns_labels1)\n",
    "print(df_Edu)"
   ]
  },
  {
   "cell_type": "code",
   "execution_count": 24,
   "id": "ba32e732",
   "metadata": {
    "execution": {
     "iopub.execute_input": "2022-12-13T09:54:05.695717Z",
     "iopub.status.busy": "2022-12-13T09:54:05.695026Z",
     "iopub.status.idle": "2022-12-13T09:54:05.740491Z",
     "shell.execute_reply": "2022-12-13T09:54:05.739573Z"
    },
    "papermill": {
     "duration": 0.073055,
     "end_time": "2022-12-13T09:54:05.742906",
     "exception": false,
     "start_time": "2022-12-13T09:54:05.669851",
     "status": "completed"
    },
    "tags": []
   },
   "outputs": [
    {
     "data": {
      "text/html": [
       "<div>\n",
       "<style scoped>\n",
       "    .dataframe tbody tr th:only-of-type {\n",
       "        vertical-align: middle;\n",
       "    }\n",
       "\n",
       "    .dataframe tbody tr th {\n",
       "        vertical-align: top;\n",
       "    }\n",
       "\n",
       "    .dataframe thead th {\n",
       "        text-align: right;\n",
       "    }\n",
       "</style>\n",
       "<table border=\"1\" class=\"dataframe\">\n",
       "  <thead>\n",
       "    <tr style=\"text-align: right;\">\n",
       "      <th></th>\n",
       "      <th>LIMIT_BAL</th>\n",
       "      <th>SEX</th>\n",
       "      <th>EDUCATION</th>\n",
       "      <th>AGE</th>\n",
       "      <th>PAY_0</th>\n",
       "      <th>PAY_2</th>\n",
       "      <th>PAY_3</th>\n",
       "      <th>PAY_4</th>\n",
       "      <th>PAY_5</th>\n",
       "      <th>PAY_6</th>\n",
       "      <th>BILL_AMT1</th>\n",
       "      <th>BILL_AMT2</th>\n",
       "      <th>BILL_AMT3</th>\n",
       "      <th>BILL_AMT4</th>\n",
       "      <th>BILL_AMT5</th>\n",
       "      <th>BILL_AMT6</th>\n",
       "      <th>PAY_AMT1</th>\n",
       "      <th>PAY_AMT2</th>\n",
       "      <th>PAY_AMT3</th>\n",
       "      <th>PAY_AMT4</th>\n",
       "      <th>PAY_AMT5</th>\n",
       "      <th>PAY_AMT6</th>\n",
       "      <th>default.payment.next.month</th>\n",
       "      <th>Mar1</th>\n",
       "      <th>Mar2</th>\n",
       "      <th>Mar3</th>\n",
       "      <th>Mar4</th>\n",
       "      <th>Edu1</th>\n",
       "      <th>Edu2</th>\n",
       "      <th>Edu3</th>\n",
       "      <th>Edu4</th>\n",
       "      <th>Edu5</th>\n",
       "      <th>Edu6</th>\n",
       "      <th>Edu7</th>\n",
       "    </tr>\n",
       "  </thead>\n",
       "  <tbody>\n",
       "    <tr>\n",
       "      <th>0</th>\n",
       "      <td>20000.0</td>\n",
       "      <td>2</td>\n",
       "      <td>2</td>\n",
       "      <td>24</td>\n",
       "      <td>2</td>\n",
       "      <td>2</td>\n",
       "      <td>-1</td>\n",
       "      <td>-1</td>\n",
       "      <td>-2</td>\n",
       "      <td>-2</td>\n",
       "      <td>3913.0</td>\n",
       "      <td>3102.0</td>\n",
       "      <td>689.0</td>\n",
       "      <td>0.0</td>\n",
       "      <td>0.0</td>\n",
       "      <td>0.0</td>\n",
       "      <td>0.0</td>\n",
       "      <td>689.0</td>\n",
       "      <td>0.0</td>\n",
       "      <td>0.0</td>\n",
       "      <td>0.0</td>\n",
       "      <td>0.0</td>\n",
       "      <td>1</td>\n",
       "      <td>0.0</td>\n",
       "      <td>1.0</td>\n",
       "      <td>0.0</td>\n",
       "      <td>0.0</td>\n",
       "      <td>0.0</td>\n",
       "      <td>0.0</td>\n",
       "      <td>1.0</td>\n",
       "      <td>0.0</td>\n",
       "      <td>0.0</td>\n",
       "      <td>0.0</td>\n",
       "      <td>0.0</td>\n",
       "    </tr>\n",
       "    <tr>\n",
       "      <th>1</th>\n",
       "      <td>120000.0</td>\n",
       "      <td>2</td>\n",
       "      <td>2</td>\n",
       "      <td>26</td>\n",
       "      <td>-1</td>\n",
       "      <td>2</td>\n",
       "      <td>0</td>\n",
       "      <td>0</td>\n",
       "      <td>0</td>\n",
       "      <td>2</td>\n",
       "      <td>2682.0</td>\n",
       "      <td>1725.0</td>\n",
       "      <td>2682.0</td>\n",
       "      <td>3272.0</td>\n",
       "      <td>3455.0</td>\n",
       "      <td>3261.0</td>\n",
       "      <td>0.0</td>\n",
       "      <td>1000.0</td>\n",
       "      <td>1000.0</td>\n",
       "      <td>1000.0</td>\n",
       "      <td>0.0</td>\n",
       "      <td>2000.0</td>\n",
       "      <td>1</td>\n",
       "      <td>0.0</td>\n",
       "      <td>0.0</td>\n",
       "      <td>1.0</td>\n",
       "      <td>0.0</td>\n",
       "      <td>0.0</td>\n",
       "      <td>0.0</td>\n",
       "      <td>1.0</td>\n",
       "      <td>0.0</td>\n",
       "      <td>0.0</td>\n",
       "      <td>0.0</td>\n",
       "      <td>0.0</td>\n",
       "    </tr>\n",
       "    <tr>\n",
       "      <th>2</th>\n",
       "      <td>90000.0</td>\n",
       "      <td>2</td>\n",
       "      <td>2</td>\n",
       "      <td>34</td>\n",
       "      <td>0</td>\n",
       "      <td>0</td>\n",
       "      <td>0</td>\n",
       "      <td>0</td>\n",
       "      <td>0</td>\n",
       "      <td>0</td>\n",
       "      <td>29239.0</td>\n",
       "      <td>14027.0</td>\n",
       "      <td>13559.0</td>\n",
       "      <td>14331.0</td>\n",
       "      <td>14948.0</td>\n",
       "      <td>15549.0</td>\n",
       "      <td>1518.0</td>\n",
       "      <td>1500.0</td>\n",
       "      <td>1000.0</td>\n",
       "      <td>1000.0</td>\n",
       "      <td>1000.0</td>\n",
       "      <td>5000.0</td>\n",
       "      <td>0</td>\n",
       "      <td>0.0</td>\n",
       "      <td>0.0</td>\n",
       "      <td>1.0</td>\n",
       "      <td>0.0</td>\n",
       "      <td>0.0</td>\n",
       "      <td>0.0</td>\n",
       "      <td>1.0</td>\n",
       "      <td>0.0</td>\n",
       "      <td>0.0</td>\n",
       "      <td>0.0</td>\n",
       "      <td>0.0</td>\n",
       "    </tr>\n",
       "    <tr>\n",
       "      <th>3</th>\n",
       "      <td>50000.0</td>\n",
       "      <td>2</td>\n",
       "      <td>2</td>\n",
       "      <td>37</td>\n",
       "      <td>0</td>\n",
       "      <td>0</td>\n",
       "      <td>0</td>\n",
       "      <td>0</td>\n",
       "      <td>0</td>\n",
       "      <td>0</td>\n",
       "      <td>46990.0</td>\n",
       "      <td>48233.0</td>\n",
       "      <td>49291.0</td>\n",
       "      <td>28314.0</td>\n",
       "      <td>28959.0</td>\n",
       "      <td>29547.0</td>\n",
       "      <td>2000.0</td>\n",
       "      <td>2019.0</td>\n",
       "      <td>1200.0</td>\n",
       "      <td>1100.0</td>\n",
       "      <td>1069.0</td>\n",
       "      <td>1000.0</td>\n",
       "      <td>0</td>\n",
       "      <td>0.0</td>\n",
       "      <td>1.0</td>\n",
       "      <td>0.0</td>\n",
       "      <td>0.0</td>\n",
       "      <td>0.0</td>\n",
       "      <td>0.0</td>\n",
       "      <td>1.0</td>\n",
       "      <td>0.0</td>\n",
       "      <td>0.0</td>\n",
       "      <td>0.0</td>\n",
       "      <td>0.0</td>\n",
       "    </tr>\n",
       "    <tr>\n",
       "      <th>4</th>\n",
       "      <td>50000.0</td>\n",
       "      <td>1</td>\n",
       "      <td>2</td>\n",
       "      <td>57</td>\n",
       "      <td>-1</td>\n",
       "      <td>0</td>\n",
       "      <td>-1</td>\n",
       "      <td>0</td>\n",
       "      <td>0</td>\n",
       "      <td>0</td>\n",
       "      <td>8617.0</td>\n",
       "      <td>5670.0</td>\n",
       "      <td>35835.0</td>\n",
       "      <td>20940.0</td>\n",
       "      <td>19146.0</td>\n",
       "      <td>19131.0</td>\n",
       "      <td>2000.0</td>\n",
       "      <td>36681.0</td>\n",
       "      <td>10000.0</td>\n",
       "      <td>9000.0</td>\n",
       "      <td>689.0</td>\n",
       "      <td>679.0</td>\n",
       "      <td>0</td>\n",
       "      <td>0.0</td>\n",
       "      <td>1.0</td>\n",
       "      <td>0.0</td>\n",
       "      <td>0.0</td>\n",
       "      <td>0.0</td>\n",
       "      <td>0.0</td>\n",
       "      <td>1.0</td>\n",
       "      <td>0.0</td>\n",
       "      <td>0.0</td>\n",
       "      <td>0.0</td>\n",
       "      <td>0.0</td>\n",
       "    </tr>\n",
       "  </tbody>\n",
       "</table>\n",
       "</div>"
      ],
      "text/plain": [
       "   LIMIT_BAL  SEX  EDUCATION  AGE  PAY_0  PAY_2  PAY_3  PAY_4  PAY_5  PAY_6  \\\n",
       "0    20000.0    2          2   24      2      2     -1     -1     -2     -2   \n",
       "1   120000.0    2          2   26     -1      2      0      0      0      2   \n",
       "2    90000.0    2          2   34      0      0      0      0      0      0   \n",
       "3    50000.0    2          2   37      0      0      0      0      0      0   \n",
       "4    50000.0    1          2   57     -1      0     -1      0      0      0   \n",
       "\n",
       "   BILL_AMT1  BILL_AMT2  BILL_AMT3  BILL_AMT4  BILL_AMT5  BILL_AMT6  PAY_AMT1  \\\n",
       "0     3913.0     3102.0      689.0        0.0        0.0        0.0       0.0   \n",
       "1     2682.0     1725.0     2682.0     3272.0     3455.0     3261.0       0.0   \n",
       "2    29239.0    14027.0    13559.0    14331.0    14948.0    15549.0    1518.0   \n",
       "3    46990.0    48233.0    49291.0    28314.0    28959.0    29547.0    2000.0   \n",
       "4     8617.0     5670.0    35835.0    20940.0    19146.0    19131.0    2000.0   \n",
       "\n",
       "   PAY_AMT2  PAY_AMT3  PAY_AMT4  PAY_AMT5  PAY_AMT6  \\\n",
       "0     689.0       0.0       0.0       0.0       0.0   \n",
       "1    1000.0    1000.0    1000.0       0.0    2000.0   \n",
       "2    1500.0    1000.0    1000.0    1000.0    5000.0   \n",
       "3    2019.0    1200.0    1100.0    1069.0    1000.0   \n",
       "4   36681.0   10000.0    9000.0     689.0     679.0   \n",
       "\n",
       "   default.payment.next.month  Mar1  Mar2  Mar3  Mar4  Edu1  Edu2  Edu3  Edu4  \\\n",
       "0                           1   0.0   1.0   0.0   0.0   0.0   0.0   1.0   0.0   \n",
       "1                           1   0.0   0.0   1.0   0.0   0.0   0.0   1.0   0.0   \n",
       "2                           0   0.0   0.0   1.0   0.0   0.0   0.0   1.0   0.0   \n",
       "3                           0   0.0   1.0   0.0   0.0   0.0   0.0   1.0   0.0   \n",
       "4                           0   0.0   1.0   0.0   0.0   0.0   0.0   1.0   0.0   \n",
       "\n",
       "   Edu5  Edu6  Edu7  \n",
       "0   0.0   0.0   0.0  \n",
       "1   0.0   0.0   0.0  \n",
       "2   0.0   0.0   0.0  \n",
       "3   0.0   0.0   0.0  \n",
       "4   0.0   0.0   0.0  "
      ]
     },
     "execution_count": 24,
     "metadata": {},
     "output_type": "execute_result"
    }
   ],
   "source": [
    "df= pd.concat([df,df_Edu],axis=1)\n",
    "df.head()"
   ]
  },
  {
   "cell_type": "code",
   "execution_count": 25,
   "id": "0f6fb860",
   "metadata": {
    "execution": {
     "iopub.execute_input": "2022-12-13T09:54:05.792564Z",
     "iopub.status.busy": "2022-12-13T09:54:05.792142Z",
     "iopub.status.idle": "2022-12-13T09:54:05.843905Z",
     "shell.execute_reply": "2022-12-13T09:54:05.842704Z"
    },
    "papermill": {
     "duration": 0.079669,
     "end_time": "2022-12-13T09:54:05.846321",
     "exception": false,
     "start_time": "2022-12-13T09:54:05.766652",
     "status": "completed"
    },
    "tags": []
   },
   "outputs": [
    {
     "data": {
      "text/html": [
       "<div>\n",
       "<style scoped>\n",
       "    .dataframe tbody tr th:only-of-type {\n",
       "        vertical-align: middle;\n",
       "    }\n",
       "\n",
       "    .dataframe tbody tr th {\n",
       "        vertical-align: top;\n",
       "    }\n",
       "\n",
       "    .dataframe thead th {\n",
       "        text-align: right;\n",
       "    }\n",
       "</style>\n",
       "<table border=\"1\" class=\"dataframe\">\n",
       "  <thead>\n",
       "    <tr style=\"text-align: right;\">\n",
       "      <th></th>\n",
       "      <th>LIMIT_BAL</th>\n",
       "      <th>SEX</th>\n",
       "      <th>AGE</th>\n",
       "      <th>PAY_0</th>\n",
       "      <th>PAY_2</th>\n",
       "      <th>PAY_3</th>\n",
       "      <th>PAY_4</th>\n",
       "      <th>PAY_5</th>\n",
       "      <th>PAY_6</th>\n",
       "      <th>BILL_AMT1</th>\n",
       "      <th>BILL_AMT2</th>\n",
       "      <th>BILL_AMT3</th>\n",
       "      <th>BILL_AMT4</th>\n",
       "      <th>BILL_AMT5</th>\n",
       "      <th>BILL_AMT6</th>\n",
       "      <th>PAY_AMT1</th>\n",
       "      <th>PAY_AMT2</th>\n",
       "      <th>PAY_AMT3</th>\n",
       "      <th>PAY_AMT4</th>\n",
       "      <th>PAY_AMT5</th>\n",
       "      <th>PAY_AMT6</th>\n",
       "      <th>default.payment.next.month</th>\n",
       "      <th>Mar1</th>\n",
       "      <th>Mar2</th>\n",
       "      <th>Mar3</th>\n",
       "      <th>Mar4</th>\n",
       "      <th>Edu1</th>\n",
       "      <th>Edu2</th>\n",
       "      <th>Edu3</th>\n",
       "      <th>Edu4</th>\n",
       "      <th>Edu5</th>\n",
       "      <th>Edu6</th>\n",
       "      <th>Edu7</th>\n",
       "    </tr>\n",
       "  </thead>\n",
       "  <tbody>\n",
       "    <tr>\n",
       "      <th>29995</th>\n",
       "      <td>220000.0</td>\n",
       "      <td>1</td>\n",
       "      <td>39</td>\n",
       "      <td>0</td>\n",
       "      <td>0</td>\n",
       "      <td>0</td>\n",
       "      <td>0</td>\n",
       "      <td>0</td>\n",
       "      <td>0</td>\n",
       "      <td>188948.0</td>\n",
       "      <td>192815.0</td>\n",
       "      <td>208365.0</td>\n",
       "      <td>88004.0</td>\n",
       "      <td>31237.0</td>\n",
       "      <td>15980.0</td>\n",
       "      <td>8500.0</td>\n",
       "      <td>20000.0</td>\n",
       "      <td>5003.0</td>\n",
       "      <td>3047.0</td>\n",
       "      <td>5000.0</td>\n",
       "      <td>1000.0</td>\n",
       "      <td>0</td>\n",
       "      <td>0.0</td>\n",
       "      <td>1.0</td>\n",
       "      <td>0.0</td>\n",
       "      <td>0.0</td>\n",
       "      <td>0.0</td>\n",
       "      <td>0.0</td>\n",
       "      <td>0.0</td>\n",
       "      <td>1.0</td>\n",
       "      <td>0.0</td>\n",
       "      <td>0.0</td>\n",
       "      <td>0.0</td>\n",
       "    </tr>\n",
       "    <tr>\n",
       "      <th>29996</th>\n",
       "      <td>150000.0</td>\n",
       "      <td>1</td>\n",
       "      <td>43</td>\n",
       "      <td>-1</td>\n",
       "      <td>-1</td>\n",
       "      <td>-1</td>\n",
       "      <td>-1</td>\n",
       "      <td>0</td>\n",
       "      <td>0</td>\n",
       "      <td>1683.0</td>\n",
       "      <td>1828.0</td>\n",
       "      <td>3502.0</td>\n",
       "      <td>8979.0</td>\n",
       "      <td>5190.0</td>\n",
       "      <td>0.0</td>\n",
       "      <td>1837.0</td>\n",
       "      <td>3526.0</td>\n",
       "      <td>8998.0</td>\n",
       "      <td>129.0</td>\n",
       "      <td>0.0</td>\n",
       "      <td>0.0</td>\n",
       "      <td>0</td>\n",
       "      <td>0.0</td>\n",
       "      <td>0.0</td>\n",
       "      <td>1.0</td>\n",
       "      <td>0.0</td>\n",
       "      <td>0.0</td>\n",
       "      <td>0.0</td>\n",
       "      <td>0.0</td>\n",
       "      <td>1.0</td>\n",
       "      <td>0.0</td>\n",
       "      <td>0.0</td>\n",
       "      <td>0.0</td>\n",
       "    </tr>\n",
       "    <tr>\n",
       "      <th>29997</th>\n",
       "      <td>30000.0</td>\n",
       "      <td>1</td>\n",
       "      <td>37</td>\n",
       "      <td>4</td>\n",
       "      <td>3</td>\n",
       "      <td>2</td>\n",
       "      <td>-1</td>\n",
       "      <td>0</td>\n",
       "      <td>0</td>\n",
       "      <td>3565.0</td>\n",
       "      <td>3356.0</td>\n",
       "      <td>2758.0</td>\n",
       "      <td>20878.0</td>\n",
       "      <td>20582.0</td>\n",
       "      <td>19357.0</td>\n",
       "      <td>0.0</td>\n",
       "      <td>0.0</td>\n",
       "      <td>22000.0</td>\n",
       "      <td>4200.0</td>\n",
       "      <td>2000.0</td>\n",
       "      <td>3100.0</td>\n",
       "      <td>1</td>\n",
       "      <td>0.0</td>\n",
       "      <td>0.0</td>\n",
       "      <td>1.0</td>\n",
       "      <td>0.0</td>\n",
       "      <td>0.0</td>\n",
       "      <td>0.0</td>\n",
       "      <td>1.0</td>\n",
       "      <td>0.0</td>\n",
       "      <td>0.0</td>\n",
       "      <td>0.0</td>\n",
       "      <td>0.0</td>\n",
       "    </tr>\n",
       "    <tr>\n",
       "      <th>29998</th>\n",
       "      <td>80000.0</td>\n",
       "      <td>1</td>\n",
       "      <td>41</td>\n",
       "      <td>1</td>\n",
       "      <td>-1</td>\n",
       "      <td>0</td>\n",
       "      <td>0</td>\n",
       "      <td>0</td>\n",
       "      <td>-1</td>\n",
       "      <td>-1645.0</td>\n",
       "      <td>78379.0</td>\n",
       "      <td>76304.0</td>\n",
       "      <td>52774.0</td>\n",
       "      <td>11855.0</td>\n",
       "      <td>48944.0</td>\n",
       "      <td>85900.0</td>\n",
       "      <td>3409.0</td>\n",
       "      <td>1178.0</td>\n",
       "      <td>1926.0</td>\n",
       "      <td>52964.0</td>\n",
       "      <td>1804.0</td>\n",
       "      <td>1</td>\n",
       "      <td>0.0</td>\n",
       "      <td>1.0</td>\n",
       "      <td>0.0</td>\n",
       "      <td>0.0</td>\n",
       "      <td>0.0</td>\n",
       "      <td>0.0</td>\n",
       "      <td>0.0</td>\n",
       "      <td>1.0</td>\n",
       "      <td>0.0</td>\n",
       "      <td>0.0</td>\n",
       "      <td>0.0</td>\n",
       "    </tr>\n",
       "    <tr>\n",
       "      <th>29999</th>\n",
       "      <td>50000.0</td>\n",
       "      <td>1</td>\n",
       "      <td>46</td>\n",
       "      <td>0</td>\n",
       "      <td>0</td>\n",
       "      <td>0</td>\n",
       "      <td>0</td>\n",
       "      <td>0</td>\n",
       "      <td>0</td>\n",
       "      <td>47929.0</td>\n",
       "      <td>48905.0</td>\n",
       "      <td>49764.0</td>\n",
       "      <td>36535.0</td>\n",
       "      <td>32428.0</td>\n",
       "      <td>15313.0</td>\n",
       "      <td>2078.0</td>\n",
       "      <td>1800.0</td>\n",
       "      <td>1430.0</td>\n",
       "      <td>1000.0</td>\n",
       "      <td>1000.0</td>\n",
       "      <td>1000.0</td>\n",
       "      <td>1</td>\n",
       "      <td>0.0</td>\n",
       "      <td>1.0</td>\n",
       "      <td>0.0</td>\n",
       "      <td>0.0</td>\n",
       "      <td>0.0</td>\n",
       "      <td>0.0</td>\n",
       "      <td>1.0</td>\n",
       "      <td>0.0</td>\n",
       "      <td>0.0</td>\n",
       "      <td>0.0</td>\n",
       "      <td>0.0</td>\n",
       "    </tr>\n",
       "  </tbody>\n",
       "</table>\n",
       "</div>"
      ],
      "text/plain": [
       "       LIMIT_BAL  SEX  AGE  PAY_0  PAY_2  PAY_3  PAY_4  PAY_5  PAY_6  \\\n",
       "29995   220000.0    1   39      0      0      0      0      0      0   \n",
       "29996   150000.0    1   43     -1     -1     -1     -1      0      0   \n",
       "29997    30000.0    1   37      4      3      2     -1      0      0   \n",
       "29998    80000.0    1   41      1     -1      0      0      0     -1   \n",
       "29999    50000.0    1   46      0      0      0      0      0      0   \n",
       "\n",
       "       BILL_AMT1  BILL_AMT2  BILL_AMT3  BILL_AMT4  BILL_AMT5  BILL_AMT6  \\\n",
       "29995   188948.0   192815.0   208365.0    88004.0    31237.0    15980.0   \n",
       "29996     1683.0     1828.0     3502.0     8979.0     5190.0        0.0   \n",
       "29997     3565.0     3356.0     2758.0    20878.0    20582.0    19357.0   \n",
       "29998    -1645.0    78379.0    76304.0    52774.0    11855.0    48944.0   \n",
       "29999    47929.0    48905.0    49764.0    36535.0    32428.0    15313.0   \n",
       "\n",
       "       PAY_AMT1  PAY_AMT2  PAY_AMT3  PAY_AMT4  PAY_AMT5  PAY_AMT6  \\\n",
       "29995    8500.0   20000.0    5003.0    3047.0    5000.0    1000.0   \n",
       "29996    1837.0    3526.0    8998.0     129.0       0.0       0.0   \n",
       "29997       0.0       0.0   22000.0    4200.0    2000.0    3100.0   \n",
       "29998   85900.0    3409.0    1178.0    1926.0   52964.0    1804.0   \n",
       "29999    2078.0    1800.0    1430.0    1000.0    1000.0    1000.0   \n",
       "\n",
       "       default.payment.next.month  Mar1  Mar2  Mar3  Mar4  Edu1  Edu2  Edu3  \\\n",
       "29995                           0   0.0   1.0   0.0   0.0   0.0   0.0   0.0   \n",
       "29996                           0   0.0   0.0   1.0   0.0   0.0   0.0   0.0   \n",
       "29997                           1   0.0   0.0   1.0   0.0   0.0   0.0   1.0   \n",
       "29998                           1   0.0   1.0   0.0   0.0   0.0   0.0   0.0   \n",
       "29999                           1   0.0   1.0   0.0   0.0   0.0   0.0   1.0   \n",
       "\n",
       "       Edu4  Edu5  Edu6  Edu7  \n",
       "29995   1.0   0.0   0.0   0.0  \n",
       "29996   1.0   0.0   0.0   0.0  \n",
       "29997   0.0   0.0   0.0   0.0  \n",
       "29998   1.0   0.0   0.0   0.0  \n",
       "29999   0.0   0.0   0.0   0.0  "
      ]
     },
     "execution_count": 25,
     "metadata": {},
     "output_type": "execute_result"
    }
   ],
   "source": [
    "df.drop(columns=[\"EDUCATION\"],inplace=True)\n",
    "df.tail()"
   ]
  },
  {
   "cell_type": "markdown",
   "id": "fe86c244",
   "metadata": {
    "papermill": {
     "duration": 0.023231,
     "end_time": "2022-12-13T09:54:05.893531",
     "exception": false,
     "start_time": "2022-12-13T09:54:05.870300",
     "status": "completed"
    },
    "tags": []
   },
   "source": [
    "<a id= \"5\"></a>\n",
    "## Sex "
   ]
  },
  {
   "cell_type": "code",
   "execution_count": 26,
   "id": "ecd5344d",
   "metadata": {
    "execution": {
     "iopub.execute_input": "2022-12-13T09:54:05.942572Z",
     "iopub.status.busy": "2022-12-13T09:54:05.942144Z",
     "iopub.status.idle": "2022-12-13T09:54:05.949447Z",
     "shell.execute_reply": "2022-12-13T09:54:05.948587Z"
    },
    "papermill": {
     "duration": 0.03456,
     "end_time": "2022-12-13T09:54:05.951728",
     "exception": false,
     "start_time": "2022-12-13T09:54:05.917168",
     "status": "completed"
    },
    "tags": []
   },
   "outputs": [
    {
     "data": {
      "text/plain": [
       "array([2, 1])"
      ]
     },
     "execution_count": 26,
     "metadata": {},
     "output_type": "execute_result"
    }
   ],
   "source": [
    "df[\"SEX\"].unique()"
   ]
  },
  {
   "cell_type": "code",
   "execution_count": 27,
   "id": "2d02c4bc",
   "metadata": {
    "execution": {
     "iopub.execute_input": "2022-12-13T09:54:06.001454Z",
     "iopub.status.busy": "2022-12-13T09:54:06.000702Z",
     "iopub.status.idle": "2022-12-13T09:54:06.008693Z",
     "shell.execute_reply": "2022-12-13T09:54:06.007729Z"
    },
    "papermill": {
     "duration": 0.035941,
     "end_time": "2022-12-13T09:54:06.011310",
     "exception": false,
     "start_time": "2022-12-13T09:54:05.975369",
     "status": "completed"
    },
    "tags": []
   },
   "outputs": [],
   "source": [
    "SEX = df[\"SEX\"].to_numpy().reshape(-1,1)\n",
    "New_SEX = ohe.fit_transform(SEX).toarray()"
   ]
  },
  {
   "cell_type": "code",
   "execution_count": 28,
   "id": "dffe18c7",
   "metadata": {
    "execution": {
     "iopub.execute_input": "2022-12-13T09:54:06.063153Z",
     "iopub.status.busy": "2022-12-13T09:54:06.062127Z",
     "iopub.status.idle": "2022-12-13T09:54:06.070747Z",
     "shell.execute_reply": "2022-12-13T09:54:06.069558Z"
    },
    "papermill": {
     "duration": 0.036796,
     "end_time": "2022-12-13T09:54:06.073421",
     "exception": false,
     "start_time": "2022-12-13T09:54:06.036625",
     "status": "completed"
    },
    "tags": []
   },
   "outputs": [
    {
     "data": {
      "text/plain": [
       "numpy.ndarray"
      ]
     },
     "execution_count": 28,
     "metadata": {},
     "output_type": "execute_result"
    }
   ],
   "source": [
    "columns_labels2 = [\"Male\",\"Female\"]\n",
    "columns_labels2 = np.array(columns_labels2).ravel()\n",
    "type(columns_labels2)"
   ]
  },
  {
   "cell_type": "code",
   "execution_count": 29,
   "id": "3c919213",
   "metadata": {
    "execution": {
     "iopub.execute_input": "2022-12-13T09:54:06.124056Z",
     "iopub.status.busy": "2022-12-13T09:54:06.123161Z",
     "iopub.status.idle": "2022-12-13T09:54:06.133844Z",
     "shell.execute_reply": "2022-12-13T09:54:06.132390Z"
    },
    "papermill": {
     "duration": 0.039046,
     "end_time": "2022-12-13T09:54:06.136555",
     "exception": false,
     "start_time": "2022-12-13T09:54:06.097509",
     "status": "completed"
    },
    "tags": []
   },
   "outputs": [
    {
     "name": "stdout",
     "output_type": "stream",
     "text": [
      "       Male  Female\n",
      "0       0.0     1.0\n",
      "1       0.0     1.0\n",
      "2       0.0     1.0\n",
      "3       0.0     1.0\n",
      "4       1.0     0.0\n",
      "...     ...     ...\n",
      "29995   1.0     0.0\n",
      "29996   1.0     0.0\n",
      "29997   1.0     0.0\n",
      "29998   1.0     0.0\n",
      "29999   1.0     0.0\n",
      "\n",
      "[30000 rows x 2 columns]\n"
     ]
    }
   ],
   "source": [
    "df_Sex = pd.DataFrame(data=New_SEX, columns = columns_labels2)\n",
    "print(df_Sex)"
   ]
  },
  {
   "cell_type": "code",
   "execution_count": 30,
   "id": "2dbfe0a2",
   "metadata": {
    "execution": {
     "iopub.execute_input": "2022-12-13T09:54:06.187458Z",
     "iopub.status.busy": "2022-12-13T09:54:06.186116Z",
     "iopub.status.idle": "2022-12-13T09:54:06.235068Z",
     "shell.execute_reply": "2022-12-13T09:54:06.234016Z"
    },
    "papermill": {
     "duration": 0.077035,
     "end_time": "2022-12-13T09:54:06.237915",
     "exception": false,
     "start_time": "2022-12-13T09:54:06.160880",
     "status": "completed"
    },
    "tags": []
   },
   "outputs": [
    {
     "data": {
      "text/html": [
       "<div>\n",
       "<style scoped>\n",
       "    .dataframe tbody tr th:only-of-type {\n",
       "        vertical-align: middle;\n",
       "    }\n",
       "\n",
       "    .dataframe tbody tr th {\n",
       "        vertical-align: top;\n",
       "    }\n",
       "\n",
       "    .dataframe thead th {\n",
       "        text-align: right;\n",
       "    }\n",
       "</style>\n",
       "<table border=\"1\" class=\"dataframe\">\n",
       "  <thead>\n",
       "    <tr style=\"text-align: right;\">\n",
       "      <th></th>\n",
       "      <th>LIMIT_BAL</th>\n",
       "      <th>SEX</th>\n",
       "      <th>AGE</th>\n",
       "      <th>PAY_0</th>\n",
       "      <th>PAY_2</th>\n",
       "      <th>PAY_3</th>\n",
       "      <th>PAY_4</th>\n",
       "      <th>PAY_5</th>\n",
       "      <th>PAY_6</th>\n",
       "      <th>BILL_AMT1</th>\n",
       "      <th>BILL_AMT2</th>\n",
       "      <th>BILL_AMT3</th>\n",
       "      <th>BILL_AMT4</th>\n",
       "      <th>BILL_AMT5</th>\n",
       "      <th>BILL_AMT6</th>\n",
       "      <th>PAY_AMT1</th>\n",
       "      <th>PAY_AMT2</th>\n",
       "      <th>PAY_AMT3</th>\n",
       "      <th>PAY_AMT4</th>\n",
       "      <th>PAY_AMT5</th>\n",
       "      <th>PAY_AMT6</th>\n",
       "      <th>default.payment.next.month</th>\n",
       "      <th>Mar1</th>\n",
       "      <th>Mar2</th>\n",
       "      <th>Mar3</th>\n",
       "      <th>Mar4</th>\n",
       "      <th>Edu1</th>\n",
       "      <th>Edu2</th>\n",
       "      <th>Edu3</th>\n",
       "      <th>Edu4</th>\n",
       "      <th>Edu5</th>\n",
       "      <th>Edu6</th>\n",
       "      <th>Edu7</th>\n",
       "      <th>Male</th>\n",
       "      <th>Female</th>\n",
       "    </tr>\n",
       "  </thead>\n",
       "  <tbody>\n",
       "    <tr>\n",
       "      <th>0</th>\n",
       "      <td>20000.0</td>\n",
       "      <td>2</td>\n",
       "      <td>24</td>\n",
       "      <td>2</td>\n",
       "      <td>2</td>\n",
       "      <td>-1</td>\n",
       "      <td>-1</td>\n",
       "      <td>-2</td>\n",
       "      <td>-2</td>\n",
       "      <td>3913.0</td>\n",
       "      <td>3102.0</td>\n",
       "      <td>689.0</td>\n",
       "      <td>0.0</td>\n",
       "      <td>0.0</td>\n",
       "      <td>0.0</td>\n",
       "      <td>0.0</td>\n",
       "      <td>689.0</td>\n",
       "      <td>0.0</td>\n",
       "      <td>0.0</td>\n",
       "      <td>0.0</td>\n",
       "      <td>0.0</td>\n",
       "      <td>1</td>\n",
       "      <td>0.0</td>\n",
       "      <td>1.0</td>\n",
       "      <td>0.0</td>\n",
       "      <td>0.0</td>\n",
       "      <td>0.0</td>\n",
       "      <td>0.0</td>\n",
       "      <td>1.0</td>\n",
       "      <td>0.0</td>\n",
       "      <td>0.0</td>\n",
       "      <td>0.0</td>\n",
       "      <td>0.0</td>\n",
       "      <td>0.0</td>\n",
       "      <td>1.0</td>\n",
       "    </tr>\n",
       "    <tr>\n",
       "      <th>1</th>\n",
       "      <td>120000.0</td>\n",
       "      <td>2</td>\n",
       "      <td>26</td>\n",
       "      <td>-1</td>\n",
       "      <td>2</td>\n",
       "      <td>0</td>\n",
       "      <td>0</td>\n",
       "      <td>0</td>\n",
       "      <td>2</td>\n",
       "      <td>2682.0</td>\n",
       "      <td>1725.0</td>\n",
       "      <td>2682.0</td>\n",
       "      <td>3272.0</td>\n",
       "      <td>3455.0</td>\n",
       "      <td>3261.0</td>\n",
       "      <td>0.0</td>\n",
       "      <td>1000.0</td>\n",
       "      <td>1000.0</td>\n",
       "      <td>1000.0</td>\n",
       "      <td>0.0</td>\n",
       "      <td>2000.0</td>\n",
       "      <td>1</td>\n",
       "      <td>0.0</td>\n",
       "      <td>0.0</td>\n",
       "      <td>1.0</td>\n",
       "      <td>0.0</td>\n",
       "      <td>0.0</td>\n",
       "      <td>0.0</td>\n",
       "      <td>1.0</td>\n",
       "      <td>0.0</td>\n",
       "      <td>0.0</td>\n",
       "      <td>0.0</td>\n",
       "      <td>0.0</td>\n",
       "      <td>0.0</td>\n",
       "      <td>1.0</td>\n",
       "    </tr>\n",
       "    <tr>\n",
       "      <th>2</th>\n",
       "      <td>90000.0</td>\n",
       "      <td>2</td>\n",
       "      <td>34</td>\n",
       "      <td>0</td>\n",
       "      <td>0</td>\n",
       "      <td>0</td>\n",
       "      <td>0</td>\n",
       "      <td>0</td>\n",
       "      <td>0</td>\n",
       "      <td>29239.0</td>\n",
       "      <td>14027.0</td>\n",
       "      <td>13559.0</td>\n",
       "      <td>14331.0</td>\n",
       "      <td>14948.0</td>\n",
       "      <td>15549.0</td>\n",
       "      <td>1518.0</td>\n",
       "      <td>1500.0</td>\n",
       "      <td>1000.0</td>\n",
       "      <td>1000.0</td>\n",
       "      <td>1000.0</td>\n",
       "      <td>5000.0</td>\n",
       "      <td>0</td>\n",
       "      <td>0.0</td>\n",
       "      <td>0.0</td>\n",
       "      <td>1.0</td>\n",
       "      <td>0.0</td>\n",
       "      <td>0.0</td>\n",
       "      <td>0.0</td>\n",
       "      <td>1.0</td>\n",
       "      <td>0.0</td>\n",
       "      <td>0.0</td>\n",
       "      <td>0.0</td>\n",
       "      <td>0.0</td>\n",
       "      <td>0.0</td>\n",
       "      <td>1.0</td>\n",
       "    </tr>\n",
       "    <tr>\n",
       "      <th>3</th>\n",
       "      <td>50000.0</td>\n",
       "      <td>2</td>\n",
       "      <td>37</td>\n",
       "      <td>0</td>\n",
       "      <td>0</td>\n",
       "      <td>0</td>\n",
       "      <td>0</td>\n",
       "      <td>0</td>\n",
       "      <td>0</td>\n",
       "      <td>46990.0</td>\n",
       "      <td>48233.0</td>\n",
       "      <td>49291.0</td>\n",
       "      <td>28314.0</td>\n",
       "      <td>28959.0</td>\n",
       "      <td>29547.0</td>\n",
       "      <td>2000.0</td>\n",
       "      <td>2019.0</td>\n",
       "      <td>1200.0</td>\n",
       "      <td>1100.0</td>\n",
       "      <td>1069.0</td>\n",
       "      <td>1000.0</td>\n",
       "      <td>0</td>\n",
       "      <td>0.0</td>\n",
       "      <td>1.0</td>\n",
       "      <td>0.0</td>\n",
       "      <td>0.0</td>\n",
       "      <td>0.0</td>\n",
       "      <td>0.0</td>\n",
       "      <td>1.0</td>\n",
       "      <td>0.0</td>\n",
       "      <td>0.0</td>\n",
       "      <td>0.0</td>\n",
       "      <td>0.0</td>\n",
       "      <td>0.0</td>\n",
       "      <td>1.0</td>\n",
       "    </tr>\n",
       "    <tr>\n",
       "      <th>4</th>\n",
       "      <td>50000.0</td>\n",
       "      <td>1</td>\n",
       "      <td>57</td>\n",
       "      <td>-1</td>\n",
       "      <td>0</td>\n",
       "      <td>-1</td>\n",
       "      <td>0</td>\n",
       "      <td>0</td>\n",
       "      <td>0</td>\n",
       "      <td>8617.0</td>\n",
       "      <td>5670.0</td>\n",
       "      <td>35835.0</td>\n",
       "      <td>20940.0</td>\n",
       "      <td>19146.0</td>\n",
       "      <td>19131.0</td>\n",
       "      <td>2000.0</td>\n",
       "      <td>36681.0</td>\n",
       "      <td>10000.0</td>\n",
       "      <td>9000.0</td>\n",
       "      <td>689.0</td>\n",
       "      <td>679.0</td>\n",
       "      <td>0</td>\n",
       "      <td>0.0</td>\n",
       "      <td>1.0</td>\n",
       "      <td>0.0</td>\n",
       "      <td>0.0</td>\n",
       "      <td>0.0</td>\n",
       "      <td>0.0</td>\n",
       "      <td>1.0</td>\n",
       "      <td>0.0</td>\n",
       "      <td>0.0</td>\n",
       "      <td>0.0</td>\n",
       "      <td>0.0</td>\n",
       "      <td>1.0</td>\n",
       "      <td>0.0</td>\n",
       "    </tr>\n",
       "  </tbody>\n",
       "</table>\n",
       "</div>"
      ],
      "text/plain": [
       "   LIMIT_BAL  SEX  AGE  PAY_0  PAY_2  PAY_3  PAY_4  PAY_5  PAY_6  BILL_AMT1  \\\n",
       "0    20000.0    2   24      2      2     -1     -1     -2     -2     3913.0   \n",
       "1   120000.0    2   26     -1      2      0      0      0      2     2682.0   \n",
       "2    90000.0    2   34      0      0      0      0      0      0    29239.0   \n",
       "3    50000.0    2   37      0      0      0      0      0      0    46990.0   \n",
       "4    50000.0    1   57     -1      0     -1      0      0      0     8617.0   \n",
       "\n",
       "   BILL_AMT2  BILL_AMT3  BILL_AMT4  BILL_AMT5  BILL_AMT6  PAY_AMT1  PAY_AMT2  \\\n",
       "0     3102.0      689.0        0.0        0.0        0.0       0.0     689.0   \n",
       "1     1725.0     2682.0     3272.0     3455.0     3261.0       0.0    1000.0   \n",
       "2    14027.0    13559.0    14331.0    14948.0    15549.0    1518.0    1500.0   \n",
       "3    48233.0    49291.0    28314.0    28959.0    29547.0    2000.0    2019.0   \n",
       "4     5670.0    35835.0    20940.0    19146.0    19131.0    2000.0   36681.0   \n",
       "\n",
       "   PAY_AMT3  PAY_AMT4  PAY_AMT5  PAY_AMT6  default.payment.next.month  Mar1  \\\n",
       "0       0.0       0.0       0.0       0.0                           1   0.0   \n",
       "1    1000.0    1000.0       0.0    2000.0                           1   0.0   \n",
       "2    1000.0    1000.0    1000.0    5000.0                           0   0.0   \n",
       "3    1200.0    1100.0    1069.0    1000.0                           0   0.0   \n",
       "4   10000.0    9000.0     689.0     679.0                           0   0.0   \n",
       "\n",
       "   Mar2  Mar3  Mar4  Edu1  Edu2  Edu3  Edu4  Edu5  Edu6  Edu7  Male  Female  \n",
       "0   1.0   0.0   0.0   0.0   0.0   1.0   0.0   0.0   0.0   0.0   0.0     1.0  \n",
       "1   0.0   1.0   0.0   0.0   0.0   1.0   0.0   0.0   0.0   0.0   0.0     1.0  \n",
       "2   0.0   1.0   0.0   0.0   0.0   1.0   0.0   0.0   0.0   0.0   0.0     1.0  \n",
       "3   1.0   0.0   0.0   0.0   0.0   1.0   0.0   0.0   0.0   0.0   0.0     1.0  \n",
       "4   1.0   0.0   0.0   0.0   0.0   1.0   0.0   0.0   0.0   0.0   1.0     0.0  "
      ]
     },
     "execution_count": 30,
     "metadata": {},
     "output_type": "execute_result"
    }
   ],
   "source": [
    "df= pd.concat([df,df_Sex],axis=1)\n",
    "df.head()"
   ]
  },
  {
   "cell_type": "code",
   "execution_count": 31,
   "id": "0802bf6e",
   "metadata": {
    "execution": {
     "iopub.execute_input": "2022-12-13T09:54:06.289545Z",
     "iopub.status.busy": "2022-12-13T09:54:06.289105Z",
     "iopub.status.idle": "2022-12-13T09:54:06.346263Z",
     "shell.execute_reply": "2022-12-13T09:54:06.345081Z"
    },
    "papermill": {
     "duration": 0.086337,
     "end_time": "2022-12-13T09:54:06.348911",
     "exception": false,
     "start_time": "2022-12-13T09:54:06.262574",
     "status": "completed"
    },
    "tags": []
   },
   "outputs": [
    {
     "data": {
      "text/html": [
       "<div>\n",
       "<style scoped>\n",
       "    .dataframe tbody tr th:only-of-type {\n",
       "        vertical-align: middle;\n",
       "    }\n",
       "\n",
       "    .dataframe tbody tr th {\n",
       "        vertical-align: top;\n",
       "    }\n",
       "\n",
       "    .dataframe thead th {\n",
       "        text-align: right;\n",
       "    }\n",
       "</style>\n",
       "<table border=\"1\" class=\"dataframe\">\n",
       "  <thead>\n",
       "    <tr style=\"text-align: right;\">\n",
       "      <th></th>\n",
       "      <th>LIMIT_BAL</th>\n",
       "      <th>AGE</th>\n",
       "      <th>PAY_0</th>\n",
       "      <th>PAY_2</th>\n",
       "      <th>PAY_3</th>\n",
       "      <th>PAY_4</th>\n",
       "      <th>PAY_5</th>\n",
       "      <th>PAY_6</th>\n",
       "      <th>BILL_AMT1</th>\n",
       "      <th>BILL_AMT2</th>\n",
       "      <th>BILL_AMT3</th>\n",
       "      <th>BILL_AMT4</th>\n",
       "      <th>BILL_AMT5</th>\n",
       "      <th>BILL_AMT6</th>\n",
       "      <th>PAY_AMT1</th>\n",
       "      <th>PAY_AMT2</th>\n",
       "      <th>PAY_AMT3</th>\n",
       "      <th>PAY_AMT4</th>\n",
       "      <th>PAY_AMT5</th>\n",
       "      <th>PAY_AMT6</th>\n",
       "      <th>default.payment.next.month</th>\n",
       "      <th>Mar1</th>\n",
       "      <th>Mar2</th>\n",
       "      <th>Mar3</th>\n",
       "      <th>Mar4</th>\n",
       "      <th>Edu1</th>\n",
       "      <th>Edu2</th>\n",
       "      <th>Edu3</th>\n",
       "      <th>Edu4</th>\n",
       "      <th>Edu5</th>\n",
       "      <th>Edu6</th>\n",
       "      <th>Edu7</th>\n",
       "      <th>Male</th>\n",
       "      <th>Female</th>\n",
       "    </tr>\n",
       "  </thead>\n",
       "  <tbody>\n",
       "    <tr>\n",
       "      <th>29995</th>\n",
       "      <td>220000.0</td>\n",
       "      <td>39</td>\n",
       "      <td>0</td>\n",
       "      <td>0</td>\n",
       "      <td>0</td>\n",
       "      <td>0</td>\n",
       "      <td>0</td>\n",
       "      <td>0</td>\n",
       "      <td>188948.0</td>\n",
       "      <td>192815.0</td>\n",
       "      <td>208365.0</td>\n",
       "      <td>88004.0</td>\n",
       "      <td>31237.0</td>\n",
       "      <td>15980.0</td>\n",
       "      <td>8500.0</td>\n",
       "      <td>20000.0</td>\n",
       "      <td>5003.0</td>\n",
       "      <td>3047.0</td>\n",
       "      <td>5000.0</td>\n",
       "      <td>1000.0</td>\n",
       "      <td>0</td>\n",
       "      <td>0.0</td>\n",
       "      <td>1.0</td>\n",
       "      <td>0.0</td>\n",
       "      <td>0.0</td>\n",
       "      <td>0.0</td>\n",
       "      <td>0.0</td>\n",
       "      <td>0.0</td>\n",
       "      <td>1.0</td>\n",
       "      <td>0.0</td>\n",
       "      <td>0.0</td>\n",
       "      <td>0.0</td>\n",
       "      <td>1.0</td>\n",
       "      <td>0.0</td>\n",
       "    </tr>\n",
       "    <tr>\n",
       "      <th>29996</th>\n",
       "      <td>150000.0</td>\n",
       "      <td>43</td>\n",
       "      <td>-1</td>\n",
       "      <td>-1</td>\n",
       "      <td>-1</td>\n",
       "      <td>-1</td>\n",
       "      <td>0</td>\n",
       "      <td>0</td>\n",
       "      <td>1683.0</td>\n",
       "      <td>1828.0</td>\n",
       "      <td>3502.0</td>\n",
       "      <td>8979.0</td>\n",
       "      <td>5190.0</td>\n",
       "      <td>0.0</td>\n",
       "      <td>1837.0</td>\n",
       "      <td>3526.0</td>\n",
       "      <td>8998.0</td>\n",
       "      <td>129.0</td>\n",
       "      <td>0.0</td>\n",
       "      <td>0.0</td>\n",
       "      <td>0</td>\n",
       "      <td>0.0</td>\n",
       "      <td>0.0</td>\n",
       "      <td>1.0</td>\n",
       "      <td>0.0</td>\n",
       "      <td>0.0</td>\n",
       "      <td>0.0</td>\n",
       "      <td>0.0</td>\n",
       "      <td>1.0</td>\n",
       "      <td>0.0</td>\n",
       "      <td>0.0</td>\n",
       "      <td>0.0</td>\n",
       "      <td>1.0</td>\n",
       "      <td>0.0</td>\n",
       "    </tr>\n",
       "    <tr>\n",
       "      <th>29997</th>\n",
       "      <td>30000.0</td>\n",
       "      <td>37</td>\n",
       "      <td>4</td>\n",
       "      <td>3</td>\n",
       "      <td>2</td>\n",
       "      <td>-1</td>\n",
       "      <td>0</td>\n",
       "      <td>0</td>\n",
       "      <td>3565.0</td>\n",
       "      <td>3356.0</td>\n",
       "      <td>2758.0</td>\n",
       "      <td>20878.0</td>\n",
       "      <td>20582.0</td>\n",
       "      <td>19357.0</td>\n",
       "      <td>0.0</td>\n",
       "      <td>0.0</td>\n",
       "      <td>22000.0</td>\n",
       "      <td>4200.0</td>\n",
       "      <td>2000.0</td>\n",
       "      <td>3100.0</td>\n",
       "      <td>1</td>\n",
       "      <td>0.0</td>\n",
       "      <td>0.0</td>\n",
       "      <td>1.0</td>\n",
       "      <td>0.0</td>\n",
       "      <td>0.0</td>\n",
       "      <td>0.0</td>\n",
       "      <td>1.0</td>\n",
       "      <td>0.0</td>\n",
       "      <td>0.0</td>\n",
       "      <td>0.0</td>\n",
       "      <td>0.0</td>\n",
       "      <td>1.0</td>\n",
       "      <td>0.0</td>\n",
       "    </tr>\n",
       "    <tr>\n",
       "      <th>29998</th>\n",
       "      <td>80000.0</td>\n",
       "      <td>41</td>\n",
       "      <td>1</td>\n",
       "      <td>-1</td>\n",
       "      <td>0</td>\n",
       "      <td>0</td>\n",
       "      <td>0</td>\n",
       "      <td>-1</td>\n",
       "      <td>-1645.0</td>\n",
       "      <td>78379.0</td>\n",
       "      <td>76304.0</td>\n",
       "      <td>52774.0</td>\n",
       "      <td>11855.0</td>\n",
       "      <td>48944.0</td>\n",
       "      <td>85900.0</td>\n",
       "      <td>3409.0</td>\n",
       "      <td>1178.0</td>\n",
       "      <td>1926.0</td>\n",
       "      <td>52964.0</td>\n",
       "      <td>1804.0</td>\n",
       "      <td>1</td>\n",
       "      <td>0.0</td>\n",
       "      <td>1.0</td>\n",
       "      <td>0.0</td>\n",
       "      <td>0.0</td>\n",
       "      <td>0.0</td>\n",
       "      <td>0.0</td>\n",
       "      <td>0.0</td>\n",
       "      <td>1.0</td>\n",
       "      <td>0.0</td>\n",
       "      <td>0.0</td>\n",
       "      <td>0.0</td>\n",
       "      <td>1.0</td>\n",
       "      <td>0.0</td>\n",
       "    </tr>\n",
       "    <tr>\n",
       "      <th>29999</th>\n",
       "      <td>50000.0</td>\n",
       "      <td>46</td>\n",
       "      <td>0</td>\n",
       "      <td>0</td>\n",
       "      <td>0</td>\n",
       "      <td>0</td>\n",
       "      <td>0</td>\n",
       "      <td>0</td>\n",
       "      <td>47929.0</td>\n",
       "      <td>48905.0</td>\n",
       "      <td>49764.0</td>\n",
       "      <td>36535.0</td>\n",
       "      <td>32428.0</td>\n",
       "      <td>15313.0</td>\n",
       "      <td>2078.0</td>\n",
       "      <td>1800.0</td>\n",
       "      <td>1430.0</td>\n",
       "      <td>1000.0</td>\n",
       "      <td>1000.0</td>\n",
       "      <td>1000.0</td>\n",
       "      <td>1</td>\n",
       "      <td>0.0</td>\n",
       "      <td>1.0</td>\n",
       "      <td>0.0</td>\n",
       "      <td>0.0</td>\n",
       "      <td>0.0</td>\n",
       "      <td>0.0</td>\n",
       "      <td>1.0</td>\n",
       "      <td>0.0</td>\n",
       "      <td>0.0</td>\n",
       "      <td>0.0</td>\n",
       "      <td>0.0</td>\n",
       "      <td>1.0</td>\n",
       "      <td>0.0</td>\n",
       "    </tr>\n",
       "  </tbody>\n",
       "</table>\n",
       "</div>"
      ],
      "text/plain": [
       "       LIMIT_BAL  AGE  PAY_0  PAY_2  PAY_3  PAY_4  PAY_5  PAY_6  BILL_AMT1  \\\n",
       "29995   220000.0   39      0      0      0      0      0      0   188948.0   \n",
       "29996   150000.0   43     -1     -1     -1     -1      0      0     1683.0   \n",
       "29997    30000.0   37      4      3      2     -1      0      0     3565.0   \n",
       "29998    80000.0   41      1     -1      0      0      0     -1    -1645.0   \n",
       "29999    50000.0   46      0      0      0      0      0      0    47929.0   \n",
       "\n",
       "       BILL_AMT2  BILL_AMT3  BILL_AMT4  BILL_AMT5  BILL_AMT6  PAY_AMT1  \\\n",
       "29995   192815.0   208365.0    88004.0    31237.0    15980.0    8500.0   \n",
       "29996     1828.0     3502.0     8979.0     5190.0        0.0    1837.0   \n",
       "29997     3356.0     2758.0    20878.0    20582.0    19357.0       0.0   \n",
       "29998    78379.0    76304.0    52774.0    11855.0    48944.0   85900.0   \n",
       "29999    48905.0    49764.0    36535.0    32428.0    15313.0    2078.0   \n",
       "\n",
       "       PAY_AMT2  PAY_AMT3  PAY_AMT4  PAY_AMT5  PAY_AMT6  \\\n",
       "29995   20000.0    5003.0    3047.0    5000.0    1000.0   \n",
       "29996    3526.0    8998.0     129.0       0.0       0.0   \n",
       "29997       0.0   22000.0    4200.0    2000.0    3100.0   \n",
       "29998    3409.0    1178.0    1926.0   52964.0    1804.0   \n",
       "29999    1800.0    1430.0    1000.0    1000.0    1000.0   \n",
       "\n",
       "       default.payment.next.month  Mar1  Mar2  Mar3  Mar4  Edu1  Edu2  Edu3  \\\n",
       "29995                           0   0.0   1.0   0.0   0.0   0.0   0.0   0.0   \n",
       "29996                           0   0.0   0.0   1.0   0.0   0.0   0.0   0.0   \n",
       "29997                           1   0.0   0.0   1.0   0.0   0.0   0.0   1.0   \n",
       "29998                           1   0.0   1.0   0.0   0.0   0.0   0.0   0.0   \n",
       "29999                           1   0.0   1.0   0.0   0.0   0.0   0.0   1.0   \n",
       "\n",
       "       Edu4  Edu5  Edu6  Edu7  Male  Female  \n",
       "29995   1.0   0.0   0.0   0.0   1.0     0.0  \n",
       "29996   1.0   0.0   0.0   0.0   1.0     0.0  \n",
       "29997   0.0   0.0   0.0   0.0   1.0     0.0  \n",
       "29998   1.0   0.0   0.0   0.0   1.0     0.0  \n",
       "29999   0.0   0.0   0.0   0.0   1.0     0.0  "
      ]
     },
     "execution_count": 31,
     "metadata": {},
     "output_type": "execute_result"
    }
   ],
   "source": [
    "df.drop(columns=[\"SEX\"],inplace=True)\n",
    "df.tail()"
   ]
  },
  {
   "cell_type": "markdown",
   "id": "b2340f97",
   "metadata": {
    "papermill": {
     "duration": 0.025201,
     "end_time": "2022-12-13T09:54:06.399445",
     "exception": false,
     "start_time": "2022-12-13T09:54:06.374244",
     "status": "completed"
    },
    "tags": []
   },
   "source": [
    "<a id= \"6\"></a>\n",
    "## Normalizations\n",
    "* Bill AMT\n",
    "* Pay AMT\n",
    "* LIMIT BAL"
   ]
  },
  {
   "cell_type": "code",
   "execution_count": 32,
   "id": "fd2f5993",
   "metadata": {
    "execution": {
     "iopub.execute_input": "2022-12-13T09:54:06.451110Z",
     "iopub.status.busy": "2022-12-13T09:54:06.450656Z",
     "iopub.status.idle": "2022-12-13T09:54:06.455850Z",
     "shell.execute_reply": "2022-12-13T09:54:06.454886Z"
    },
    "papermill": {
     "duration": 0.03376,
     "end_time": "2022-12-13T09:54:06.458100",
     "exception": false,
     "start_time": "2022-12-13T09:54:06.424340",
     "status": "completed"
    },
    "tags": []
   },
   "outputs": [],
   "source": [
    "from sklearn.preprocessing import MinMaxScaler\n",
    "scaler = MinMaxScaler()\n"
   ]
  },
  {
   "cell_type": "code",
   "execution_count": 33,
   "id": "e50e7299",
   "metadata": {
    "execution": {
     "iopub.execute_input": "2022-12-13T09:54:06.511071Z",
     "iopub.status.busy": "2022-12-13T09:54:06.510614Z",
     "iopub.status.idle": "2022-12-13T09:54:06.545865Z",
     "shell.execute_reply": "2022-12-13T09:54:06.544613Z"
    },
    "papermill": {
     "duration": 0.064956,
     "end_time": "2022-12-13T09:54:06.548210",
     "exception": false,
     "start_time": "2022-12-13T09:54:06.483254",
     "status": "completed"
    },
    "tags": []
   },
   "outputs": [
    {
     "data": {
      "text/html": [
       "<div>\n",
       "<style scoped>\n",
       "    .dataframe tbody tr th:only-of-type {\n",
       "        vertical-align: middle;\n",
       "    }\n",
       "\n",
       "    .dataframe tbody tr th {\n",
       "        vertical-align: top;\n",
       "    }\n",
       "\n",
       "    .dataframe thead th {\n",
       "        text-align: right;\n",
       "    }\n",
       "</style>\n",
       "<table border=\"1\" class=\"dataframe\">\n",
       "  <thead>\n",
       "    <tr style=\"text-align: right;\">\n",
       "      <th></th>\n",
       "      <th>BILL_AMT1</th>\n",
       "      <th>BILL_AMT2</th>\n",
       "      <th>BILL_AMT3</th>\n",
       "      <th>BILL_AMT4</th>\n",
       "      <th>BILL_AMT5</th>\n",
       "      <th>BILL_AMT6</th>\n",
       "      <th>PAY_AMT1</th>\n",
       "      <th>PAY_AMT2</th>\n",
       "      <th>PAY_AMT3</th>\n",
       "      <th>PAY_AMT4</th>\n",
       "      <th>PAY_AMT5</th>\n",
       "      <th>PAY_AMT6</th>\n",
       "    </tr>\n",
       "  </thead>\n",
       "  <tbody>\n",
       "    <tr>\n",
       "      <th>0</th>\n",
       "      <td>3913.0</td>\n",
       "      <td>3102.0</td>\n",
       "      <td>689.0</td>\n",
       "      <td>0.0</td>\n",
       "      <td>0.0</td>\n",
       "      <td>0.0</td>\n",
       "      <td>0.0</td>\n",
       "      <td>689.0</td>\n",
       "      <td>0.0</td>\n",
       "      <td>0.0</td>\n",
       "      <td>0.0</td>\n",
       "      <td>0.0</td>\n",
       "    </tr>\n",
       "    <tr>\n",
       "      <th>1</th>\n",
       "      <td>2682.0</td>\n",
       "      <td>1725.0</td>\n",
       "      <td>2682.0</td>\n",
       "      <td>3272.0</td>\n",
       "      <td>3455.0</td>\n",
       "      <td>3261.0</td>\n",
       "      <td>0.0</td>\n",
       "      <td>1000.0</td>\n",
       "      <td>1000.0</td>\n",
       "      <td>1000.0</td>\n",
       "      <td>0.0</td>\n",
       "      <td>2000.0</td>\n",
       "    </tr>\n",
       "    <tr>\n",
       "      <th>2</th>\n",
       "      <td>29239.0</td>\n",
       "      <td>14027.0</td>\n",
       "      <td>13559.0</td>\n",
       "      <td>14331.0</td>\n",
       "      <td>14948.0</td>\n",
       "      <td>15549.0</td>\n",
       "      <td>1518.0</td>\n",
       "      <td>1500.0</td>\n",
       "      <td>1000.0</td>\n",
       "      <td>1000.0</td>\n",
       "      <td>1000.0</td>\n",
       "      <td>5000.0</td>\n",
       "    </tr>\n",
       "    <tr>\n",
       "      <th>3</th>\n",
       "      <td>46990.0</td>\n",
       "      <td>48233.0</td>\n",
       "      <td>49291.0</td>\n",
       "      <td>28314.0</td>\n",
       "      <td>28959.0</td>\n",
       "      <td>29547.0</td>\n",
       "      <td>2000.0</td>\n",
       "      <td>2019.0</td>\n",
       "      <td>1200.0</td>\n",
       "      <td>1100.0</td>\n",
       "      <td>1069.0</td>\n",
       "      <td>1000.0</td>\n",
       "    </tr>\n",
       "    <tr>\n",
       "      <th>4</th>\n",
       "      <td>8617.0</td>\n",
       "      <td>5670.0</td>\n",
       "      <td>35835.0</td>\n",
       "      <td>20940.0</td>\n",
       "      <td>19146.0</td>\n",
       "      <td>19131.0</td>\n",
       "      <td>2000.0</td>\n",
       "      <td>36681.0</td>\n",
       "      <td>10000.0</td>\n",
       "      <td>9000.0</td>\n",
       "      <td>689.0</td>\n",
       "      <td>679.0</td>\n",
       "    </tr>\n",
       "    <tr>\n",
       "      <th>...</th>\n",
       "      <td>...</td>\n",
       "      <td>...</td>\n",
       "      <td>...</td>\n",
       "      <td>...</td>\n",
       "      <td>...</td>\n",
       "      <td>...</td>\n",
       "      <td>...</td>\n",
       "      <td>...</td>\n",
       "      <td>...</td>\n",
       "      <td>...</td>\n",
       "      <td>...</td>\n",
       "      <td>...</td>\n",
       "    </tr>\n",
       "    <tr>\n",
       "      <th>29995</th>\n",
       "      <td>188948.0</td>\n",
       "      <td>192815.0</td>\n",
       "      <td>208365.0</td>\n",
       "      <td>88004.0</td>\n",
       "      <td>31237.0</td>\n",
       "      <td>15980.0</td>\n",
       "      <td>8500.0</td>\n",
       "      <td>20000.0</td>\n",
       "      <td>5003.0</td>\n",
       "      <td>3047.0</td>\n",
       "      <td>5000.0</td>\n",
       "      <td>1000.0</td>\n",
       "    </tr>\n",
       "    <tr>\n",
       "      <th>29996</th>\n",
       "      <td>1683.0</td>\n",
       "      <td>1828.0</td>\n",
       "      <td>3502.0</td>\n",
       "      <td>8979.0</td>\n",
       "      <td>5190.0</td>\n",
       "      <td>0.0</td>\n",
       "      <td>1837.0</td>\n",
       "      <td>3526.0</td>\n",
       "      <td>8998.0</td>\n",
       "      <td>129.0</td>\n",
       "      <td>0.0</td>\n",
       "      <td>0.0</td>\n",
       "    </tr>\n",
       "    <tr>\n",
       "      <th>29997</th>\n",
       "      <td>3565.0</td>\n",
       "      <td>3356.0</td>\n",
       "      <td>2758.0</td>\n",
       "      <td>20878.0</td>\n",
       "      <td>20582.0</td>\n",
       "      <td>19357.0</td>\n",
       "      <td>0.0</td>\n",
       "      <td>0.0</td>\n",
       "      <td>22000.0</td>\n",
       "      <td>4200.0</td>\n",
       "      <td>2000.0</td>\n",
       "      <td>3100.0</td>\n",
       "    </tr>\n",
       "    <tr>\n",
       "      <th>29998</th>\n",
       "      <td>-1645.0</td>\n",
       "      <td>78379.0</td>\n",
       "      <td>76304.0</td>\n",
       "      <td>52774.0</td>\n",
       "      <td>11855.0</td>\n",
       "      <td>48944.0</td>\n",
       "      <td>85900.0</td>\n",
       "      <td>3409.0</td>\n",
       "      <td>1178.0</td>\n",
       "      <td>1926.0</td>\n",
       "      <td>52964.0</td>\n",
       "      <td>1804.0</td>\n",
       "    </tr>\n",
       "    <tr>\n",
       "      <th>29999</th>\n",
       "      <td>47929.0</td>\n",
       "      <td>48905.0</td>\n",
       "      <td>49764.0</td>\n",
       "      <td>36535.0</td>\n",
       "      <td>32428.0</td>\n",
       "      <td>15313.0</td>\n",
       "      <td>2078.0</td>\n",
       "      <td>1800.0</td>\n",
       "      <td>1430.0</td>\n",
       "      <td>1000.0</td>\n",
       "      <td>1000.0</td>\n",
       "      <td>1000.0</td>\n",
       "    </tr>\n",
       "  </tbody>\n",
       "</table>\n",
       "<p>30000 rows × 12 columns</p>\n",
       "</div>"
      ],
      "text/plain": [
       "       BILL_AMT1  BILL_AMT2  BILL_AMT3  BILL_AMT4  BILL_AMT5  BILL_AMT6  \\\n",
       "0         3913.0     3102.0      689.0        0.0        0.0        0.0   \n",
       "1         2682.0     1725.0     2682.0     3272.0     3455.0     3261.0   \n",
       "2        29239.0    14027.0    13559.0    14331.0    14948.0    15549.0   \n",
       "3        46990.0    48233.0    49291.0    28314.0    28959.0    29547.0   \n",
       "4         8617.0     5670.0    35835.0    20940.0    19146.0    19131.0   \n",
       "...          ...        ...        ...        ...        ...        ...   \n",
       "29995   188948.0   192815.0   208365.0    88004.0    31237.0    15980.0   \n",
       "29996     1683.0     1828.0     3502.0     8979.0     5190.0        0.0   \n",
       "29997     3565.0     3356.0     2758.0    20878.0    20582.0    19357.0   \n",
       "29998    -1645.0    78379.0    76304.0    52774.0    11855.0    48944.0   \n",
       "29999    47929.0    48905.0    49764.0    36535.0    32428.0    15313.0   \n",
       "\n",
       "       PAY_AMT1  PAY_AMT2  PAY_AMT3  PAY_AMT4  PAY_AMT5  PAY_AMT6  \n",
       "0           0.0     689.0       0.0       0.0       0.0       0.0  \n",
       "1           0.0    1000.0    1000.0    1000.0       0.0    2000.0  \n",
       "2        1518.0    1500.0    1000.0    1000.0    1000.0    5000.0  \n",
       "3        2000.0    2019.0    1200.0    1100.0    1069.0    1000.0  \n",
       "4        2000.0   36681.0   10000.0    9000.0     689.0     679.0  \n",
       "...         ...       ...       ...       ...       ...       ...  \n",
       "29995    8500.0   20000.0    5003.0    3047.0    5000.0    1000.0  \n",
       "29996    1837.0    3526.0    8998.0     129.0       0.0       0.0  \n",
       "29997       0.0       0.0   22000.0    4200.0    2000.0    3100.0  \n",
       "29998   85900.0    3409.0    1178.0    1926.0   52964.0    1804.0  \n",
       "29999    2078.0    1800.0    1430.0    1000.0    1000.0    1000.0  \n",
       "\n",
       "[30000 rows x 12 columns]"
      ]
     },
     "execution_count": 33,
     "metadata": {},
     "output_type": "execute_result"
    }
   ],
   "source": [
    "Normal = df.loc[:,\"BILL_AMT1\":\"PAY_AMT6\"]\n",
    "Normal"
   ]
  },
  {
   "cell_type": "code",
   "execution_count": 34,
   "id": "082c88c9",
   "metadata": {
    "execution": {
     "iopub.execute_input": "2022-12-13T09:54:06.603064Z",
     "iopub.status.busy": "2022-12-13T09:54:06.602117Z",
     "iopub.status.idle": "2022-12-13T09:54:06.608651Z",
     "shell.execute_reply": "2022-12-13T09:54:06.607815Z"
    },
    "papermill": {
     "duration": 0.036758,
     "end_time": "2022-12-13T09:54:06.611112",
     "exception": false,
     "start_time": "2022-12-13T09:54:06.574354",
     "status": "completed"
    },
    "tags": []
   },
   "outputs": [],
   "source": [
    "columns=[]\n",
    "i = 0\n",
    "for i in range(len(list(Normal.columns))):\n",
    "     columns.append(list(Normal.columns)[i])\n",
    "     i+=1"
   ]
  },
  {
   "cell_type": "code",
   "execution_count": 35,
   "id": "a02854a0",
   "metadata": {
    "execution": {
     "iopub.execute_input": "2022-12-13T09:54:06.684010Z",
     "iopub.status.busy": "2022-12-13T09:54:06.683198Z",
     "iopub.status.idle": "2022-12-13T09:54:06.694258Z",
     "shell.execute_reply": "2022-12-13T09:54:06.693107Z"
    },
    "papermill": {
     "duration": 0.054071,
     "end_time": "2022-12-13T09:54:06.697357",
     "exception": false,
     "start_time": "2022-12-13T09:54:06.643286",
     "status": "completed"
    },
    "tags": []
   },
   "outputs": [],
   "source": [
    "df.drop(columns=columns,inplace=True)"
   ]
  },
  {
   "cell_type": "code",
   "execution_count": 36,
   "id": "6d91c233",
   "metadata": {
    "execution": {
     "iopub.execute_input": "2022-12-13T09:54:06.769498Z",
     "iopub.status.busy": "2022-12-13T09:54:06.768632Z",
     "iopub.status.idle": "2022-12-13T09:54:06.783316Z",
     "shell.execute_reply": "2022-12-13T09:54:06.782423Z"
    },
    "papermill": {
     "duration": 0.054294,
     "end_time": "2022-12-13T09:54:06.786041",
     "exception": false,
     "start_time": "2022-12-13T09:54:06.731747",
     "status": "completed"
    },
    "tags": []
   },
   "outputs": [],
   "source": [
    "Scaled = scaler.fit_transform(Normal)\n"
   ]
  },
  {
   "cell_type": "code",
   "execution_count": 37,
   "id": "d7ed67f0",
   "metadata": {
    "execution": {
     "iopub.execute_input": "2022-12-13T09:54:06.840022Z",
     "iopub.status.busy": "2022-12-13T09:54:06.839257Z",
     "iopub.status.idle": "2022-12-13T09:54:06.847467Z",
     "shell.execute_reply": "2022-12-13T09:54:06.844687Z"
    },
    "papermill": {
     "duration": 0.044551,
     "end_time": "2022-12-13T09:54:06.856236",
     "exception": false,
     "start_time": "2022-12-13T09:54:06.811685",
     "status": "completed"
    },
    "tags": []
   },
   "outputs": [],
   "source": [
    "columns=[]\n",
    "i = 0\n",
    "for i in range(len(list(Normal.columns))):\n",
    "     columns.append(list(Normal.columns)[i])\n",
    "     i+=1\n"
   ]
  },
  {
   "cell_type": "code",
   "execution_count": 38,
   "id": "0c8bb852",
   "metadata": {
    "execution": {
     "iopub.execute_input": "2022-12-13T09:54:06.910237Z",
     "iopub.status.busy": "2022-12-13T09:54:06.909040Z",
     "iopub.status.idle": "2022-12-13T09:54:06.928349Z",
     "shell.execute_reply": "2022-12-13T09:54:06.926758Z"
    },
    "papermill": {
     "duration": 0.048972,
     "end_time": "2022-12-13T09:54:06.930887",
     "exception": false,
     "start_time": "2022-12-13T09:54:06.881915",
     "status": "completed"
    },
    "tags": []
   },
   "outputs": [
    {
     "name": "stdout",
     "output_type": "stream",
     "text": [
      "       BILL_AMT1  BILL_AMT2  BILL_AMT3  BILL_AMT4  BILL_AMT5  BILL_AMT6  \\\n",
      "0       0.149982   0.069164   0.086723   0.160138   0.080648   0.260979   \n",
      "1       0.148892   0.067858   0.087817   0.163220   0.084074   0.263485   \n",
      "2       0.172392   0.079532   0.093789   0.173637   0.095470   0.272928   \n",
      "3       0.188100   0.111995   0.113407   0.186809   0.109363   0.283685   \n",
      "4       0.154144   0.071601   0.106020   0.179863   0.099633   0.275681   \n",
      "...          ...        ...        ...        ...        ...        ...   \n",
      "29995   0.313716   0.249208   0.200746   0.243036   0.111622   0.273259   \n",
      "29996   0.148008   0.067955   0.088267   0.168596   0.085794   0.260979   \n",
      "29997   0.149674   0.069405   0.087859   0.179805   0.101057   0.275854   \n",
      "29998   0.145064   0.140604   0.128239   0.209850   0.092403   0.298591   \n",
      "29999   0.188931   0.112633   0.113667   0.194553   0.112803   0.272746   \n",
      "\n",
      "       PAY_AMT1  PAY_AMT2  PAY_AMT3  PAY_AMT4  PAY_AMT5  PAY_AMT6  \n",
      "0      0.000000  0.000409  0.000000  0.000000  0.000000  0.000000  \n",
      "1      0.000000  0.000594  0.001116  0.001610  0.000000  0.003783  \n",
      "2      0.001738  0.000891  0.001116  0.001610  0.002345  0.009458  \n",
      "3      0.002290  0.001199  0.001339  0.001771  0.002506  0.001892  \n",
      "4      0.002290  0.021779  0.011160  0.014493  0.001615  0.001284  \n",
      "...         ...       ...       ...       ...       ...       ...  \n",
      "29995  0.009730  0.011875  0.005583  0.004907  0.011723  0.001892  \n",
      "29996  0.002103  0.002094  0.010042  0.000208  0.000000  0.000000  \n",
      "29997  0.000000  0.000000  0.024552  0.006763  0.004689  0.005864  \n",
      "29998  0.098334  0.002024  0.001315  0.003101  0.124174  0.003412  \n",
      "29999  0.002379  0.001069  0.001596  0.001610  0.002345  0.001892  \n",
      "\n",
      "[30000 rows x 12 columns]\n"
     ]
    }
   ],
   "source": [
    "df_Normal = pd.DataFrame(data=Scaled, columns = columns)\n",
    "print(df_Normal)"
   ]
  },
  {
   "cell_type": "code",
   "execution_count": 39,
   "id": "8cbf3dd5",
   "metadata": {
    "execution": {
     "iopub.execute_input": "2022-12-13T09:54:06.989764Z",
     "iopub.status.busy": "2022-12-13T09:54:06.988287Z",
     "iopub.status.idle": "2022-12-13T09:54:07.042119Z",
     "shell.execute_reply": "2022-12-13T09:54:07.040763Z"
    },
    "papermill": {
     "duration": 0.085991,
     "end_time": "2022-12-13T09:54:07.045382",
     "exception": false,
     "start_time": "2022-12-13T09:54:06.959391",
     "status": "completed"
    },
    "tags": []
   },
   "outputs": [
    {
     "data": {
      "text/html": [
       "<div>\n",
       "<style scoped>\n",
       "    .dataframe tbody tr th:only-of-type {\n",
       "        vertical-align: middle;\n",
       "    }\n",
       "\n",
       "    .dataframe tbody tr th {\n",
       "        vertical-align: top;\n",
       "    }\n",
       "\n",
       "    .dataframe thead th {\n",
       "        text-align: right;\n",
       "    }\n",
       "</style>\n",
       "<table border=\"1\" class=\"dataframe\">\n",
       "  <thead>\n",
       "    <tr style=\"text-align: right;\">\n",
       "      <th></th>\n",
       "      <th>LIMIT_BAL</th>\n",
       "      <th>AGE</th>\n",
       "      <th>PAY_0</th>\n",
       "      <th>PAY_2</th>\n",
       "      <th>PAY_3</th>\n",
       "      <th>PAY_4</th>\n",
       "      <th>PAY_5</th>\n",
       "      <th>PAY_6</th>\n",
       "      <th>default.payment.next.month</th>\n",
       "      <th>Mar1</th>\n",
       "      <th>Mar2</th>\n",
       "      <th>Mar3</th>\n",
       "      <th>Mar4</th>\n",
       "      <th>Edu1</th>\n",
       "      <th>Edu2</th>\n",
       "      <th>Edu3</th>\n",
       "      <th>Edu4</th>\n",
       "      <th>Edu5</th>\n",
       "      <th>Edu6</th>\n",
       "      <th>Edu7</th>\n",
       "      <th>Male</th>\n",
       "      <th>Female</th>\n",
       "      <th>BILL_AMT1</th>\n",
       "      <th>BILL_AMT2</th>\n",
       "      <th>BILL_AMT3</th>\n",
       "      <th>BILL_AMT4</th>\n",
       "      <th>BILL_AMT5</th>\n",
       "      <th>BILL_AMT6</th>\n",
       "      <th>PAY_AMT1</th>\n",
       "      <th>PAY_AMT2</th>\n",
       "      <th>PAY_AMT3</th>\n",
       "      <th>PAY_AMT4</th>\n",
       "      <th>PAY_AMT5</th>\n",
       "      <th>PAY_AMT6</th>\n",
       "    </tr>\n",
       "  </thead>\n",
       "  <tbody>\n",
       "    <tr>\n",
       "      <th>0</th>\n",
       "      <td>20000.0</td>\n",
       "      <td>24</td>\n",
       "      <td>2</td>\n",
       "      <td>2</td>\n",
       "      <td>-1</td>\n",
       "      <td>-1</td>\n",
       "      <td>-2</td>\n",
       "      <td>-2</td>\n",
       "      <td>1</td>\n",
       "      <td>0.0</td>\n",
       "      <td>1.0</td>\n",
       "      <td>0.0</td>\n",
       "      <td>0.0</td>\n",
       "      <td>0.0</td>\n",
       "      <td>0.0</td>\n",
       "      <td>1.0</td>\n",
       "      <td>0.0</td>\n",
       "      <td>0.0</td>\n",
       "      <td>0.0</td>\n",
       "      <td>0.0</td>\n",
       "      <td>0.0</td>\n",
       "      <td>1.0</td>\n",
       "      <td>0.149982</td>\n",
       "      <td>0.069164</td>\n",
       "      <td>0.086723</td>\n",
       "      <td>0.160138</td>\n",
       "      <td>0.080648</td>\n",
       "      <td>0.260979</td>\n",
       "      <td>0.000000</td>\n",
       "      <td>0.000409</td>\n",
       "      <td>0.000000</td>\n",
       "      <td>0.000000</td>\n",
       "      <td>0.000000</td>\n",
       "      <td>0.000000</td>\n",
       "    </tr>\n",
       "    <tr>\n",
       "      <th>1</th>\n",
       "      <td>120000.0</td>\n",
       "      <td>26</td>\n",
       "      <td>-1</td>\n",
       "      <td>2</td>\n",
       "      <td>0</td>\n",
       "      <td>0</td>\n",
       "      <td>0</td>\n",
       "      <td>2</td>\n",
       "      <td>1</td>\n",
       "      <td>0.0</td>\n",
       "      <td>0.0</td>\n",
       "      <td>1.0</td>\n",
       "      <td>0.0</td>\n",
       "      <td>0.0</td>\n",
       "      <td>0.0</td>\n",
       "      <td>1.0</td>\n",
       "      <td>0.0</td>\n",
       "      <td>0.0</td>\n",
       "      <td>0.0</td>\n",
       "      <td>0.0</td>\n",
       "      <td>0.0</td>\n",
       "      <td>1.0</td>\n",
       "      <td>0.148892</td>\n",
       "      <td>0.067858</td>\n",
       "      <td>0.087817</td>\n",
       "      <td>0.163220</td>\n",
       "      <td>0.084074</td>\n",
       "      <td>0.263485</td>\n",
       "      <td>0.000000</td>\n",
       "      <td>0.000594</td>\n",
       "      <td>0.001116</td>\n",
       "      <td>0.001610</td>\n",
       "      <td>0.000000</td>\n",
       "      <td>0.003783</td>\n",
       "    </tr>\n",
       "    <tr>\n",
       "      <th>2</th>\n",
       "      <td>90000.0</td>\n",
       "      <td>34</td>\n",
       "      <td>0</td>\n",
       "      <td>0</td>\n",
       "      <td>0</td>\n",
       "      <td>0</td>\n",
       "      <td>0</td>\n",
       "      <td>0</td>\n",
       "      <td>0</td>\n",
       "      <td>0.0</td>\n",
       "      <td>0.0</td>\n",
       "      <td>1.0</td>\n",
       "      <td>0.0</td>\n",
       "      <td>0.0</td>\n",
       "      <td>0.0</td>\n",
       "      <td>1.0</td>\n",
       "      <td>0.0</td>\n",
       "      <td>0.0</td>\n",
       "      <td>0.0</td>\n",
       "      <td>0.0</td>\n",
       "      <td>0.0</td>\n",
       "      <td>1.0</td>\n",
       "      <td>0.172392</td>\n",
       "      <td>0.079532</td>\n",
       "      <td>0.093789</td>\n",
       "      <td>0.173637</td>\n",
       "      <td>0.095470</td>\n",
       "      <td>0.272928</td>\n",
       "      <td>0.001738</td>\n",
       "      <td>0.000891</td>\n",
       "      <td>0.001116</td>\n",
       "      <td>0.001610</td>\n",
       "      <td>0.002345</td>\n",
       "      <td>0.009458</td>\n",
       "    </tr>\n",
       "    <tr>\n",
       "      <th>3</th>\n",
       "      <td>50000.0</td>\n",
       "      <td>37</td>\n",
       "      <td>0</td>\n",
       "      <td>0</td>\n",
       "      <td>0</td>\n",
       "      <td>0</td>\n",
       "      <td>0</td>\n",
       "      <td>0</td>\n",
       "      <td>0</td>\n",
       "      <td>0.0</td>\n",
       "      <td>1.0</td>\n",
       "      <td>0.0</td>\n",
       "      <td>0.0</td>\n",
       "      <td>0.0</td>\n",
       "      <td>0.0</td>\n",
       "      <td>1.0</td>\n",
       "      <td>0.0</td>\n",
       "      <td>0.0</td>\n",
       "      <td>0.0</td>\n",
       "      <td>0.0</td>\n",
       "      <td>0.0</td>\n",
       "      <td>1.0</td>\n",
       "      <td>0.188100</td>\n",
       "      <td>0.111995</td>\n",
       "      <td>0.113407</td>\n",
       "      <td>0.186809</td>\n",
       "      <td>0.109363</td>\n",
       "      <td>0.283685</td>\n",
       "      <td>0.002290</td>\n",
       "      <td>0.001199</td>\n",
       "      <td>0.001339</td>\n",
       "      <td>0.001771</td>\n",
       "      <td>0.002506</td>\n",
       "      <td>0.001892</td>\n",
       "    </tr>\n",
       "    <tr>\n",
       "      <th>4</th>\n",
       "      <td>50000.0</td>\n",
       "      <td>57</td>\n",
       "      <td>-1</td>\n",
       "      <td>0</td>\n",
       "      <td>-1</td>\n",
       "      <td>0</td>\n",
       "      <td>0</td>\n",
       "      <td>0</td>\n",
       "      <td>0</td>\n",
       "      <td>0.0</td>\n",
       "      <td>1.0</td>\n",
       "      <td>0.0</td>\n",
       "      <td>0.0</td>\n",
       "      <td>0.0</td>\n",
       "      <td>0.0</td>\n",
       "      <td>1.0</td>\n",
       "      <td>0.0</td>\n",
       "      <td>0.0</td>\n",
       "      <td>0.0</td>\n",
       "      <td>0.0</td>\n",
       "      <td>1.0</td>\n",
       "      <td>0.0</td>\n",
       "      <td>0.154144</td>\n",
       "      <td>0.071601</td>\n",
       "      <td>0.106020</td>\n",
       "      <td>0.179863</td>\n",
       "      <td>0.099633</td>\n",
       "      <td>0.275681</td>\n",
       "      <td>0.002290</td>\n",
       "      <td>0.021779</td>\n",
       "      <td>0.011160</td>\n",
       "      <td>0.014493</td>\n",
       "      <td>0.001615</td>\n",
       "      <td>0.001284</td>\n",
       "    </tr>\n",
       "  </tbody>\n",
       "</table>\n",
       "</div>"
      ],
      "text/plain": [
       "   LIMIT_BAL  AGE  PAY_0  PAY_2  PAY_3  PAY_4  PAY_5  PAY_6  \\\n",
       "0    20000.0   24      2      2     -1     -1     -2     -2   \n",
       "1   120000.0   26     -1      2      0      0      0      2   \n",
       "2    90000.0   34      0      0      0      0      0      0   \n",
       "3    50000.0   37      0      0      0      0      0      0   \n",
       "4    50000.0   57     -1      0     -1      0      0      0   \n",
       "\n",
       "   default.payment.next.month  Mar1  Mar2  Mar3  Mar4  Edu1  Edu2  Edu3  Edu4  \\\n",
       "0                           1   0.0   1.0   0.0   0.0   0.0   0.0   1.0   0.0   \n",
       "1                           1   0.0   0.0   1.0   0.0   0.0   0.0   1.0   0.0   \n",
       "2                           0   0.0   0.0   1.0   0.0   0.0   0.0   1.0   0.0   \n",
       "3                           0   0.0   1.0   0.0   0.0   0.0   0.0   1.0   0.0   \n",
       "4                           0   0.0   1.0   0.0   0.0   0.0   0.0   1.0   0.0   \n",
       "\n",
       "   Edu5  Edu6  Edu7  Male  Female  BILL_AMT1  BILL_AMT2  BILL_AMT3  BILL_AMT4  \\\n",
       "0   0.0   0.0   0.0   0.0     1.0   0.149982   0.069164   0.086723   0.160138   \n",
       "1   0.0   0.0   0.0   0.0     1.0   0.148892   0.067858   0.087817   0.163220   \n",
       "2   0.0   0.0   0.0   0.0     1.0   0.172392   0.079532   0.093789   0.173637   \n",
       "3   0.0   0.0   0.0   0.0     1.0   0.188100   0.111995   0.113407   0.186809   \n",
       "4   0.0   0.0   0.0   1.0     0.0   0.154144   0.071601   0.106020   0.179863   \n",
       "\n",
       "   BILL_AMT5  BILL_AMT6  PAY_AMT1  PAY_AMT2  PAY_AMT3  PAY_AMT4  PAY_AMT5  \\\n",
       "0   0.080648   0.260979  0.000000  0.000409  0.000000  0.000000  0.000000   \n",
       "1   0.084074   0.263485  0.000000  0.000594  0.001116  0.001610  0.000000   \n",
       "2   0.095470   0.272928  0.001738  0.000891  0.001116  0.001610  0.002345   \n",
       "3   0.109363   0.283685  0.002290  0.001199  0.001339  0.001771  0.002506   \n",
       "4   0.099633   0.275681  0.002290  0.021779  0.011160  0.014493  0.001615   \n",
       "\n",
       "   PAY_AMT6  \n",
       "0  0.000000  \n",
       "1  0.003783  \n",
       "2  0.009458  \n",
       "3  0.001892  \n",
       "4  0.001284  "
      ]
     },
     "execution_count": 39,
     "metadata": {},
     "output_type": "execute_result"
    }
   ],
   "source": [
    "df= pd.concat([df,df_Normal],axis=1)\n",
    "df.head()"
   ]
  },
  {
   "cell_type": "code",
   "execution_count": 40,
   "id": "b28a5347",
   "metadata": {
    "execution": {
     "iopub.execute_input": "2022-12-13T09:54:07.108971Z",
     "iopub.status.busy": "2022-12-13T09:54:07.108025Z",
     "iopub.status.idle": "2022-12-13T09:54:07.114769Z",
     "shell.execute_reply": "2022-12-13T09:54:07.113676Z"
    },
    "papermill": {
     "duration": 0.038277,
     "end_time": "2022-12-13T09:54:07.117287",
     "exception": false,
     "start_time": "2022-12-13T09:54:07.079010",
     "status": "completed"
    },
    "tags": []
   },
   "outputs": [],
   "source": [
    "LIMIT_BAL = df[\"LIMIT_BAL\"]\n",
    "np_LIMIT_BAL=LIMIT_BAL.to_numpy().reshape(-1,1)"
   ]
  },
  {
   "cell_type": "code",
   "execution_count": 41,
   "id": "bf1ff4a9",
   "metadata": {
    "execution": {
     "iopub.execute_input": "2022-12-13T09:54:07.171911Z",
     "iopub.status.busy": "2022-12-13T09:54:07.170589Z",
     "iopub.status.idle": "2022-12-13T09:54:07.177283Z",
     "shell.execute_reply": "2022-12-13T09:54:07.176240Z"
    },
    "papermill": {
     "duration": 0.036503,
     "end_time": "2022-12-13T09:54:07.179792",
     "exception": false,
     "start_time": "2022-12-13T09:54:07.143289",
     "status": "completed"
    },
    "tags": []
   },
   "outputs": [],
   "source": [
    "Scaled_LB = scaler.fit_transform(np_LIMIT_BAL)"
   ]
  },
  {
   "cell_type": "code",
   "execution_count": 42,
   "id": "6baa8f1a",
   "metadata": {
    "execution": {
     "iopub.execute_input": "2022-12-13T09:54:07.235610Z",
     "iopub.status.busy": "2022-12-13T09:54:07.234435Z",
     "iopub.status.idle": "2022-12-13T09:54:07.243757Z",
     "shell.execute_reply": "2022-12-13T09:54:07.242509Z"
    },
    "papermill": {
     "duration": 0.041134,
     "end_time": "2022-12-13T09:54:07.246889",
     "exception": false,
     "start_time": "2022-12-13T09:54:07.205755",
     "status": "completed"
    },
    "tags": []
   },
   "outputs": [
    {
     "data": {
      "text/plain": [
       "array([[0.01010101],\n",
       "       [0.11111111],\n",
       "       [0.08080808],\n",
       "       ...,\n",
       "       [0.02020202],\n",
       "       [0.07070707],\n",
       "       [0.04040404]])"
      ]
     },
     "execution_count": 42,
     "metadata": {},
     "output_type": "execute_result"
    }
   ],
   "source": [
    "Scaled_LB"
   ]
  },
  {
   "cell_type": "code",
   "execution_count": 43,
   "id": "1a1ccbd6",
   "metadata": {
    "execution": {
     "iopub.execute_input": "2022-12-13T09:54:07.304413Z",
     "iopub.status.busy": "2022-12-13T09:54:07.303999Z",
     "iopub.status.idle": "2022-12-13T09:54:07.345187Z",
     "shell.execute_reply": "2022-12-13T09:54:07.344016Z"
    },
    "papermill": {
     "duration": 0.071673,
     "end_time": "2022-12-13T09:54:07.347632",
     "exception": false,
     "start_time": "2022-12-13T09:54:07.275959",
     "status": "completed"
    },
    "tags": []
   },
   "outputs": [
    {
     "data": {
      "text/html": [
       "<div>\n",
       "<style scoped>\n",
       "    .dataframe tbody tr th:only-of-type {\n",
       "        vertical-align: middle;\n",
       "    }\n",
       "\n",
       "    .dataframe tbody tr th {\n",
       "        vertical-align: top;\n",
       "    }\n",
       "\n",
       "    .dataframe thead th {\n",
       "        text-align: right;\n",
       "    }\n",
       "</style>\n",
       "<table border=\"1\" class=\"dataframe\">\n",
       "  <thead>\n",
       "    <tr style=\"text-align: right;\">\n",
       "      <th></th>\n",
       "      <th>LIMIT_BAL</th>\n",
       "      <th>AGE</th>\n",
       "      <th>PAY_0</th>\n",
       "      <th>PAY_2</th>\n",
       "      <th>PAY_3</th>\n",
       "      <th>PAY_4</th>\n",
       "      <th>PAY_5</th>\n",
       "      <th>PAY_6</th>\n",
       "      <th>default.payment.next.month</th>\n",
       "      <th>Mar1</th>\n",
       "      <th>Mar2</th>\n",
       "      <th>Mar3</th>\n",
       "      <th>Mar4</th>\n",
       "      <th>Edu1</th>\n",
       "      <th>Edu2</th>\n",
       "      <th>Edu3</th>\n",
       "      <th>Edu4</th>\n",
       "      <th>Edu5</th>\n",
       "      <th>Edu6</th>\n",
       "      <th>Edu7</th>\n",
       "      <th>Male</th>\n",
       "      <th>Female</th>\n",
       "      <th>BILL_AMT1</th>\n",
       "      <th>BILL_AMT2</th>\n",
       "      <th>BILL_AMT3</th>\n",
       "      <th>BILL_AMT4</th>\n",
       "      <th>BILL_AMT5</th>\n",
       "      <th>BILL_AMT6</th>\n",
       "      <th>PAY_AMT1</th>\n",
       "      <th>PAY_AMT2</th>\n",
       "      <th>PAY_AMT3</th>\n",
       "      <th>PAY_AMT4</th>\n",
       "      <th>PAY_AMT5</th>\n",
       "      <th>PAY_AMT6</th>\n",
       "      <th>Scaled_LB</th>\n",
       "    </tr>\n",
       "  </thead>\n",
       "  <tbody>\n",
       "    <tr>\n",
       "      <th>0</th>\n",
       "      <td>20000.0</td>\n",
       "      <td>24</td>\n",
       "      <td>2</td>\n",
       "      <td>2</td>\n",
       "      <td>-1</td>\n",
       "      <td>-1</td>\n",
       "      <td>-2</td>\n",
       "      <td>-2</td>\n",
       "      <td>1</td>\n",
       "      <td>0.0</td>\n",
       "      <td>1.0</td>\n",
       "      <td>0.0</td>\n",
       "      <td>0.0</td>\n",
       "      <td>0.0</td>\n",
       "      <td>0.0</td>\n",
       "      <td>1.0</td>\n",
       "      <td>0.0</td>\n",
       "      <td>0.0</td>\n",
       "      <td>0.0</td>\n",
       "      <td>0.0</td>\n",
       "      <td>0.0</td>\n",
       "      <td>1.0</td>\n",
       "      <td>0.149982</td>\n",
       "      <td>0.069164</td>\n",
       "      <td>0.086723</td>\n",
       "      <td>0.160138</td>\n",
       "      <td>0.080648</td>\n",
       "      <td>0.260979</td>\n",
       "      <td>0.000000</td>\n",
       "      <td>0.000409</td>\n",
       "      <td>0.000000</td>\n",
       "      <td>0.000000</td>\n",
       "      <td>0.000000</td>\n",
       "      <td>0.000000</td>\n",
       "      <td>0.010101</td>\n",
       "    </tr>\n",
       "    <tr>\n",
       "      <th>1</th>\n",
       "      <td>120000.0</td>\n",
       "      <td>26</td>\n",
       "      <td>-1</td>\n",
       "      <td>2</td>\n",
       "      <td>0</td>\n",
       "      <td>0</td>\n",
       "      <td>0</td>\n",
       "      <td>2</td>\n",
       "      <td>1</td>\n",
       "      <td>0.0</td>\n",
       "      <td>0.0</td>\n",
       "      <td>1.0</td>\n",
       "      <td>0.0</td>\n",
       "      <td>0.0</td>\n",
       "      <td>0.0</td>\n",
       "      <td>1.0</td>\n",
       "      <td>0.0</td>\n",
       "      <td>0.0</td>\n",
       "      <td>0.0</td>\n",
       "      <td>0.0</td>\n",
       "      <td>0.0</td>\n",
       "      <td>1.0</td>\n",
       "      <td>0.148892</td>\n",
       "      <td>0.067858</td>\n",
       "      <td>0.087817</td>\n",
       "      <td>0.163220</td>\n",
       "      <td>0.084074</td>\n",
       "      <td>0.263485</td>\n",
       "      <td>0.000000</td>\n",
       "      <td>0.000594</td>\n",
       "      <td>0.001116</td>\n",
       "      <td>0.001610</td>\n",
       "      <td>0.000000</td>\n",
       "      <td>0.003783</td>\n",
       "      <td>0.111111</td>\n",
       "    </tr>\n",
       "    <tr>\n",
       "      <th>2</th>\n",
       "      <td>90000.0</td>\n",
       "      <td>34</td>\n",
       "      <td>0</td>\n",
       "      <td>0</td>\n",
       "      <td>0</td>\n",
       "      <td>0</td>\n",
       "      <td>0</td>\n",
       "      <td>0</td>\n",
       "      <td>0</td>\n",
       "      <td>0.0</td>\n",
       "      <td>0.0</td>\n",
       "      <td>1.0</td>\n",
       "      <td>0.0</td>\n",
       "      <td>0.0</td>\n",
       "      <td>0.0</td>\n",
       "      <td>1.0</td>\n",
       "      <td>0.0</td>\n",
       "      <td>0.0</td>\n",
       "      <td>0.0</td>\n",
       "      <td>0.0</td>\n",
       "      <td>0.0</td>\n",
       "      <td>1.0</td>\n",
       "      <td>0.172392</td>\n",
       "      <td>0.079532</td>\n",
       "      <td>0.093789</td>\n",
       "      <td>0.173637</td>\n",
       "      <td>0.095470</td>\n",
       "      <td>0.272928</td>\n",
       "      <td>0.001738</td>\n",
       "      <td>0.000891</td>\n",
       "      <td>0.001116</td>\n",
       "      <td>0.001610</td>\n",
       "      <td>0.002345</td>\n",
       "      <td>0.009458</td>\n",
       "      <td>0.080808</td>\n",
       "    </tr>\n",
       "    <tr>\n",
       "      <th>3</th>\n",
       "      <td>50000.0</td>\n",
       "      <td>37</td>\n",
       "      <td>0</td>\n",
       "      <td>0</td>\n",
       "      <td>0</td>\n",
       "      <td>0</td>\n",
       "      <td>0</td>\n",
       "      <td>0</td>\n",
       "      <td>0</td>\n",
       "      <td>0.0</td>\n",
       "      <td>1.0</td>\n",
       "      <td>0.0</td>\n",
       "      <td>0.0</td>\n",
       "      <td>0.0</td>\n",
       "      <td>0.0</td>\n",
       "      <td>1.0</td>\n",
       "      <td>0.0</td>\n",
       "      <td>0.0</td>\n",
       "      <td>0.0</td>\n",
       "      <td>0.0</td>\n",
       "      <td>0.0</td>\n",
       "      <td>1.0</td>\n",
       "      <td>0.188100</td>\n",
       "      <td>0.111995</td>\n",
       "      <td>0.113407</td>\n",
       "      <td>0.186809</td>\n",
       "      <td>0.109363</td>\n",
       "      <td>0.283685</td>\n",
       "      <td>0.002290</td>\n",
       "      <td>0.001199</td>\n",
       "      <td>0.001339</td>\n",
       "      <td>0.001771</td>\n",
       "      <td>0.002506</td>\n",
       "      <td>0.001892</td>\n",
       "      <td>0.040404</td>\n",
       "    </tr>\n",
       "    <tr>\n",
       "      <th>4</th>\n",
       "      <td>50000.0</td>\n",
       "      <td>57</td>\n",
       "      <td>-1</td>\n",
       "      <td>0</td>\n",
       "      <td>-1</td>\n",
       "      <td>0</td>\n",
       "      <td>0</td>\n",
       "      <td>0</td>\n",
       "      <td>0</td>\n",
       "      <td>0.0</td>\n",
       "      <td>1.0</td>\n",
       "      <td>0.0</td>\n",
       "      <td>0.0</td>\n",
       "      <td>0.0</td>\n",
       "      <td>0.0</td>\n",
       "      <td>1.0</td>\n",
       "      <td>0.0</td>\n",
       "      <td>0.0</td>\n",
       "      <td>0.0</td>\n",
       "      <td>0.0</td>\n",
       "      <td>1.0</td>\n",
       "      <td>0.0</td>\n",
       "      <td>0.154144</td>\n",
       "      <td>0.071601</td>\n",
       "      <td>0.106020</td>\n",
       "      <td>0.179863</td>\n",
       "      <td>0.099633</td>\n",
       "      <td>0.275681</td>\n",
       "      <td>0.002290</td>\n",
       "      <td>0.021779</td>\n",
       "      <td>0.011160</td>\n",
       "      <td>0.014493</td>\n",
       "      <td>0.001615</td>\n",
       "      <td>0.001284</td>\n",
       "      <td>0.040404</td>\n",
       "    </tr>\n",
       "  </tbody>\n",
       "</table>\n",
       "</div>"
      ],
      "text/plain": [
       "   LIMIT_BAL  AGE  PAY_0  PAY_2  PAY_3  PAY_4  PAY_5  PAY_6  \\\n",
       "0    20000.0   24      2      2     -1     -1     -2     -2   \n",
       "1   120000.0   26     -1      2      0      0      0      2   \n",
       "2    90000.0   34      0      0      0      0      0      0   \n",
       "3    50000.0   37      0      0      0      0      0      0   \n",
       "4    50000.0   57     -1      0     -1      0      0      0   \n",
       "\n",
       "   default.payment.next.month  Mar1  Mar2  Mar3  Mar4  Edu1  Edu2  Edu3  Edu4  \\\n",
       "0                           1   0.0   1.0   0.0   0.0   0.0   0.0   1.0   0.0   \n",
       "1                           1   0.0   0.0   1.0   0.0   0.0   0.0   1.0   0.0   \n",
       "2                           0   0.0   0.0   1.0   0.0   0.0   0.0   1.0   0.0   \n",
       "3                           0   0.0   1.0   0.0   0.0   0.0   0.0   1.0   0.0   \n",
       "4                           0   0.0   1.0   0.0   0.0   0.0   0.0   1.0   0.0   \n",
       "\n",
       "   Edu5  Edu6  Edu7  Male  Female  BILL_AMT1  BILL_AMT2  BILL_AMT3  BILL_AMT4  \\\n",
       "0   0.0   0.0   0.0   0.0     1.0   0.149982   0.069164   0.086723   0.160138   \n",
       "1   0.0   0.0   0.0   0.0     1.0   0.148892   0.067858   0.087817   0.163220   \n",
       "2   0.0   0.0   0.0   0.0     1.0   0.172392   0.079532   0.093789   0.173637   \n",
       "3   0.0   0.0   0.0   0.0     1.0   0.188100   0.111995   0.113407   0.186809   \n",
       "4   0.0   0.0   0.0   1.0     0.0   0.154144   0.071601   0.106020   0.179863   \n",
       "\n",
       "   BILL_AMT5  BILL_AMT6  PAY_AMT1  PAY_AMT2  PAY_AMT3  PAY_AMT4  PAY_AMT5  \\\n",
       "0   0.080648   0.260979  0.000000  0.000409  0.000000  0.000000  0.000000   \n",
       "1   0.084074   0.263485  0.000000  0.000594  0.001116  0.001610  0.000000   \n",
       "2   0.095470   0.272928  0.001738  0.000891  0.001116  0.001610  0.002345   \n",
       "3   0.109363   0.283685  0.002290  0.001199  0.001339  0.001771  0.002506   \n",
       "4   0.099633   0.275681  0.002290  0.021779  0.011160  0.014493  0.001615   \n",
       "\n",
       "   PAY_AMT6  Scaled_LB  \n",
       "0  0.000000   0.010101  \n",
       "1  0.003783   0.111111  \n",
       "2  0.009458   0.080808  \n",
       "3  0.001892   0.040404  \n",
       "4  0.001284   0.040404  "
      ]
     },
     "execution_count": 43,
     "metadata": {},
     "output_type": "execute_result"
    }
   ],
   "source": [
    "df_LB = pd.DataFrame(data=Scaled_LB, columns =[\"Scaled_LB\"])\n",
    "df= pd.concat([df,df_LB],axis=1)\n",
    "df.head()"
   ]
  },
  {
   "cell_type": "code",
   "execution_count": 44,
   "id": "78b00b8a",
   "metadata": {
    "execution": {
     "iopub.execute_input": "2022-12-13T09:54:07.404100Z",
     "iopub.status.busy": "2022-12-13T09:54:07.403285Z",
     "iopub.status.idle": "2022-12-13T09:54:07.422629Z",
     "shell.execute_reply": "2022-12-13T09:54:07.421710Z"
    },
    "papermill": {
     "duration": 0.050684,
     "end_time": "2022-12-13T09:54:07.425289",
     "exception": false,
     "start_time": "2022-12-13T09:54:07.374605",
     "status": "completed"
    },
    "tags": []
   },
   "outputs": [],
   "source": [
    "df.drop(columns=[\"LIMIT_BAL\"],inplace=True)"
   ]
  },
  {
   "cell_type": "markdown",
   "id": "ef5e4e98",
   "metadata": {
    "papermill": {
     "duration": 0.026163,
     "end_time": "2022-12-13T09:54:07.477972",
     "exception": false,
     "start_time": "2022-12-13T09:54:07.451809",
     "status": "completed"
    },
    "tags": []
   },
   "source": [
    "<a id= \"7\"></a>\n",
    "## Age"
   ]
  },
  {
   "cell_type": "code",
   "execution_count": 45,
   "id": "51c4a216",
   "metadata": {
    "execution": {
     "iopub.execute_input": "2022-12-13T09:54:07.533693Z",
     "iopub.status.busy": "2022-12-13T09:54:07.532883Z",
     "iopub.status.idle": "2022-12-13T09:54:08.121325Z",
     "shell.execute_reply": "2022-12-13T09:54:08.119915Z"
    },
    "papermill": {
     "duration": 0.619145,
     "end_time": "2022-12-13T09:54:08.124184",
     "exception": false,
     "start_time": "2022-12-13T09:54:07.505039",
     "status": "completed"
    },
    "tags": []
   },
   "outputs": [
    {
     "data": {
      "image/png": "[encoded data removed]",
      "text/plain": [
       "<Figure size 1152x360 with 1 Axes>"
      ]
     },
     "metadata": {},
     "output_type": "display_data"
    }
   ],
   "source": [
    "plt.figure(figsize=(16,5))\n",
    "plt.subplot(1,2,2)\n",
    "sns.distplot(df['AGE'])\n",
    "plt.show()"
   ]
  },
  {
   "cell_type": "code",
   "execution_count": 46,
   "id": "7665591f",
   "metadata": {
    "execution": {
     "iopub.execute_input": "2022-12-13T09:54:08.183107Z",
     "iopub.status.busy": "2022-12-13T09:54:08.182649Z",
     "iopub.status.idle": "2022-12-13T09:54:08.411011Z",
     "shell.execute_reply": "2022-12-13T09:54:08.409721Z"
    },
    "papermill": {
     "duration": 0.260051,
     "end_time": "2022-12-13T09:54:08.413571",
     "exception": false,
     "start_time": "2022-12-13T09:54:08.153520",
     "status": "completed"
    },
    "tags": []
   },
   "outputs": [
    {
     "data": {
      "image/png": "[encoded data removed]",
      "text/plain": [
       "<Figure size 432x288 with 1 Axes>"
      ]
     },
     "metadata": {},
     "output_type": "display_data"
    }
   ],
   "source": [
    "sns.boxplot(df['AGE'])\n",
    "plt.show()"
   ]
  },
  {
   "cell_type": "code",
   "execution_count": 47,
   "id": "316df0c9",
   "metadata": {
    "execution": {
     "iopub.execute_input": "2022-12-13T09:54:08.471883Z",
     "iopub.status.busy": "2022-12-13T09:54:08.471184Z",
     "iopub.status.idle": "2022-12-13T09:54:08.480290Z",
     "shell.execute_reply": "2022-12-13T09:54:08.479233Z"
    },
    "papermill": {
     "duration": 0.041704,
     "end_time": "2022-12-13T09:54:08.483045",
     "exception": false,
     "start_time": "2022-12-13T09:54:08.441341",
     "status": "completed"
    },
    "tags": []
   },
   "outputs": [],
   "source": [
    "percentile25 = df['AGE'].quantile(0.25)\n",
    "percentile75 = df['AGE'].quantile(0.75)\n",
    "iqr = percentile75-percentile25"
   ]
  },
  {
   "cell_type": "code",
   "execution_count": 48,
   "id": "2f796742",
   "metadata": {
    "execution": {
     "iopub.execute_input": "2022-12-13T09:54:08.548442Z",
     "iopub.status.busy": "2022-12-13T09:54:08.547686Z",
     "iopub.status.idle": "2022-12-13T09:54:08.555163Z",
     "shell.execute_reply": "2022-12-13T09:54:08.553550Z"
    },
    "papermill": {
     "duration": 0.043839,
     "end_time": "2022-12-13T09:54:08.558029",
     "exception": false,
     "start_time": "2022-12-13T09:54:08.514190",
     "status": "completed"
    },
    "tags": []
   },
   "outputs": [
    {
     "name": "stdout",
     "output_type": "stream",
     "text": [
      "UpperLimmit = 60.5 &&&&& LowerLimit = 8.5\n"
     ]
    }
   ],
   "source": [
    "upper_limit = percentile75 + 1.5 * iqr\n",
    "lower_limit = percentile25 - 1.5 * iqr\n",
    "print(f\"UpperLimmit = {upper_limit}\",\"&&&&&\", f\"LowerLimit = {lower_limit}\")"
   ]
  },
  {
   "cell_type": "code",
   "execution_count": 49,
   "id": "8d1e4447",
   "metadata": {
    "execution": {
     "iopub.execute_input": "2022-12-13T09:54:08.619425Z",
     "iopub.status.busy": "2022-12-13T09:54:08.618467Z",
     "iopub.status.idle": "2022-12-13T09:54:08.668320Z",
     "shell.execute_reply": "2022-12-13T09:54:08.666813Z"
    },
    "papermill": {
     "duration": 0.083567,
     "end_time": "2022-12-13T09:54:08.671100",
     "exception": false,
     "start_time": "2022-12-13T09:54:08.587533",
     "status": "completed"
    },
    "tags": []
   },
   "outputs": [
    {
     "data": {
      "text/html": [
       "<div>\n",
       "<style scoped>\n",
       "    .dataframe tbody tr th:only-of-type {\n",
       "        vertical-align: middle;\n",
       "    }\n",
       "\n",
       "    .dataframe tbody tr th {\n",
       "        vertical-align: top;\n",
       "    }\n",
       "\n",
       "    .dataframe thead th {\n",
       "        text-align: right;\n",
       "    }\n",
       "</style>\n",
       "<table border=\"1\" class=\"dataframe\">\n",
       "  <thead>\n",
       "    <tr style=\"text-align: right;\">\n",
       "      <th></th>\n",
       "      <th>AGE</th>\n",
       "      <th>PAY_0</th>\n",
       "      <th>PAY_2</th>\n",
       "      <th>PAY_3</th>\n",
       "      <th>PAY_4</th>\n",
       "      <th>PAY_5</th>\n",
       "      <th>PAY_6</th>\n",
       "      <th>default.payment.next.month</th>\n",
       "      <th>Mar1</th>\n",
       "      <th>Mar2</th>\n",
       "      <th>Mar3</th>\n",
       "      <th>Mar4</th>\n",
       "      <th>Edu1</th>\n",
       "      <th>Edu2</th>\n",
       "      <th>Edu3</th>\n",
       "      <th>Edu4</th>\n",
       "      <th>Edu5</th>\n",
       "      <th>Edu6</th>\n",
       "      <th>Edu7</th>\n",
       "      <th>Male</th>\n",
       "      <th>Female</th>\n",
       "      <th>BILL_AMT1</th>\n",
       "      <th>BILL_AMT2</th>\n",
       "      <th>BILL_AMT3</th>\n",
       "      <th>BILL_AMT4</th>\n",
       "      <th>BILL_AMT5</th>\n",
       "      <th>BILL_AMT6</th>\n",
       "      <th>PAY_AMT1</th>\n",
       "      <th>PAY_AMT2</th>\n",
       "      <th>PAY_AMT3</th>\n",
       "      <th>PAY_AMT4</th>\n",
       "      <th>PAY_AMT5</th>\n",
       "      <th>PAY_AMT6</th>\n",
       "      <th>Scaled_LB</th>\n",
       "    </tr>\n",
       "  </thead>\n",
       "  <tbody>\n",
       "    <tr>\n",
       "      <th>102</th>\n",
       "      <td>63</td>\n",
       "      <td>0</td>\n",
       "      <td>0</td>\n",
       "      <td>0</td>\n",
       "      <td>2</td>\n",
       "      <td>2</td>\n",
       "      <td>0</td>\n",
       "      <td>0</td>\n",
       "      <td>0.0</td>\n",
       "      <td>1.0</td>\n",
       "      <td>0.0</td>\n",
       "      <td>0.0</td>\n",
       "      <td>0.0</td>\n",
       "      <td>1.0</td>\n",
       "      <td>0.0</td>\n",
       "      <td>0.0</td>\n",
       "      <td>0.0</td>\n",
       "      <td>0.0</td>\n",
       "      <td>0.0</td>\n",
       "      <td>1.0</td>\n",
       "      <td>0.0</td>\n",
       "      <td>0.520001</td>\n",
       "      <td>0.475577</td>\n",
       "      <td>0.349573</td>\n",
       "      <td>0.618947</td>\n",
       "      <td>0.547820</td>\n",
       "      <td>0.622135</td>\n",
       "      <td>0.018405</td>\n",
       "      <td>0.033067</td>\n",
       "      <td>0.018972</td>\n",
       "      <td>0.000000</td>\n",
       "      <td>0.042201</td>\n",
       "      <td>0.045776</td>\n",
       "      <td>0.474747</td>\n",
       "    </tr>\n",
       "    <tr>\n",
       "      <th>246</th>\n",
       "      <td>75</td>\n",
       "      <td>0</td>\n",
       "      <td>-1</td>\n",
       "      <td>-1</td>\n",
       "      <td>-1</td>\n",
       "      <td>-1</td>\n",
       "      <td>-1</td>\n",
       "      <td>0</td>\n",
       "      <td>0.0</td>\n",
       "      <td>1.0</td>\n",
       "      <td>0.0</td>\n",
       "      <td>0.0</td>\n",
       "      <td>0.0</td>\n",
       "      <td>0.0</td>\n",
       "      <td>1.0</td>\n",
       "      <td>0.0</td>\n",
       "      <td>0.0</td>\n",
       "      <td>0.0</td>\n",
       "      <td>0.0</td>\n",
       "      <td>0.0</td>\n",
       "      <td>1.0</td>\n",
       "      <td>0.193307</td>\n",
       "      <td>0.067768</td>\n",
       "      <td>0.087188</td>\n",
       "      <td>0.161089</td>\n",
       "      <td>0.086173</td>\n",
       "      <td>0.261589</td>\n",
       "      <td>0.001867</td>\n",
       "      <td>0.000912</td>\n",
       "      <td>0.001127</td>\n",
       "      <td>0.008973</td>\n",
       "      <td>0.001862</td>\n",
       "      <td>0.002240</td>\n",
       "      <td>0.242424</td>\n",
       "    </tr>\n",
       "    <tr>\n",
       "      <th>366</th>\n",
       "      <td>61</td>\n",
       "      <td>0</td>\n",
       "      <td>0</td>\n",
       "      <td>0</td>\n",
       "      <td>0</td>\n",
       "      <td>0</td>\n",
       "      <td>0</td>\n",
       "      <td>0</td>\n",
       "      <td>0.0</td>\n",
       "      <td>1.0</td>\n",
       "      <td>0.0</td>\n",
       "      <td>0.0</td>\n",
       "      <td>0.0</td>\n",
       "      <td>0.0</td>\n",
       "      <td>1.0</td>\n",
       "      <td>0.0</td>\n",
       "      <td>0.0</td>\n",
       "      <td>0.0</td>\n",
       "      <td>0.0</td>\n",
       "      <td>0.0</td>\n",
       "      <td>1.0</td>\n",
       "      <td>0.188256</td>\n",
       "      <td>0.113099</td>\n",
       "      <td>0.114058</td>\n",
       "      <td>0.182104</td>\n",
       "      <td>0.103624</td>\n",
       "      <td>0.280017</td>\n",
       "      <td>0.003434</td>\n",
       "      <td>0.001328</td>\n",
       "      <td>0.001088</td>\n",
       "      <td>0.001610</td>\n",
       "      <td>0.004689</td>\n",
       "      <td>0.001965</td>\n",
       "      <td>0.040404</td>\n",
       "    </tr>\n",
       "    <tr>\n",
       "      <th>387</th>\n",
       "      <td>73</td>\n",
       "      <td>-1</td>\n",
       "      <td>0</td>\n",
       "      <td>0</td>\n",
       "      <td>2</td>\n",
       "      <td>2</td>\n",
       "      <td>2</td>\n",
       "      <td>1</td>\n",
       "      <td>0.0</td>\n",
       "      <td>1.0</td>\n",
       "      <td>0.0</td>\n",
       "      <td>0.0</td>\n",
       "      <td>0.0</td>\n",
       "      <td>0.0</td>\n",
       "      <td>0.0</td>\n",
       "      <td>1.0</td>\n",
       "      <td>0.0</td>\n",
       "      <td>0.0</td>\n",
       "      <td>0.0</td>\n",
       "      <td>1.0</td>\n",
       "      <td>0.0</td>\n",
       "      <td>0.202394</td>\n",
       "      <td>0.128506</td>\n",
       "      <td>0.124160</td>\n",
       "      <td>0.226685</td>\n",
       "      <td>0.152904</td>\n",
       "      <td>0.318629</td>\n",
       "      <td>0.004007</td>\n",
       "      <td>0.002571</td>\n",
       "      <td>0.003906</td>\n",
       "      <td>0.005636</td>\n",
       "      <td>0.008206</td>\n",
       "      <td>0.009647</td>\n",
       "      <td>0.070707</td>\n",
       "    </tr>\n",
       "    <tr>\n",
       "      <th>1029</th>\n",
       "      <td>67</td>\n",
       "      <td>2</td>\n",
       "      <td>2</td>\n",
       "      <td>0</td>\n",
       "      <td>0</td>\n",
       "      <td>2</td>\n",
       "      <td>2</td>\n",
       "      <td>1</td>\n",
       "      <td>0.0</td>\n",
       "      <td>1.0</td>\n",
       "      <td>0.0</td>\n",
       "      <td>0.0</td>\n",
       "      <td>0.0</td>\n",
       "      <td>0.0</td>\n",
       "      <td>1.0</td>\n",
       "      <td>0.0</td>\n",
       "      <td>0.0</td>\n",
       "      <td>0.0</td>\n",
       "      <td>0.0</td>\n",
       "      <td>0.0</td>\n",
       "      <td>1.0</td>\n",
       "      <td>0.173397</td>\n",
       "      <td>0.093778</td>\n",
       "      <td>0.101573</td>\n",
       "      <td>0.187925</td>\n",
       "      <td>0.110518</td>\n",
       "      <td>0.281616</td>\n",
       "      <td>0.000000</td>\n",
       "      <td>0.000891</td>\n",
       "      <td>0.002435</td>\n",
       "      <td>0.001932</td>\n",
       "      <td>0.000000</td>\n",
       "      <td>0.004354</td>\n",
       "      <td>0.020202</td>\n",
       "    </tr>\n",
       "    <tr>\n",
       "      <th>...</th>\n",
       "      <td>...</td>\n",
       "      <td>...</td>\n",
       "      <td>...</td>\n",
       "      <td>...</td>\n",
       "      <td>...</td>\n",
       "      <td>...</td>\n",
       "      <td>...</td>\n",
       "      <td>...</td>\n",
       "      <td>...</td>\n",
       "      <td>...</td>\n",
       "      <td>...</td>\n",
       "      <td>...</td>\n",
       "      <td>...</td>\n",
       "      <td>...</td>\n",
       "      <td>...</td>\n",
       "      <td>...</td>\n",
       "      <td>...</td>\n",
       "      <td>...</td>\n",
       "      <td>...</td>\n",
       "      <td>...</td>\n",
       "      <td>...</td>\n",
       "      <td>...</td>\n",
       "      <td>...</td>\n",
       "      <td>...</td>\n",
       "      <td>...</td>\n",
       "      <td>...</td>\n",
       "      <td>...</td>\n",
       "      <td>...</td>\n",
       "      <td>...</td>\n",
       "      <td>...</td>\n",
       "      <td>...</td>\n",
       "      <td>...</td>\n",
       "      <td>...</td>\n",
       "      <td>...</td>\n",
       "    </tr>\n",
       "    <tr>\n",
       "      <th>29163</th>\n",
       "      <td>73</td>\n",
       "      <td>-2</td>\n",
       "      <td>-2</td>\n",
       "      <td>-2</td>\n",
       "      <td>-2</td>\n",
       "      <td>-2</td>\n",
       "      <td>-2</td>\n",
       "      <td>1</td>\n",
       "      <td>0.0</td>\n",
       "      <td>1.0</td>\n",
       "      <td>0.0</td>\n",
       "      <td>0.0</td>\n",
       "      <td>0.0</td>\n",
       "      <td>0.0</td>\n",
       "      <td>0.0</td>\n",
       "      <td>1.0</td>\n",
       "      <td>0.0</td>\n",
       "      <td>0.0</td>\n",
       "      <td>0.0</td>\n",
       "      <td>0.0</td>\n",
       "      <td>1.0</td>\n",
       "      <td>0.146519</td>\n",
       "      <td>0.066220</td>\n",
       "      <td>0.086345</td>\n",
       "      <td>0.160138</td>\n",
       "      <td>0.080648</td>\n",
       "      <td>0.260979</td>\n",
       "      <td>0.000000</td>\n",
       "      <td>0.000000</td>\n",
       "      <td>0.000000</td>\n",
       "      <td>0.000000</td>\n",
       "      <td>0.000000</td>\n",
       "      <td>0.000000</td>\n",
       "      <td>0.353535</td>\n",
       "    </tr>\n",
       "    <tr>\n",
       "      <th>29171</th>\n",
       "      <td>61</td>\n",
       "      <td>0</td>\n",
       "      <td>0</td>\n",
       "      <td>0</td>\n",
       "      <td>2</td>\n",
       "      <td>0</td>\n",
       "      <td>0</td>\n",
       "      <td>0</td>\n",
       "      <td>0.0</td>\n",
       "      <td>1.0</td>\n",
       "      <td>0.0</td>\n",
       "      <td>0.0</td>\n",
       "      <td>0.0</td>\n",
       "      <td>0.0</td>\n",
       "      <td>0.0</td>\n",
       "      <td>1.0</td>\n",
       "      <td>0.0</td>\n",
       "      <td>0.0</td>\n",
       "      <td>0.0</td>\n",
       "      <td>0.0</td>\n",
       "      <td>1.0</td>\n",
       "      <td>0.312055</td>\n",
       "      <td>0.238690</td>\n",
       "      <td>0.192257</td>\n",
       "      <td>0.331392</td>\n",
       "      <td>0.257324</td>\n",
       "      <td>0.432427</td>\n",
       "      <td>0.009730</td>\n",
       "      <td>0.010093</td>\n",
       "      <td>0.000000</td>\n",
       "      <td>0.010480</td>\n",
       "      <td>0.117225</td>\n",
       "      <td>0.013241</td>\n",
       "      <td>0.505051</td>\n",
       "    </tr>\n",
       "    <tr>\n",
       "      <th>29173</th>\n",
       "      <td>64</td>\n",
       "      <td>-2</td>\n",
       "      <td>-2</td>\n",
       "      <td>-2</td>\n",
       "      <td>-2</td>\n",
       "      <td>-1</td>\n",
       "      <td>-1</td>\n",
       "      <td>0</td>\n",
       "      <td>0.0</td>\n",
       "      <td>1.0</td>\n",
       "      <td>0.0</td>\n",
       "      <td>0.0</td>\n",
       "      <td>0.0</td>\n",
       "      <td>1.0</td>\n",
       "      <td>0.0</td>\n",
       "      <td>0.0</td>\n",
       "      <td>0.0</td>\n",
       "      <td>0.0</td>\n",
       "      <td>0.0</td>\n",
       "      <td>0.0</td>\n",
       "      <td>1.0</td>\n",
       "      <td>0.146519</td>\n",
       "      <td>0.070871</td>\n",
       "      <td>0.086345</td>\n",
       "      <td>0.160138</td>\n",
       "      <td>0.086241</td>\n",
       "      <td>0.260979</td>\n",
       "      <td>0.005609</td>\n",
       "      <td>0.000000</td>\n",
       "      <td>0.000000</td>\n",
       "      <td>0.009082</td>\n",
       "      <td>0.000000</td>\n",
       "      <td>0.000000</td>\n",
       "      <td>0.353535</td>\n",
       "    </tr>\n",
       "    <tr>\n",
       "      <th>29175</th>\n",
       "      <td>74</td>\n",
       "      <td>0</td>\n",
       "      <td>0</td>\n",
       "      <td>0</td>\n",
       "      <td>-1</td>\n",
       "      <td>-1</td>\n",
       "      <td>-1</td>\n",
       "      <td>0</td>\n",
       "      <td>0.0</td>\n",
       "      <td>1.0</td>\n",
       "      <td>0.0</td>\n",
       "      <td>0.0</td>\n",
       "      <td>0.0</td>\n",
       "      <td>0.0</td>\n",
       "      <td>0.0</td>\n",
       "      <td>1.0</td>\n",
       "      <td>0.0</td>\n",
       "      <td>0.0</td>\n",
       "      <td>0.0</td>\n",
       "      <td>0.0</td>\n",
       "      <td>1.0</td>\n",
       "      <td>0.216603</td>\n",
       "      <td>0.132060</td>\n",
       "      <td>0.122687</td>\n",
       "      <td>0.176062</td>\n",
       "      <td>0.080648</td>\n",
       "      <td>0.276186</td>\n",
       "      <td>0.004331</td>\n",
       "      <td>0.001347</td>\n",
       "      <td>0.018866</td>\n",
       "      <td>0.000000</td>\n",
       "      <td>0.046395</td>\n",
       "      <td>0.050016</td>\n",
       "      <td>0.151515</td>\n",
       "    </tr>\n",
       "    <tr>\n",
       "      <th>29179</th>\n",
       "      <td>73</td>\n",
       "      <td>-2</td>\n",
       "      <td>-2</td>\n",
       "      <td>-2</td>\n",
       "      <td>-2</td>\n",
       "      <td>-2</td>\n",
       "      <td>-2</td>\n",
       "      <td>1</td>\n",
       "      <td>0.0</td>\n",
       "      <td>1.0</td>\n",
       "      <td>0.0</td>\n",
       "      <td>0.0</td>\n",
       "      <td>0.0</td>\n",
       "      <td>0.0</td>\n",
       "      <td>1.0</td>\n",
       "      <td>0.0</td>\n",
       "      <td>0.0</td>\n",
       "      <td>0.0</td>\n",
       "      <td>0.0</td>\n",
       "      <td>0.0</td>\n",
       "      <td>1.0</td>\n",
       "      <td>0.146519</td>\n",
       "      <td>0.068902</td>\n",
       "      <td>0.087801</td>\n",
       "      <td>0.162808</td>\n",
       "      <td>0.089469</td>\n",
       "      <td>0.263937</td>\n",
       "      <td>0.003235</td>\n",
       "      <td>0.001575</td>\n",
       "      <td>0.003164</td>\n",
       "      <td>0.014325</td>\n",
       "      <td>0.009026</td>\n",
       "      <td>0.001345</td>\n",
       "      <td>0.494949</td>\n",
       "    </tr>\n",
       "  </tbody>\n",
       "</table>\n",
       "<p>272 rows × 34 columns</p>\n",
       "</div>"
      ],
      "text/plain": [
       "       AGE  PAY_0  PAY_2  PAY_3  PAY_4  PAY_5  PAY_6  \\\n",
       "102     63      0      0      0      2      2      0   \n",
       "246     75      0     -1     -1     -1     -1     -1   \n",
       "366     61      0      0      0      0      0      0   \n",
       "387     73     -1      0      0      2      2      2   \n",
       "1029    67      2      2      0      0      2      2   \n",
       "...    ...    ...    ...    ...    ...    ...    ...   \n",
       "29163   73     -2     -2     -2     -2     -2     -2   \n",
       "29171   61      0      0      0      2      0      0   \n",
       "29173   64     -2     -2     -2     -2     -1     -1   \n",
       "29175   74      0      0      0     -1     -1     -1   \n",
       "29179   73     -2     -2     -2     -2     -2     -2   \n",
       "\n",
       "       default.payment.next.month  Mar1  Mar2  Mar3  Mar4  Edu1  Edu2  Edu3  \\\n",
       "102                             0   0.0   1.0   0.0   0.0   0.0   1.0   0.0   \n",
       "246                             0   0.0   1.0   0.0   0.0   0.0   0.0   1.0   \n",
       "366                             0   0.0   1.0   0.0   0.0   0.0   0.0   1.0   \n",
       "387                             1   0.0   1.0   0.0   0.0   0.0   0.0   0.0   \n",
       "1029                            1   0.0   1.0   0.0   0.0   0.0   0.0   1.0   \n",
       "...                           ...   ...   ...   ...   ...   ...   ...   ...   \n",
       "29163                           1   0.0   1.0   0.0   0.0   0.0   0.0   0.0   \n",
       "29171                           0   0.0   1.0   0.0   0.0   0.0   0.0   0.0   \n",
       "29173                           0   0.0   1.0   0.0   0.0   0.0   1.0   0.0   \n",
       "29175                           0   0.0   1.0   0.0   0.0   0.0   0.0   0.0   \n",
       "29179                           1   0.0   1.0   0.0   0.0   0.0   0.0   1.0   \n",
       "\n",
       "       Edu4  Edu5  Edu6  Edu7  Male  Female  BILL_AMT1  BILL_AMT2  BILL_AMT3  \\\n",
       "102     0.0   0.0   0.0   0.0   1.0     0.0   0.520001   0.475577   0.349573   \n",
       "246     0.0   0.0   0.0   0.0   0.0     1.0   0.193307   0.067768   0.087188   \n",
       "366     0.0   0.0   0.0   0.0   0.0     1.0   0.188256   0.113099   0.114058   \n",
       "387     1.0   0.0   0.0   0.0   1.0     0.0   0.202394   0.128506   0.124160   \n",
       "1029    0.0   0.0   0.0   0.0   0.0     1.0   0.173397   0.093778   0.101573   \n",
       "...     ...   ...   ...   ...   ...     ...        ...        ...        ...   \n",
       "29163   1.0   0.0   0.0   0.0   0.0     1.0   0.146519   0.066220   0.086345   \n",
       "29171   1.0   0.0   0.0   0.0   0.0     1.0   0.312055   0.238690   0.192257   \n",
       "29173   0.0   0.0   0.0   0.0   0.0     1.0   0.146519   0.070871   0.086345   \n",
       "29175   1.0   0.0   0.0   0.0   0.0     1.0   0.216603   0.132060   0.122687   \n",
       "29179   0.0   0.0   0.0   0.0   0.0     1.0   0.146519   0.068902   0.087801   \n",
       "\n",
       "       BILL_AMT4  BILL_AMT5  BILL_AMT6  PAY_AMT1  PAY_AMT2  PAY_AMT3  \\\n",
       "102     0.618947   0.547820   0.622135  0.018405  0.033067  0.018972   \n",
       "246     0.161089   0.086173   0.261589  0.001867  0.000912  0.001127   \n",
       "366     0.182104   0.103624   0.280017  0.003434  0.001328  0.001088   \n",
       "387     0.226685   0.152904   0.318629  0.004007  0.002571  0.003906   \n",
       "1029    0.187925   0.110518   0.281616  0.000000  0.000891  0.002435   \n",
       "...          ...        ...        ...       ...       ...       ...   \n",
       "29163   0.160138   0.080648   0.260979  0.000000  0.000000  0.000000   \n",
       "29171   0.331392   0.257324   0.432427  0.009730  0.010093  0.000000   \n",
       "29173   0.160138   0.086241   0.260979  0.005609  0.000000  0.000000   \n",
       "29175   0.176062   0.080648   0.276186  0.004331  0.001347  0.018866   \n",
       "29179   0.162808   0.089469   0.263937  0.003235  0.001575  0.003164   \n",
       "\n",
       "       PAY_AMT4  PAY_AMT5  PAY_AMT6  Scaled_LB  \n",
       "102    0.000000  0.042201  0.045776   0.474747  \n",
       "246    0.008973  0.001862  0.002240   0.242424  \n",
       "366    0.001610  0.004689  0.001965   0.040404  \n",
       "387    0.005636  0.008206  0.009647   0.070707  \n",
       "1029   0.001932  0.000000  0.004354   0.020202  \n",
       "...         ...       ...       ...        ...  \n",
       "29163  0.000000  0.000000  0.000000   0.353535  \n",
       "29171  0.010480  0.117225  0.013241   0.505051  \n",
       "29173  0.009082  0.000000  0.000000   0.353535  \n",
       "29175  0.000000  0.046395  0.050016   0.151515  \n",
       "29179  0.014325  0.009026  0.001345   0.494949  \n",
       "\n",
       "[272 rows x 34 columns]"
      ]
     },
     "execution_count": 49,
     "metadata": {},
     "output_type": "execute_result"
    }
   ],
   "source": [
    "df[df['AGE'] > upper_limit]\n"
   ]
  },
  {
   "cell_type": "code",
   "execution_count": 50,
   "id": "c98d0498",
   "metadata": {
    "execution": {
     "iopub.execute_input": "2022-12-13T09:54:08.731387Z",
     "iopub.status.busy": "2022-12-13T09:54:08.730985Z",
     "iopub.status.idle": "2022-12-13T09:54:08.750188Z",
     "shell.execute_reply": "2022-12-13T09:54:08.748893Z"
    },
    "papermill": {
     "duration": 0.053207,
     "end_time": "2022-12-13T09:54:08.752876",
     "exception": false,
     "start_time": "2022-12-13T09:54:08.699669",
     "status": "completed"
    },
    "tags": []
   },
   "outputs": [
    {
     "data": {
      "text/html": [
       "<div>\n",
       "<style scoped>\n",
       "    .dataframe tbody tr th:only-of-type {\n",
       "        vertical-align: middle;\n",
       "    }\n",
       "\n",
       "    .dataframe tbody tr th {\n",
       "        vertical-align: top;\n",
       "    }\n",
       "\n",
       "    .dataframe thead th {\n",
       "        text-align: right;\n",
       "    }\n",
       "</style>\n",
       "<table border=\"1\" class=\"dataframe\">\n",
       "  <thead>\n",
       "    <tr style=\"text-align: right;\">\n",
       "      <th></th>\n",
       "      <th>AGE</th>\n",
       "      <th>PAY_0</th>\n",
       "      <th>PAY_2</th>\n",
       "      <th>PAY_3</th>\n",
       "      <th>PAY_4</th>\n",
       "      <th>PAY_5</th>\n",
       "      <th>PAY_6</th>\n",
       "      <th>default.payment.next.month</th>\n",
       "      <th>Mar1</th>\n",
       "      <th>Mar2</th>\n",
       "      <th>Mar3</th>\n",
       "      <th>Mar4</th>\n",
       "      <th>Edu1</th>\n",
       "      <th>Edu2</th>\n",
       "      <th>Edu3</th>\n",
       "      <th>Edu4</th>\n",
       "      <th>Edu5</th>\n",
       "      <th>Edu6</th>\n",
       "      <th>Edu7</th>\n",
       "      <th>Male</th>\n",
       "      <th>Female</th>\n",
       "      <th>BILL_AMT1</th>\n",
       "      <th>BILL_AMT2</th>\n",
       "      <th>BILL_AMT3</th>\n",
       "      <th>BILL_AMT4</th>\n",
       "      <th>BILL_AMT5</th>\n",
       "      <th>BILL_AMT6</th>\n",
       "      <th>PAY_AMT1</th>\n",
       "      <th>PAY_AMT2</th>\n",
       "      <th>PAY_AMT3</th>\n",
       "      <th>PAY_AMT4</th>\n",
       "      <th>PAY_AMT5</th>\n",
       "      <th>PAY_AMT6</th>\n",
       "      <th>Scaled_LB</th>\n",
       "    </tr>\n",
       "  </thead>\n",
       "  <tbody>\n",
       "  </tbody>\n",
       "</table>\n",
       "</div>"
      ],
      "text/plain": [
       "Empty DataFrame\n",
       "Columns: [AGE, PAY_0, PAY_2, PAY_3, PAY_4, PAY_5, PAY_6, default.payment.next.month, Mar1, Mar2, Mar3, Mar4, Edu1, Edu2, Edu3, Edu4, Edu5, Edu6, Edu7, Male, Female, BILL_AMT1, BILL_AMT2, BILL_AMT3, BILL_AMT4, BILL_AMT5, BILL_AMT6, PAY_AMT1, PAY_AMT2, PAY_AMT3, PAY_AMT4, PAY_AMT5, PAY_AMT6, Scaled_LB]\n",
       "Index: []"
      ]
     },
     "execution_count": 50,
     "metadata": {},
     "output_type": "execute_result"
    }
   ],
   "source": [
    "df[df['AGE'] < lower_limit]"
   ]
  },
  {
   "cell_type": "code",
   "execution_count": 51,
   "id": "a71c8973",
   "metadata": {
    "execution": {
     "iopub.execute_input": "2022-12-13T09:54:08.815360Z",
     "iopub.status.busy": "2022-12-13T09:54:08.814907Z",
     "iopub.status.idle": "2022-12-13T09:54:08.831145Z",
     "shell.execute_reply": "2022-12-13T09:54:08.829961Z"
    },
    "papermill": {
     "duration": 0.050522,
     "end_time": "2022-12-13T09:54:08.833871",
     "exception": false,
     "start_time": "2022-12-13T09:54:08.783349",
     "status": "completed"
    },
    "tags": []
   },
   "outputs": [
    {
     "data": {
      "text/plain": [
       "(29728, 34)"
      ]
     },
     "execution_count": 51,
     "metadata": {},
     "output_type": "execute_result"
    }
   ],
   "source": [
    "new_df = df[df['AGE'] < upper_limit]\n",
    "new_df.shape"
   ]
  },
  {
   "cell_type": "code",
   "execution_count": 52,
   "id": "dd104420",
   "metadata": {
    "execution": {
     "iopub.execute_input": "2022-12-13T09:54:08.896082Z",
     "iopub.status.busy": "2022-12-13T09:54:08.895610Z",
     "iopub.status.idle": "2022-12-13T09:54:10.127547Z",
     "shell.execute_reply": "2022-12-13T09:54:10.126141Z"
    },
    "papermill": {
     "duration": 1.267156,
     "end_time": "2022-12-13T09:54:10.130689",
     "exception": false,
     "start_time": "2022-12-13T09:54:08.863533",
     "status": "completed"
    },
    "tags": []
   },
   "outputs": [
    {
     "data": {
      "image/png": "[encoded data removed]",
      "text/plain": [
       "<Figure size 1152x576 with 4 Axes>"
      ]
     },
     "metadata": {},
     "output_type": "display_data"
    }
   ],
   "source": [
    "plt.figure(figsize=(16,8))\n",
    "plt.subplot(2,2,1)\n",
    "sns.distplot(df['AGE'])\n",
    "plt.subplot(2,2,2)\n",
    "sns.boxplot(df['AGE'])\n",
    "plt.subplot(2,2,3)\n",
    "sns.distplot(new_df['AGE'])\n",
    "plt.subplot(2,2,4)\n",
    "sns.boxplot(new_df['AGE'])\n",
    "plt.show()"
   ]
  },
  {
   "cell_type": "markdown",
   "id": "d33e7a1d",
   "metadata": {
    "papermill": {
     "duration": 0.031189,
     "end_time": "2022-12-13T09:54:10.193280",
     "exception": false,
     "start_time": "2022-12-13T09:54:10.162091",
     "status": "completed"
    },
    "tags": []
   },
   "source": [
    "<a id= \"8\"></a>\n",
    "# Modeling"
   ]
  },
  {
   "cell_type": "markdown",
   "id": "c973290e",
   "metadata": {
    "papermill": {
     "duration": 0.029002,
     "end_time": "2022-12-13T09:54:10.251488",
     "exception": false,
     "start_time": "2022-12-13T09:54:10.222486",
     "status": "completed"
    },
    "tags": []
   },
   "source": [
    "<a id= \"9\"></a>\n",
    "## Train-Test-Split"
   ]
  },
  {
   "cell_type": "code",
   "execution_count": 53,
   "id": "bf91272f",
   "metadata": {
    "execution": {
     "iopub.execute_input": "2022-12-13T09:54:10.313415Z",
     "iopub.status.busy": "2022-12-13T09:54:10.311889Z",
     "iopub.status.idle": "2022-12-13T09:54:10.323913Z",
     "shell.execute_reply": "2022-12-13T09:54:10.322845Z"
    },
    "papermill": {
     "duration": 0.04555,
     "end_time": "2022-12-13T09:54:10.326656",
     "exception": false,
     "start_time": "2022-12-13T09:54:10.281106",
     "status": "completed"
    },
    "tags": []
   },
   "outputs": [],
   "source": [
    "X = new_df.drop(columns=\"default.payment.next.month\",axis=1)\n",
    "Y = new_df[\"default.payment.next.month\"]"
   ]
  },
  {
   "cell_type": "code",
   "execution_count": 54,
   "id": "a720e4a9",
   "metadata": {
    "execution": {
     "iopub.execute_input": "2022-12-13T09:54:10.391696Z",
     "iopub.status.busy": "2022-12-13T09:54:10.390101Z",
     "iopub.status.idle": "2022-12-13T09:54:10.399182Z",
     "shell.execute_reply": "2022-12-13T09:54:10.398230Z"
    },
    "papermill": {
     "duration": 0.044032,
     "end_time": "2022-12-13T09:54:10.401634",
     "exception": false,
     "start_time": "2022-12-13T09:54:10.357602",
     "status": "completed"
    },
    "tags": []
   },
   "outputs": [
    {
     "data": {
      "text/plain": [
       "array([1, 0])"
      ]
     },
     "execution_count": 54,
     "metadata": {},
     "output_type": "execute_result"
    }
   ],
   "source": [
    "Y.unique()"
   ]
  },
  {
   "cell_type": "code",
   "execution_count": 55,
   "id": "3800f9f8",
   "metadata": {
    "execution": {
     "iopub.execute_input": "2022-12-13T09:54:10.470863Z",
     "iopub.status.busy": "2022-12-13T09:54:10.470052Z",
     "iopub.status.idle": "2022-12-13T09:54:10.668816Z",
     "shell.execute_reply": "2022-12-13T09:54:10.667679Z"
    },
    "papermill": {
     "duration": 0.237516,
     "end_time": "2022-12-13T09:54:10.671700",
     "exception": false,
     "start_time": "2022-12-13T09:54:10.434184",
     "status": "completed"
    },
    "tags": []
   },
   "outputs": [
    {
     "data": {
      "image/png": "[encoded data removed]",
      "text/plain": [
       "<Figure size 432x288 with 1 Axes>"
      ]
     },
     "metadata": {},
     "output_type": "display_data"
    }
   ],
   "source": [
    "sns.countplot(x=Y)\n",
    "plt.xlabel(\"Default\")\n",
    "plt.show()"
   ]
  },
  {
   "cell_type": "markdown",
   "id": "5894b98d",
   "metadata": {
    "papermill": {
     "duration": 0.032389,
     "end_time": "2022-12-13T09:54:10.737953",
     "exception": false,
     "start_time": "2022-12-13T09:54:10.705564",
     "status": "completed"
    },
    "tags": []
   },
   "source": [
    "Lest check is imbalance or not ?"
   ]
  },
  {
   "cell_type": "code",
   "execution_count": 56,
   "id": "4d721d14",
   "metadata": {
    "execution": {
     "iopub.execute_input": "2022-12-13T09:54:10.805375Z",
     "iopub.status.busy": "2022-12-13T09:54:10.804832Z",
     "iopub.status.idle": "2022-12-13T09:54:10.813307Z",
     "shell.execute_reply": "2022-12-13T09:54:10.812036Z"
    },
    "papermill": {
     "duration": 0.045431,
     "end_time": "2022-12-13T09:54:10.816285",
     "exception": false,
     "start_time": "2022-12-13T09:54:10.770854",
     "status": "completed"
    },
    "tags": []
   },
   "outputs": [],
   "source": [
    "Y_1 = pd.DataFrame(Y[Y == 1])\n",
    "Y_0 = pd.DataFrame(Y[Y == 0])"
   ]
  },
  {
   "cell_type": "code",
   "execution_count": 57,
   "id": "18467a04",
   "metadata": {
    "execution": {
     "iopub.execute_input": "2022-12-13T09:54:10.880649Z",
     "iopub.status.busy": "2022-12-13T09:54:10.880225Z",
     "iopub.status.idle": "2022-12-13T09:54:10.886490Z",
     "shell.execute_reply": "2022-12-13T09:54:10.885003Z"
    },
    "papermill": {
     "duration": 0.041444,
     "end_time": "2022-12-13T09:54:10.889116",
     "exception": false,
     "start_time": "2022-12-13T09:54:10.847672",
     "status": "completed"
    },
    "tags": []
   },
   "outputs": [],
   "source": [
    "a =int(len(Y_1))\n",
    "b =int(len(Y_0))\n"
   ]
  },
  {
   "cell_type": "code",
   "execution_count": 58,
   "id": "c6d46c9a",
   "metadata": {
    "execution": {
     "iopub.execute_input": "2022-12-13T09:54:10.955152Z",
     "iopub.status.busy": "2022-12-13T09:54:10.954651Z",
     "iopub.status.idle": "2022-12-13T09:54:10.961805Z",
     "shell.execute_reply": "2022-12-13T09:54:10.960409Z"
    },
    "papermill": {
     "duration": 0.04313,
     "end_time": "2022-12-13T09:54:10.964727",
     "exception": false,
     "start_time": "2022-12-13T09:54:10.921597",
     "status": "completed"
    },
    "tags": []
   },
   "outputs": [
    {
     "name": "stdout",
     "output_type": "stream",
     "text": [
      "28.33%\n"
     ]
    }
   ],
   "source": [
    "print(\"{:.2f}%\".format(a/b * 100))"
   ]
  },
  {
   "cell_type": "markdown",
   "id": "201afa98",
   "metadata": {
    "papermill": {
     "duration": 0.032913,
     "end_time": "2022-12-13T09:54:11.031295",
     "exception": false,
     "start_time": "2022-12-13T09:54:10.998382",
     "status": "completed"
    },
    "tags": []
   },
   "source": [
    "it's a good rate so we can not say that it is imbalance data set."
   ]
  },
  {
   "cell_type": "code",
   "execution_count": 59,
   "id": "7a1bb859",
   "metadata": {
    "execution": {
     "iopub.execute_input": "2022-12-13T09:54:11.099028Z",
     "iopub.status.busy": "2022-12-13T09:54:11.098532Z",
     "iopub.status.idle": "2022-12-13T09:54:11.195605Z",
     "shell.execute_reply": "2022-12-13T09:54:11.193986Z"
    },
    "papermill": {
     "duration": 0.133046,
     "end_time": "2022-12-13T09:54:11.198763",
     "exception": false,
     "start_time": "2022-12-13T09:54:11.065717",
     "status": "completed"
    },
    "tags": []
   },
   "outputs": [],
   "source": [
    "from sklearn.model_selection import train_test_split,StratifiedKFold, GridSearchCV\n",
    "X_train, X_test, y_train, y_test = train_test_split(X, Y, test_size=0.33, random_state=42)"
   ]
  },
  {
   "cell_type": "code",
   "execution_count": 60,
   "id": "00cbdbab",
   "metadata": {
    "execution": {
     "iopub.execute_input": "2022-12-13T09:54:11.265012Z",
     "iopub.status.busy": "2022-12-13T09:54:11.264578Z",
     "iopub.status.idle": "2022-12-13T09:54:11.271639Z",
     "shell.execute_reply": "2022-12-13T09:54:11.270153Z"
    },
    "papermill": {
     "duration": 0.043063,
     "end_time": "2022-12-13T09:54:11.274670",
     "exception": false,
     "start_time": "2022-12-13T09:54:11.231607",
     "status": "completed"
    },
    "tags": []
   },
   "outputs": [
    {
     "name": "stdout",
     "output_type": "stream",
     "text": [
      "X Train:(19917, 33)\n",
      "X Test:(9811, 33)\n",
      "Y Test:(9811,)\n",
      "Y Train:(19917,)\n"
     ]
    }
   ],
   "source": [
    "print(f\"X Train:{X_train.shape}\")\n",
    "print(f\"X Test:{X_test.shape}\")\n",
    "print(f\"Y Test:{y_test.shape}\")\n",
    "print(f\"Y Train:{y_train.shape}\")"
   ]
  },
  {
   "cell_type": "markdown",
   "id": "1caf9b40",
   "metadata": {
    "papermill": {
     "duration": 0.031142,
     "end_time": "2022-12-13T09:54:11.337451",
     "exception": false,
     "start_time": "2022-12-13T09:54:11.306309",
     "status": "completed"
    },
    "tags": []
   },
   "source": [
    "<a id= \"10\"></a>\n",
    "##  Training Models"
   ]
  },
  {
   "cell_type": "code",
   "execution_count": 61,
   "id": "8e47ce20",
   "metadata": {
    "execution": {
     "iopub.execute_input": "2022-12-13T09:54:11.406161Z",
     "iopub.status.busy": "2022-12-13T09:54:11.404753Z",
     "iopub.status.idle": "2022-12-13T09:54:11.700542Z",
     "shell.execute_reply": "2022-12-13T09:54:11.699321Z"
    },
    "papermill": {
     "duration": 0.332547,
     "end_time": "2022-12-13T09:54:11.703386",
     "exception": false,
     "start_time": "2022-12-13T09:54:11.370839",
     "status": "completed"
    },
    "tags": []
   },
   "outputs": [],
   "source": [
    "from sklearn.linear_model import LogisticRegression\n",
    "from sklearn.neighbors import KNeighborsClassifier\n",
    "from sklearn.tree import DecisionTreeClassifier\n",
    "from sklearn.svm import SVC, LinearSVC\n",
    "from sklearn.neural_network import MLPClassifier\n",
    "from sklearn.ensemble import RandomForestClassifier, AdaBoostClassifier\n",
    "from sklearn.naive_bayes import GaussianNB\n",
    "from sklearn.gaussian_process import GaussianProcessClassifier\n",
    "from sklearn.discriminant_analysis import QuadraticDiscriminantAnalysis\n",
    "from sklearn.metrics import roc_auc_score\n",
    "from sklearn.metrics import roc_curve\n",
    "\n",
    "from sklearn.metrics import confusion_matrix, accuracy_score, classification_report\n"
   ]
  },
  {
   "cell_type": "code",
   "execution_count": 62,
   "id": "24695553",
   "metadata": {
    "execution": {
     "iopub.execute_input": "2022-12-13T09:54:11.771159Z",
     "iopub.status.busy": "2022-12-13T09:54:11.770699Z",
     "iopub.status.idle": "2022-12-13T09:54:11.779945Z",
     "shell.execute_reply": "2022-12-13T09:54:11.778612Z"
    },
    "papermill": {
     "duration": 0.043981,
     "end_time": "2022-12-13T09:54:11.782255",
     "exception": false,
     "start_time": "2022-12-13T09:54:11.738274",
     "status": "completed"
    },
    "tags": []
   },
   "outputs": [],
   "source": [
    "rs=42\n",
    "models = {\n",
    "    \"LogisticRegression\"   :LogisticRegression(random_state=rs),\n",
    "    \"KNeighborsClassifier\" :KNeighborsClassifier(n_neighbors= 3,weights= \"uniform\" ,metric=\"euclidean\"),\n",
    "    \"DecisionTreeClassifier\":DecisionTreeClassifier(min_samples_split = 20,max_depth=20,random_state=rs),\n",
    "    \"SVC\":SVC(),\n",
    "    \"linearSVC\":LinearSVC(),\n",
    "    \"MLPClassifier\":MLPClassifier(),\n",
    "    \"RandomForestClassifier\":RandomForestClassifier(max_features= 10,min_samples_split=10,min_samples_leaf=10,bootstrap=[False],criterion=\"gini\",random_state=rs),\n",
    "    \"AdaBoostClassifier\":AdaBoostClassifier(),\n",
    "    \"GaussianNB\":  GaussianNB()\n",
    "}"
   ]
  },
  {
   "cell_type": "code",
   "execution_count": 63,
   "id": "ba89bcf6",
   "metadata": {
    "execution": {
     "iopub.execute_input": "2022-12-13T09:54:11.843157Z",
     "iopub.status.busy": "2022-12-13T09:54:11.842418Z",
     "iopub.status.idle": "2022-12-13T09:55:02.868216Z",
     "shell.execute_reply": "2022-12-13T09:55:02.866699Z"
    },
    "papermill": {
     "duration": 51.060133,
     "end_time": "2022-12-13T09:55:02.871766",
     "exception": false,
     "start_time": "2022-12-13T09:54:11.811633",
     "status": "completed"
    },
    "tags": []
   },
   "outputs": [
    {
     "name": "stdout",
     "output_type": "stream",
     "text": [
      "LogisticRegression trained.\n",
      "KNeighborsClassifier trained.\n",
      "DecisionTreeClassifier trained.\n",
      "SVC trained.\n",
      "linearSVC trained.\n",
      "MLPClassifier trained.\n",
      "RandomForestClassifier trained.\n",
      "AdaBoostClassifier trained.\n",
      "GaussianNB trained.\n"
     ]
    }
   ],
   "source": [
    "for name,model in models.items():\n",
    "    model.fit(X_train,y_train)\n",
    "    print(name + \" trained.\")"
   ]
  },
  {
   "cell_type": "code",
   "execution_count": 64,
   "id": "9c6dd9f0",
   "metadata": {
    "execution": {
     "iopub.execute_input": "2022-12-13T09:55:02.937412Z",
     "iopub.status.busy": "2022-12-13T09:55:02.936280Z",
     "iopub.status.idle": "2022-12-13T09:55:13.113443Z",
     "shell.execute_reply": "2022-12-13T09:55:13.112030Z"
    },
    "papermill": {
     "duration": 10.213172,
     "end_time": "2022-12-13T09:55:13.117394",
     "exception": false,
     "start_time": "2022-12-13T09:55:02.904222",
     "status": "completed"
    },
    "tags": []
   },
   "outputs": [
    {
     "name": "stdout",
     "output_type": "stream",
     "text": [
      "LogisticRegression: 80.57%\n",
      "KNeighborsClassifier: 77.48%\n",
      "DecisionTreeClassifier: 75.89%\n",
      "SVC: 79.33%\n",
      "linearSVC: 78.34%\n",
      "MLPClassifier: 81.62%\n",
      "RandomForestClassifier: 81.52%\n",
      "AdaBoostClassifier: 81.54%\n",
      "GaussianNB: 30.83%\n"
     ]
    }
   ],
   "source": [
    "results =[]\n",
    "    \n",
    "for name,model in models.items():\n",
    "    result = model.score(X_test,y_test)\n",
    "    results.append(result)\n",
    "    print(name+\": {:.2f}%\".format(result*100))"
   ]
  },
  {
   "cell_type": "markdown",
   "id": "123e82a5",
   "metadata": {
    "papermill": {
     "duration": 0.031194,
     "end_time": "2022-12-13T09:55:13.180063",
     "exception": false,
     "start_time": "2022-12-13T09:55:13.148869",
     "status": "completed"
    },
    "tags": []
   },
   "source": [
    "Ada Boost Classifier and MLPClassifier have the highest scores."
   ]
  },
  {
   "cell_type": "markdown",
   "id": "eb2950d9",
   "metadata": {
    "papermill": {
     "duration": 0.029967,
     "end_time": "2022-12-13T09:55:13.240326",
     "exception": false,
     "start_time": "2022-12-13T09:55:13.210359",
     "status": "completed"
    },
    "tags": []
   },
   "source": [
    "<a id= \"11\"></a>\n",
    "### Ada Boost Classifier "
   ]
  },
  {
   "cell_type": "code",
   "execution_count": 65,
   "id": "f4975ae6",
   "metadata": {
    "execution": {
     "iopub.execute_input": "2022-12-13T09:55:13.302215Z",
     "iopub.status.busy": "2022-12-13T09:55:13.301782Z",
     "iopub.status.idle": "2022-12-13T09:55:15.563125Z",
     "shell.execute_reply": "2022-12-13T09:55:15.561996Z"
    },
    "papermill": {
     "duration": 2.295527,
     "end_time": "2022-12-13T09:55:15.566062",
     "exception": false,
     "start_time": "2022-12-13T09:55:13.270535",
     "status": "completed"
    },
    "tags": []
   },
   "outputs": [],
   "source": [
    "clf = AdaBoostClassifier() \n",
    "clf.fit(X_train,y_train)\n",
    "y_pred_ABC = clf.predict(X_test)\n",
    "y_pred_probs = clf.predict_proba(X_test)[:, 1]\n"
   ]
  },
  {
   "cell_type": "code",
   "execution_count": 66,
   "id": "be219510",
   "metadata": {
    "execution": {
     "iopub.execute_input": "2022-12-13T09:55:15.629225Z",
     "iopub.status.busy": "2022-12-13T09:55:15.628773Z",
     "iopub.status.idle": "2022-12-13T09:55:15.887376Z",
     "shell.execute_reply": "2022-12-13T09:55:15.886145Z"
    },
    "papermill": {
     "duration": 0.293704,
     "end_time": "2022-12-13T09:55:15.890095",
     "exception": false,
     "start_time": "2022-12-13T09:55:15.596391",
     "status": "completed"
    },
    "tags": []
   },
   "outputs": [
    {
     "data": {
      "image/png": "[encoded data removed]",
      "text/plain": [
       "<Figure size 432x288 with 1 Axes>"
      ]
     },
     "metadata": {},
     "output_type": "display_data"
    }
   ],
   "source": [
    "fpr, tpr, thresholds = roc_curve(y_test, y_pred_probs)\n",
    "plt.plot([0, 1], [0, 1], 'k--')\n",
    "plt.plot(fpr, tpr)\n",
    "plt.xlabel('False Positive Rate')\n",
    "plt.ylabel('True Positive Rate')\n",
    "plt.title('AdaBoost Classifier ROC Curve')\n",
    "plt.show()"
   ]
  },
  {
   "cell_type": "code",
   "execution_count": 67,
   "id": "1bd22c2e",
   "metadata": {
    "execution": {
     "iopub.execute_input": "2022-12-13T09:55:15.955417Z",
     "iopub.status.busy": "2022-12-13T09:55:15.954560Z",
     "iopub.status.idle": "2022-12-13T09:55:15.967576Z",
     "shell.execute_reply": "2022-12-13T09:55:15.966431Z"
    },
    "papermill": {
     "duration": 0.048539,
     "end_time": "2022-12-13T09:55:15.970170",
     "exception": false,
     "start_time": "2022-12-13T09:55:15.921631",
     "status": "completed"
    },
    "tags": []
   },
   "outputs": [
    {
     "data": {
      "text/plain": [
       "0.7693647053905233"
      ]
     },
     "execution_count": 67,
     "metadata": {},
     "output_type": "execute_result"
    }
   ],
   "source": [
    "roc_auc_score(y_test, y_pred_probs)"
   ]
  },
  {
   "cell_type": "code",
   "execution_count": 68,
   "id": "94aeeb41",
   "metadata": {
    "execution": {
     "iopub.execute_input": "2022-12-13T09:55:16.033905Z",
     "iopub.status.busy": "2022-12-13T09:55:16.033511Z",
     "iopub.status.idle": "2022-12-13T09:55:16.044645Z",
     "shell.execute_reply": "2022-12-13T09:55:16.043254Z"
    },
    "papermill": {
     "duration": 0.046387,
     "end_time": "2022-12-13T09:55:16.047229",
     "exception": false,
     "start_time": "2022-12-13T09:55:16.000842",
     "status": "completed"
    },
    "tags": []
   },
   "outputs": [
    {
     "name": "stdout",
     "output_type": "stream",
     "text": [
      "[[7287  324]\n",
      " [1487  713]]\n"
     ]
    }
   ],
   "source": [
    "AdaBoostClassifier_cm = confusion_matrix(y_test,y_pred_ABC)\n",
    "print(AdaBoostClassifier_cm)"
   ]
  },
  {
   "cell_type": "code",
   "execution_count": 69,
   "id": "cd7cc944",
   "metadata": {
    "execution": {
     "iopub.execute_input": "2022-12-13T09:55:16.111701Z",
     "iopub.status.busy": "2022-12-13T09:55:16.110886Z",
     "iopub.status.idle": "2022-12-13T09:55:16.373800Z",
     "shell.execute_reply": "2022-12-13T09:55:16.372508Z"
    },
    "papermill": {
     "duration": 0.298903,
     "end_time": "2022-12-13T09:55:16.376407",
     "exception": false,
     "start_time": "2022-12-13T09:55:16.077504",
     "status": "completed"
    },
    "tags": []
   },
   "outputs": [
    {
     "data": {
      "image/png": "[encoded data removed]",
      "text/plain": [
       "<Figure size 432x288 with 2 Axes>"
      ]
     },
     "metadata": {},
     "output_type": "display_data"
    }
   ],
   "source": [
    "group_names = [\"True Neg\",\"False Pos\",\"False Neg\",\"True Pos\"]\n",
    "group_counts = [\"{0:0.0f}\".format(value) for value in\n",
    "                AdaBoostClassifier_cm.flatten()]\n",
    "group_percentages = [\"{0:.2%}\".format(value) for value in\n",
    "                     AdaBoostClassifier_cm.flatten()/np.sum(AdaBoostClassifier_cm)]\n",
    "labels = [f\"{v1}\\n{v2}\\n{v3}\" for v1, v2, v3 in\n",
    "          zip(group_names,group_counts,group_percentages)]\n",
    "labels = np.asarray(labels).reshape(2,2)\n",
    "sns.heatmap(AdaBoostClassifier_cm, annot=labels, fmt=\"\", cmap='Blues')\n",
    "plt.show()"
   ]
  },
  {
   "cell_type": "code",
   "execution_count": 70,
   "id": "4dd790f2",
   "metadata": {
    "execution": {
     "iopub.execute_input": "2022-12-13T09:55:16.440121Z",
     "iopub.status.busy": "2022-12-13T09:55:16.439665Z",
     "iopub.status.idle": "2022-12-13T09:55:17.099627Z",
     "shell.execute_reply": "2022-12-13T09:55:17.098290Z"
    },
    "papermill": {
     "duration": 0.695261,
     "end_time": "2022-12-13T09:55:17.102305",
     "exception": false,
     "start_time": "2022-12-13T09:55:16.407044",
     "status": "completed"
    },
    "tags": []
   },
   "outputs": [
    {
     "data": {
      "image/png": "[encoded data removed]",
      "text/plain": [
       "<Figure size 504x288 with 1 Axes>"
      ]
     },
     "metadata": {},
     "output_type": "display_data"
    }
   ],
   "source": [
    "tmp = pd.DataFrame({'Feature': X_test.columns, 'Feature importance': clf.feature_importances_})\n",
    "tmp = tmp.sort_values(by='Feature importance',ascending=False)\n",
    "plt.figure(figsize = (7,4))\n",
    "plt.title('Features importance',fontsize=14)\n",
    "s = sns.barplot(x='Feature',y='Feature importance',data=tmp)\n",
    "s.set_xticklabels(s.get_xticklabels(),rotation=90)\n",
    "plt.show()   "
   ]
  },
  {
   "cell_type": "code",
   "execution_count": 71,
   "id": "50b1ea19",
   "metadata": {
    "execution": {
     "iopub.execute_input": "2022-12-13T09:55:17.169424Z",
     "iopub.status.busy": "2022-12-13T09:55:17.168278Z",
     "iopub.status.idle": "2022-12-13T09:55:17.194568Z",
     "shell.execute_reply": "2022-12-13T09:55:17.193088Z"
    },
    "papermill": {
     "duration": 0.062969,
     "end_time": "2022-12-13T09:55:17.197201",
     "exception": false,
     "start_time": "2022-12-13T09:55:17.134232",
     "status": "completed"
    },
    "tags": []
   },
   "outputs": [
    {
     "name": "stdout",
     "output_type": "stream",
     "text": [
      "              precision    recall  f1-score   support\n",
      "\n",
      "           0       0.83      0.96      0.89      7611\n",
      "           1       0.69      0.32      0.44      2200\n",
      "\n",
      "    accuracy                           0.82      9811\n",
      "   macro avg       0.76      0.64      0.67      9811\n",
      "weighted avg       0.80      0.82      0.79      9811\n",
      "\n"
     ]
    }
   ],
   "source": [
    "print(classification_report(y_test,y_pred_ABC))"
   ]
  },
  {
   "cell_type": "code",
   "execution_count": null,
   "id": "27079b55",
   "metadata": {
    "papermill": {
     "duration": 0.031882,
     "end_time": "2022-12-13T09:55:17.260785",
     "exception": false,
     "start_time": "2022-12-13T09:55:17.228903",
     "status": "completed"
    },
    "tags": []
   },
   "outputs": [],
   "source": []
  },
  {
   "cell_type": "markdown",
   "id": "da247e4a",
   "metadata": {
    "papermill": {
     "duration": 0.031357,
     "end_time": "2022-12-13T09:55:17.323990",
     "exception": false,
     "start_time": "2022-12-13T09:55:17.292633",
     "status": "completed"
    },
    "tags": []
   },
   "source": [
    "<a id= \"12\"></a>\n",
    "### MLPClassifier"
   ]
  },
  {
   "cell_type": "code",
   "execution_count": 72,
   "id": "a919999d",
   "metadata": {
    "execution": {
     "iopub.execute_input": "2022-12-13T09:55:17.390399Z",
     "iopub.status.busy": "2022-12-13T09:55:17.389947Z",
     "iopub.status.idle": "2022-12-13T09:55:36.197335Z",
     "shell.execute_reply": "2022-12-13T09:55:36.195222Z"
    },
    "papermill": {
     "duration": 18.846088,
     "end_time": "2022-12-13T09:55:36.202627",
     "exception": false,
     "start_time": "2022-12-13T09:55:17.356539",
     "status": "completed"
    },
    "tags": []
   },
   "outputs": [],
   "source": [
    "mlp = MLPClassifier()\n",
    "mlp.fit(X_train,y_train)\n",
    "y_pred_mlp = mlp.predict(X_test)\n",
    "y_pred_probs1 = mlp.predict_proba(X_test)[:, 1]\n"
   ]
  },
  {
   "cell_type": "code",
   "execution_count": 73,
   "id": "e0a1f4ed",
   "metadata": {
    "execution": {
     "iopub.execute_input": "2022-12-13T09:55:36.338200Z",
     "iopub.status.busy": "2022-12-13T09:55:36.336994Z",
     "iopub.status.idle": "2022-12-13T09:55:36.530621Z",
     "shell.execute_reply": "2022-12-13T09:55:36.529160Z"
    },
    "papermill": {
     "duration": 0.247616,
     "end_time": "2022-12-13T09:55:36.533600",
     "exception": false,
     "start_time": "2022-12-13T09:55:36.285984",
     "status": "completed"
    },
    "tags": []
   },
   "outputs": [
    {
     "data": {
      "image/png": "[encoded data removed]",
      "text/plain": [
       "<Figure size 432x288 with 1 Axes>"
      ]
     },
     "metadata": {},
     "output_type": "display_data"
    }
   ],
   "source": [
    "fpr1, tpr1, thresholds1 = roc_curve(y_test, y_pred_probs1)\n",
    "plt.plot([0, 1], [0, 1], 'k--')\n",
    "plt.plot(fpr1, tpr1)\n",
    "plt.xlabel('False Positive Rate')\n",
    "plt.ylabel('True Positive Rate')\n",
    "plt.title('MLP Classifier ROC Curve')\n",
    "plt.show()"
   ]
  },
  {
   "cell_type": "code",
   "execution_count": 74,
   "id": "3a03b4b6",
   "metadata": {
    "execution": {
     "iopub.execute_input": "2022-12-13T09:55:36.600609Z",
     "iopub.status.busy": "2022-12-13T09:55:36.600097Z",
     "iopub.status.idle": "2022-12-13T09:55:36.613377Z",
     "shell.execute_reply": "2022-12-13T09:55:36.612274Z"
    },
    "papermill": {
     "duration": 0.049689,
     "end_time": "2022-12-13T09:55:36.615806",
     "exception": false,
     "start_time": "2022-12-13T09:55:36.566117",
     "status": "completed"
    },
    "tags": []
   },
   "outputs": [
    {
     "data": {
      "text/plain": [
       "0.7674562236475915"
      ]
     },
     "execution_count": 74,
     "metadata": {},
     "output_type": "execute_result"
    }
   ],
   "source": [
    "roc_auc_score(y_test, y_pred_probs1)"
   ]
  },
  {
   "cell_type": "code",
   "execution_count": 75,
   "id": "99b4a4ad",
   "metadata": {
    "execution": {
     "iopub.execute_input": "2022-12-13T09:55:36.683658Z",
     "iopub.status.busy": "2022-12-13T09:55:36.682552Z",
     "iopub.status.idle": "2022-12-13T09:55:36.692810Z",
     "shell.execute_reply": "2022-12-13T09:55:36.691116Z"
    },
    "papermill": {
     "duration": 0.047383,
     "end_time": "2022-12-13T09:55:36.695860",
     "exception": false,
     "start_time": "2022-12-13T09:55:36.648477",
     "status": "completed"
    },
    "tags": []
   },
   "outputs": [
    {
     "name": "stdout",
     "output_type": "stream",
     "text": [
      "[[7148  463]\n",
      " [1328  872]]\n"
     ]
    }
   ],
   "source": [
    "MLPClassifier_cm = confusion_matrix(y_test,y_pred_mlp)\n",
    "print(MLPClassifier_cm)"
   ]
  },
  {
   "cell_type": "code",
   "execution_count": 76,
   "id": "6b9084c8",
   "metadata": {
    "execution": {
     "iopub.execute_input": "2022-12-13T09:55:36.764209Z",
     "iopub.status.busy": "2022-12-13T09:55:36.763769Z",
     "iopub.status.idle": "2022-12-13T09:55:36.961598Z",
     "shell.execute_reply": "2022-12-13T09:55:36.960147Z"
    },
    "papermill": {
     "duration": 0.235833,
     "end_time": "2022-12-13T09:55:36.964657",
     "exception": false,
     "start_time": "2022-12-13T09:55:36.728824",
     "status": "completed"
    },
    "tags": []
   },
   "outputs": [
    {
     "data": {
      "image/png": "[encoded data removed]",
      "text/plain": [
       "<Figure size 432x288 with 2 Axes>"
      ]
     },
     "metadata": {},
     "output_type": "display_data"
    }
   ],
   "source": [
    "group_names = [\"True Neg\",\"False Pos\",\"False Neg\",\"True Pos\"]\n",
    "group_counts = [\"{0:0.0f}\".format(value) for value in\n",
    "                MLPClassifier_cm.flatten()]\n",
    "group_percentages = [\"{0:.2%}\".format(value) for value in\n",
    "                     MLPClassifier_cm.flatten()/np.sum(MLPClassifier_cm)]\n",
    "labels = [f\"{v1}\\n{v2}\\n{v3}\" for v1, v2, v3 in\n",
    "          zip(group_names,group_counts,group_percentages)]\n",
    "labels = np.asarray(labels).reshape(2,2)\n",
    "sns.heatmap(MLPClassifier_cm, annot=labels, fmt=\"\", cmap='Blues')\n",
    "plt.show()"
   ]
  },
  {
   "cell_type": "code",
   "execution_count": 77,
   "id": "1eacb1de",
   "metadata": {
    "execution": {
     "iopub.execute_input": "2022-12-13T09:55:37.031850Z",
     "iopub.status.busy": "2022-12-13T09:55:37.031371Z",
     "iopub.status.idle": "2022-12-13T09:55:37.056299Z",
     "shell.execute_reply": "2022-12-13T09:55:37.055001Z"
    },
    "papermill": {
     "duration": 0.06209,
     "end_time": "2022-12-13T09:55:37.059329",
     "exception": false,
     "start_time": "2022-12-13T09:55:36.997239",
     "status": "completed"
    },
    "tags": []
   },
   "outputs": [
    {
     "name": "stdout",
     "output_type": "stream",
     "text": [
      "              precision    recall  f1-score   support\n",
      "\n",
      "           0       0.84      0.94      0.89      7611\n",
      "           1       0.65      0.40      0.49      2200\n",
      "\n",
      "    accuracy                           0.82      9811\n",
      "   macro avg       0.75      0.67      0.69      9811\n",
      "weighted avg       0.80      0.82      0.80      9811\n",
      "\n"
     ]
    }
   ],
   "source": [
    "print(classification_report(y_test,y_pred_mlp))"
   ]
  },
  {
   "cell_type": "markdown",
   "id": "afd0dfb9",
   "metadata": {
    "papermill": {
     "duration": 0.032116,
     "end_time": "2022-12-13T09:55:37.124256",
     "exception": false,
     "start_time": "2022-12-13T09:55:37.092140",
     "status": "completed"
    },
    "tags": []
   },
   "source": [
    "<a id= \"13\"></a>\n",
    "# Conclusion"
   ]
  },
  {
   "cell_type": "markdown",
   "id": "15be634c",
   "metadata": {
    "papermill": {
     "duration": 0.033985,
     "end_time": "2022-12-13T09:55:37.190623",
     "exception": false,
     "start_time": "2022-12-13T09:55:37.156638",
     "status": "completed"
    },
    "tags": []
   },
   "source": [
    "It can be said that Ada Boost Classification and MLP Classifier are good model in order to predict credit card default."
   ]
  }
 ],
 "metadata": {
  "kernelspec": {
   "display_name": "Python 3",
   "language": "python",
   "name": "python3"
  },
  "language_info": {
   "codemirror_mode": {
    "name": "ipython",
    "version": 3
   },
   "file_extension": ".py",
   "mimetype": "text/x-python",
   "name": "python",
   "nbconvert_exporter": "python",
   "pygments_lexer": "ipython3",
   "version": "3.7.12"
  },
  "papermill": {
   "default_parameters": {},
   "duration": 105.203392,
   "end_time": "2022-12-13T09:55:38.046616",
   "environment_variables": {},
   "exception": null,
   "input_path": "__notebook__.ipynb",
   "output_path": "__notebook__.ipynb",
   "parameters": {},
   "start_time": "2022-12-13T09:53:52.843224",
   "version": "2.3.4"
  }
 },
 "nbformat": 4,
 "nbformat_minor": 5
}
